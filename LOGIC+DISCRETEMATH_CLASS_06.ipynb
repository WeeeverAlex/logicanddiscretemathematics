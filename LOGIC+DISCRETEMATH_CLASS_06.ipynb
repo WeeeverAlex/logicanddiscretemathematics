{
  "nbformat": 4,
  "nbformat_minor": 0,
  "metadata": {
    "colab": {
      "provenance": [],
      "authorship_tag": "ABX9TyOqX2ZuNdmqwdTmKEzK/qIA",
      "include_colab_link": true
    },
    "kernelspec": {
      "name": "python3",
      "display_name": "Python 3"
    },
    "language_info": {
      "name": "python"
    }
  },
  "cells": [
    {
      "cell_type": "markdown",
      "metadata": {
        "id": "view-in-github",
        "colab_type": "text"
      },
      "source": [
        "<a href=\"https://colab.research.google.com/github/lucianosilva-github/logicanddiscretemathematics/blob/main/LOGIC%2BDISCRETEMATH_CLASS_06.ipynb\" target=\"_parent\"><img src=\"https://colab.research.google.com/assets/colab-badge.svg\" alt=\"Open In Colab\"/></a>"
      ]
    },
    {
      "cell_type": "markdown",
      "source": [
        "<div class=\"alert alert-block alert-info\">\n",
        "\n",
        "#**CLASS 06 - LINEAR TEMPORAL LOGIC (LTL) - PART IV**\n",
        "**Learning Objectives:**\n",
        "*   Reviewing of Kripke Structures\n",
        "*   Reviewing of Model Checking in LTL\n",
        "*   Advanced Model Checking in PL/LTL\n",
        "</div>\n"
      ],
      "metadata": {
        "id": "33EEpDW7pOaO"
      }
    },
    {
      "cell_type": "markdown",
      "source": [
        "**KRIPKE STRUCTURES REVIEW**\n",
        "\n",
        "A Kripke structure is a **directed graph**, equipped with a set of initial nodes, such that **every node** is source of some edge and it **is labeled by a set of atomic propositions**. The nodes of Kripke structure are called states:\n",
        "\n",
        "A Kripke structure is a tuple (𝑆,𝑆0,𝑅,𝐿) such that:\n",
        "\n",
        "* 𝑆 is a finite set of states\n",
        "* 𝑆0⊆𝑆 is a set of initial states\n",
        "* 𝑅⊆𝑆×𝑆 is a set of transitions such that for all 𝑠∈𝑆 there exists a (𝑠,𝑠′)∈𝑅 for some 𝑠′∈𝑆\n",
        "* 𝐿:𝑆→2^{AP} maps each state into a set of atomic propositions. Sometimes, the set of initial states is omitted. In such cases, 𝑆 and 𝑆0 coincide.\n",
        "\n",
        "A computation of a Kripke structure (𝑆,𝑆0,𝑅,𝐿) is an infinite path of (𝑆,𝑅) that starts from some 𝑠∈𝑆0. In the following code we are specifying a Kripke structure using the Python module pyModelChecking."
      ],
      "metadata": {
        "id": "kZZ_vmTNGigT"
      }
    },
    {
      "cell_type": "code",
      "source": [
        "!pip install pyModelChecking"
      ],
      "metadata": {
        "id": "Qu_lkt5DKjqG",
        "colab": {
          "base_uri": "https://localhost:8080/"
        },
        "outputId": "cb901f5b-04bc-4ef6-a071-21c088278aea"
      },
      "execution_count": 1,
      "outputs": [
        {
          "output_type": "stream",
          "name": "stdout",
          "text": [
            "Looking in indexes: https://pypi.org/simple, https://us-python.pkg.dev/colab-wheels/public/simple/\n",
            "Collecting pyModelChecking\n",
            "  Downloading pyModelChecking-1.3.3-py3-none-any.whl (47 kB)\n",
            "\u001b[2K     \u001b[90m━━━━━━━━━━━━━━━━━━━━━━━━━━━━━━━━━━━━━━━━\u001b[0m \u001b[32m47.4/47.4 KB\u001b[0m \u001b[31m2.0 MB/s\u001b[0m eta \u001b[36m0:00:00\u001b[0m\n",
            "\u001b[?25hCollecting lark-parser\n",
            "  Downloading lark_parser-0.12.0-py2.py3-none-any.whl (103 kB)\n",
            "\u001b[2K     \u001b[90m━━━━━━━━━━━━━━━━━━━━━━━━━━━━━━━━━━━━━━━\u001b[0m \u001b[32m103.5/103.5 KB\u001b[0m \u001b[31m5.0 MB/s\u001b[0m eta \u001b[36m0:00:00\u001b[0m\n",
            "\u001b[?25hInstalling collected packages: lark-parser, pyModelChecking\n",
            "Successfully installed lark-parser-0.12.0 pyModelChecking-1.3.3\n"
          ]
        }
      ]
    },
    {
      "cell_type": "code",
      "source": [
        "from pyModelChecking import Kripke\n",
        "\n",
        "K=Kripke(S=[0,1,2], S0=[0], R=[(0,1),(1,2),(2,2)], L={0: set(['p']), 1:set(['p','q']), 2: set([''])})"
      ],
      "metadata": {
        "id": "vl5DEMkfMaLa"
      },
      "execution_count": null,
      "outputs": []
    },
    {
      "cell_type": "markdown",
      "source": [
        "**SEMANTICS REVIEW**\n",
        "\n",
        "If 𝐾 is a Kripke structure, 𝑠 one of its states, and 𝜑 a propositional formula, we write 𝐾,𝑠⊨𝜑 (to be read “𝐾 and 𝑠 satisfy 𝜑 ”) meaning that 𝜑 holds at state 𝑠 in 𝐾.\n",
        "\n",
        "Let 𝐾 be the Kripke structure (𝑆,𝑆0,𝑅,𝐿); the relation ⊨ is defined recursively as follows:\n",
        "\n",
        "* 𝐾,𝑠⊨⊤ and 𝐾,𝑠⊭⊥ for any state 𝑠∈𝑆\n",
        "* if 𝑝∈𝐴𝑃, then 𝐾,𝑠⊨𝑝 ⟺ 𝑝∈𝐿(𝑠)\n",
        "* 𝐾,𝑠⊨¬𝜑 ⟺ 𝐾,𝑠⊭𝜑\n",
        "* 𝐾,𝑠⊨𝜑1∧𝜑2 ⟺ 𝐾,𝑠⊨𝜑1 and 𝐾,𝑠⊨𝜑2\n",
        "* 𝐾,𝑠⊨𝜑1∨𝜑2 ⟺ 𝐾,𝑠⊨𝜑1 or 𝐾,𝑠⊨𝜑2\n",
        "* 𝐾,𝑠⊨𝜑1→𝜑2 ⟺ 𝐾,𝑠⊭𝜑1 or 𝐾,𝑠⊨𝜑2"
      ],
      "metadata": {
        "id": "ldH4O8QG_22o"
      }
    },
    {
      "cell_type": "markdown",
      "source": [
        "**MODEL CHECKING REVIEW**\n",
        "\n",
        "Model checking is a technique to establish the set of states in Kripke structure that satisfy a given temporal formula. More formally, provided a Kripke structure 𝐾=(𝑆,𝑆0,𝑅,𝐿) and a temporal formula 𝜑, model checking aims to identify 𝑆′⊆𝑆 such that 𝐾,𝑠𝑖⊨𝜑 for all 𝑠𝑖∈𝑆′.\n"
      ],
      "metadata": {
        "id": "70oTPRG9Bzl9"
      }
    },
    {
      "cell_type": "code",
      "source": [
        "from pyModelChecking import *\n",
        "from pyModelChecking.LTL import *\n",
        "\n",
        "K=Kripke(R=[(0,0),(0,1),(1,2),(2,2),(3,3)], L={0: set(['p']), 1:set(['p','q']),3:set(['p'])})\n",
        "modelcheck(K,'A (not q)')"
      ],
      "metadata": {
        "id": "Z38_z_zjFq82"
      },
      "execution_count": null,
      "outputs": []
    },
    {
      "cell_type": "markdown",
      "source": [
        "**ADVANCED PL/LTL MODEL CHECKING**\n",
        "\n",
        "pyModelChecking provides a user friendly support for building CTL*, CTL and LTL formulas. Each of these languages corresponds to a pyModelChecking’s sub-module which implements all the classes required to encode the corresponding formulas.\n",
        "\n",
        "Propositional logic is also supported by pyModelChecking as a shared basis for all the possible temporal logics.\n",
        "\n",
        "Propositional logics support is provided by including the pyModelChecking.language sub-module. This sub-module allows to represents atomic propositions and Boolean values through the pyModelChecking.formula.AtomicProposition and pyModelChecking.formula.Bool classes, respectively."
      ],
      "metadata": {
        "id": "TESDQJSJYT3q"
      }
    },
    {
      "cell_type": "code",
      "source": [
        "from pyModelChecking.PL import *\n",
        "print(AtomicProposition('p'))\n",
        "print(Bool(True))\n",
        "print(And('p', True))\n",
        "print(And('p', True, 'p'))"
      ],
      "metadata": {
        "colab": {
          "base_uri": "https://localhost:8080/"
        },
        "id": "ySP6QcJ_alyV",
        "outputId": "6d989cc6-325a-49d0-ba1e-b38dc9d3f56a"
      },
      "execution_count": 5,
      "outputs": [
        {
          "output_type": "stream",
          "name": "stdout",
          "text": [
            "p\n",
            "true\n",
            "(p and true)\n",
            "(p and true and p)\n"
          ]
        }
      ]
    },
    {
      "cell_type": "code",
      "source": [
        "f = Imply('q','p')\n",
        "print(And('p', f, Imply(Not(f), Or('q','s', f))))"
      ],
      "metadata": {
        "colab": {
          "base_uri": "https://localhost:8080/"
        },
        "id": "mK2KoVU2a1Ut",
        "outputId": "aae83000-1628-4c04-e9a0-cbdcaa62b4c1"
      },
      "execution_count": 6,
      "outputs": [
        {
          "output_type": "stream",
          "name": "stdout",
          "text": [
            "(p and (q --> p) and (not (q --> p) --> (q or s or (q --> p))))\n"
          ]
        }
      ]
    },
    {
      "cell_type": "code",
      "source": [
        "f = 'p' & Bool(True)\n",
        "~('p' & Bool(True)) | And(~f,'b')"
      ],
      "metadata": {
        "id": "TkdWURFZcTs2",
        "outputId": "d24c21fa-1f3a-44e3-d788-68bd92592639",
        "colab": {
          "base_uri": "https://localhost:8080/"
        }
      },
      "execution_count": 7,
      "outputs": [
        {
          "output_type": "execute_result",
          "data": {
            "text/plain": [
              "(not (p and true) or (not (p and true) and b))"
            ]
          },
          "metadata": {},
          "execution_count": 7
        }
      ]
    },
    {
      "cell_type": "markdown",
      "source": [
        "The module pyModelChecking.PL also provides a parsing class pyModelChecking.PL.Parser for propositional formula. Its objects read a formula from a string and, when it is possible, translate it into the corresponding pyModelChecking.PL.Formula objects."
      ],
      "metadata": {
        "id": "iFpj-cnYc8Ny"
      }
    },
    {
      "cell_type": "code",
      "source": [
        "p = Parser()\n",
        "p('(~p and q) --> ((q | p))')"
      ],
      "metadata": {
        "id": "v2MGgbuuc9sB",
        "outputId": "688481a5-8a17-417b-b625-c737810e7230",
        "colab": {
          "base_uri": "https://localhost:8080/"
        }
      },
      "execution_count": 8,
      "outputs": [
        {
          "output_type": "execute_result",
          "data": {
            "text/plain": [
              "((not p and q) --> (q or p))"
            ]
          },
          "metadata": {},
          "execution_count": 8
        }
      ]
    },
    {
      "cell_type": "markdown",
      "source": [
        "A complete description of the parser grammar is contained in class attribute pyModelChecking.PL.Parser.grammar:"
      ],
      "metadata": {
        "id": "nzpzmFPmdKma"
      }
    },
    {
      "cell_type": "code",
      "source": [
        "print(p.grammar)"
      ],
      "metadata": {
        "id": "b7sCu5JSdMuC",
        "outputId": "2e081b2a-42a7-4f27-8091-54a2e0a316aa",
        "colab": {
          "base_uri": "https://localhost:8080/"
        }
      },
      "execution_count": 9,
      "outputs": [
        {
          "output_type": "stream",
          "name": "stdout",
          "text": [
            "\n",
            "        s_formula: \"true\"     -> true\n",
            "                 | \"false\"    -> false\n",
            "                 | a_prop\n",
            "                 | \"(\" s_formula \")\"\n",
            "\n",
            "        u_formula: (\"not\"|\"~\") u_formula  -> not_formula\n",
            "                 | \"(\" b_formula \")\"\n",
            "                 | s_formula\n",
            "\n",
            "        b_formula: u_formula\n",
            "                 | u_formula ( (\"or\"|\"|\") u_formula )+ -> or_formula\n",
            "                 | u_formula ( (\"and\"|\"&\") u_formula )+ -> and_formula\n",
            "                 | u_formula (\"-->\") u_formula -> imply_formula\n",
            "\n",
            "        a_prop: /[a-zA-Z_][a-zA-Z_0-9]*/ -> string\n",
            "              | ESCAPED_STRING           -> e_string\n",
            "\n",
            "        formula: b_formula\n",
            "\n",
            "        %import common.ESCAPED_STRING\n",
            "        %import common.WS\n",
            "        %ignore WS\n",
            "        \n"
          ]
        }
      ]
    },
    {
      "cell_type": "markdown",
      "source": [
        "**EXERCISE 1**\n",
        "\n",
        "Reactive systems are examples of systems that can be modeled by Kripke Structures. Consider, for instance, a lamp. Model a lamp as Kripke Structure and check some tests."
      ],
      "metadata": {
        "id": "QTy_A4zWfZMy"
      }
    },
    {
      "cell_type": "code",
      "source": [
        "#TYPE YOUR IMPLEMENTATION HERE"
      ],
      "metadata": {
        "id": "pR8OsEl4f47S"
      },
      "execution_count": null,
      "outputs": []
    },
    {
      "cell_type": "markdown",
      "source": [
        "**EXERCISE 2**\n",
        "\n",
        "Model the AND DIGITAL PORT as a Kripke Structure and check some tests."
      ],
      "metadata": {
        "id": "3aztNKHYgIxA"
      }
    },
    {
      "cell_type": "code",
      "source": [
        "#TYPE YOUR IMPLEMENTATION HERE"
      ],
      "metadata": {
        "id": "aOu-HMF7gli4"
      },
      "execution_count": null,
      "outputs": []
    },
    {
      "cell_type": "markdown",
      "source": [
        "**EXERCISE 3**\n",
        "\n",
        "Modela semaphore (GREEN, YELLOW and RED) semaphore as a Kripke Structure and check some tests."
      ],
      "metadata": {
        "id": "6FQGjF0egrd4"
      }
    },
    {
      "cell_type": "code",
      "source": [
        "#IMPLEMENT YOUR CODE HERE"
      ],
      "metadata": {
        "id": "5EtpZElAhAy6"
      },
      "execution_count": null,
      "outputs": []
    },
    {
      "cell_type": "markdown",
      "source": [
        "### **HOMEWORK** "
      ],
      "metadata": {
        "id": "keKsSkvVT5Xn"
      }
    },
    {
      "cell_type": "markdown",
      "source": [
        "**EXERCISE 1** \n",
        "\n",
        "Implement a Kripke Structure for the following Python program and check some formulas:\n",
        "\n",
        "V=[4,2,5,6,8]\n",
        "\n",
        "max=0\n",
        "\n",
        "for i in range(size(V)):\n",
        "\n",
        "    if V[i]>max:\n",
        "\n",
        "      max=V[i]"
      ],
      "metadata": {
        "id": "LQSx58gPL5Tp"
      }
    },
    {
      "cell_type": "code",
      "source": [
        "#TYPE YOUR IMPLEMENTATION HERE"
      ],
      "metadata": {
        "id": "fKP-gxxiM78c"
      },
      "execution_count": null,
      "outputs": []
    },
    {
      "cell_type": "markdown",
      "source": [
        "**EXERCISE 2** \n",
        "\n",
        "Implement a Kripke Structure for the following Python program and check some formulas:\n",
        "\n",
        "V=[4,2,5,6,8]\n",
        "\n",
        "max=0\n",
        "\n",
        "for i in range(size(V)-1):\n",
        "\n",
        "    for j in range(size(V)):\n",
        "\n",
        "      if V[j]<V[i]:\n",
        "\n",
        "        aux = V[i]\n",
        "\n",
        "        V[i]=V[j]\n",
        "\n",
        "        V[j]=aux\n",
        "\n",
        "\n",
        "    "
      ],
      "metadata": {
        "id": "1L7DXf1dNEar"
      }
    },
    {
      "cell_type": "code",
      "source": [
        "#TYPE YOUR SOLUTION HERE"
      ],
      "metadata": {
        "id": "s_9emTZHNze9"
      },
      "execution_count": null,
      "outputs": []
    }
  ]
}