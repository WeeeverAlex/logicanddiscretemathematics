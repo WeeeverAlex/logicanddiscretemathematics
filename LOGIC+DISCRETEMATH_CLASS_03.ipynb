{
  "nbformat": 4,
  "nbformat_minor": 0,
  "metadata": {
    "colab": {
      "provenance": [],
      "authorship_tag": "ABX9TyP0YUWWztL06Hqgtr6HMNX6",
      "include_colab_link": true
    },
    "kernelspec": {
      "name": "python3",
      "display_name": "Python 3"
    },
    "language_info": {
      "name": "python"
    }
  },
  "cells": [
    {
      "cell_type": "markdown",
      "metadata": {
        "id": "view-in-github",
        "colab_type": "text"
      },
      "source": [
        "<a href=\"https://colab.research.google.com/github/lucianosilva-github/logicanddiscretemathematics/blob/main/LOGIC%2BDISCRETEMATH_CLASS_03.ipynb\" target=\"_parent\"><img src=\"https://colab.research.google.com/assets/colab-badge.svg\" alt=\"Open In Colab\"/></a>"
      ]
    },
    {
      "cell_type": "markdown",
      "source": [
        "<div class=\"alert alert-block alert-info\">\n",
        "\n",
        "#**CLASS 03 - LINEAR TEMPORAL LOGIC (LTL) - PART I**\n",
        "**Learning Objectives:**\n",
        "*   Understanding of Linear Temporal Logic (LTL)\n",
        "*   Understanding of LTL Unary Operators\n",
        "*   Implementation using LTL Unary Operators\n",
        "\n",
        "</div>\n"
      ],
      "metadata": {
        "id": "33EEpDW7pOaO"
      }
    },
    {
      "cell_type": "markdown",
      "source": [
        "## **LINEAR TEMPORAL LOGIC (LTL)**\n",
        "\n",
        "In logic, linear temporal logic or linear-time temporal logic (LTL) is a modal temporal logic with modalities referring to time. In LTL, one can encode formulae about the future of paths, e.g., a condition will eventually be true, a condition will be true until another fact becomes true, etc. It is a fragment of the more complex CTL, which additionally allows branching time and quantifiers. LTL is sometimes called propositional temporal logic, abbreviated PTL. In terms of expressive power, linear temporal logic (LTL) is a fragment of first-order logic.\n",
        "\n",
        "LTL is an extension of Propositional Logic and it can be defined in the following way:\n",
        "\n",
        "*   ¬ψ, φ ∨ ψ, φ ∧ ψ, φ -> ψ and φ <-> ψ are in LTL (PL is a subset of LTL)\n",
        "*   a set of unary operators **X**ψ (ne**X**t), **F**ψ (**F**inally) e **G**ψ (**G**lobally)\n",
        "*   a set of binary operators φ**U**ψ (**U**ntil), φ**R**ψ(**R**elease), φ**W**ψ (**W**eak until) e φ**M**ψ (Strong release).\n",
        "\n",
        "In this class, we will study the unary operators of LTL.\n",
        "\n"
      ],
      "metadata": {
        "id": "kZiBpTcaqciT"
      }
    },
    {
      "cell_type": "markdown",
      "source": [
        "## **UNARY LTL OPERATORS**\n",
        "\n",
        "In LTL we have three unitary operators:\n",
        "\n",
        "<table>\n",
        "  <tr>\n",
        "    <th>Operator</th>\n",
        "    <th>Meaning</th>\n",
        "  </tr>\n",
        "  <tr>\n",
        "    <td>Xψ</td>\n",
        "    <td>neXt: ψ has to hold at the next state</td>\n",
        "  </tr>\n",
        "  <tr>\n",
        "    <td>Fψ</td>\n",
        "    <td>Finally: ψ eventually has to hold (somewhere on the subsequent path)</td>\n",
        "  </tr>\n",
        "\n",
        "  <tr>\n",
        "    <td>Gψ</td>\n",
        "    <td>Globally: ψ has to hold on the entire subsequent path</td>\n",
        "    <td> </td>\n",
        "  </tr>\n",
        "</table>\n",
        "\n",
        "The graphical interpretation of these 3 operators is depicted below:\n",
        "\n",
        "\n",
        "\n",
        "We have several identities using these unary operators:\n",
        "\n",
        "* X (φ ∨ ψ) ≡ (X φ) ∨ (X ψ)\n",
        "* X (φ ∧ ψ) ≡ (X φ) ∧ (X ψ)\n",
        "* F (φ ∨ ψ) ≡ (F φ) ∨ (F ψ)\n",
        "* G (φ ∧ ψ) ≡ (G φ) ∧ (G ψ)\n",
        "* ¬X φ ≡ X ¬φ\n",
        "* F φ ≡ G ¬φ\n",
        "* ¬G φ ≡ F ¬φ\n",
        "* F φ ≡ F F φ\n",
        "* G φ ≡ G G φ\n",
        "* G φ ≡ φ ∧ X(G φ)\n",
        "* F φ ≡ φ ∨ X(F φ)\n"
      ],
      "metadata": {
        "id": "HmNch-irLUjT"
      }
    },
    {
      "cell_type": "markdown",
      "source": [
        "### **EXERCISE 1** \n",
        "\n",
        "Using the module FLLOAT, prove the identity X (φ ∨ ψ) ≡ (X φ) ∨ (X ψ)"
      ],
      "metadata": {
        "id": "3ypLUjyP2u9Q"
      }
    },
    {
      "cell_type": "code",
      "source": [
        "!pip install flloat"
      ],
      "metadata": {
        "id": "Qu_lkt5DKjqG"
      },
      "execution_count": null,
      "outputs": []
    },
    {
      "cell_type": "code",
      "source": [
        "from flloat.parser.ltlf import LTLfParser\n",
        "\n",
        "# parse the formula\n",
        "parser = LTLfParser()\n",
        "formula = \"F (X(fi|psi)->X(fi)|X(psi))\"\n",
        "parsed_formula = parser(formula)\n",
        "dfa = parsed_formula.to_automaton()\n",
        "graph = dfa.to_graphviz()\n",
        "graph"
      ],
      "metadata": {
        "id": "TfhTh1dvL3jC"
      },
      "execution_count": null,
      "outputs": []
    },
    {
      "cell_type": "code",
      "source": [
        "from pickle import TRUE\n",
        "test = [{\"fi\": False, \"psi\": False},\n",
        "        {\"fi\": False, \"psi\": True},\n",
        "        {\"fi\": True, \"psi\": False},\n",
        "        {\"fi\": True, \"psi\": True}]\n",
        "assert dfa.accepts(test)"
      ],
      "metadata": {
        "id": "K86-bbKyPY6W"
      },
      "execution_count": 8,
      "outputs": []
    },
    {
      "cell_type": "markdown",
      "source": [
        "### **EXERCISE 2** \n",
        "\n",
        "Using the module FLLOAT, prove the following identities and test them:\n",
        "\n",
        "* X (φ ∧ ψ) ≡ (X φ) ∧ (X ψ)\n",
        "* F (φ ∨ ψ) ≡ (F φ) ∨ (F ψ)\n",
        "* G (φ ∧ ψ) ≡ (G φ) ∧ (G ψ)\n",
        "* ¬X φ ≡ X ¬φ\n",
        "* F φ ≡ G ¬φ\n",
        "* ¬G φ ≡ F ¬φ"
      ],
      "metadata": {
        "id": "ctTfJL7wZ5Ta"
      }
    },
    {
      "cell_type": "code",
      "source": [
        "#TYPE YOUR SOLUTIONS HERE"
      ],
      "metadata": {
        "id": "0beQhOahaMH0"
      },
      "execution_count": null,
      "outputs": []
    },
    {
      "cell_type": "markdown",
      "source": [
        "### **HOMEWORK** \n",
        "\n",
        "Using the module FLLOAT, prove the following identities and test them:\n",
        "\n",
        "* F φ ≡ F F φ\n",
        "* G φ ≡ G G φ\n",
        "* G φ ≡ φ ∧ X(G φ)\n",
        "* F φ ≡ φ ∨ X(F φ)"
      ],
      "metadata": {
        "id": "keKsSkvVT5Xn"
      }
    },
    {
      "cell_type": "code",
      "source": [
        "#TYPE YOUR IMPLEMENTATION HERE"
      ],
      "metadata": {
        "id": "mO6HgduF-Xxf"
      },
      "execution_count": null,
      "outputs": []
    }
  ]
}