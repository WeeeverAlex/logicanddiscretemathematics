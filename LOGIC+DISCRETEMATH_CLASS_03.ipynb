{
  "nbformat": 4,
  "nbformat_minor": 0,
  "metadata": {
    "colab": {
      "provenance": [],
      "authorship_tag": "ABX9TyOhEd65ftN/HoTazAhKxj+O",
      "include_colab_link": true
    },
    "kernelspec": {
      "name": "python3",
      "display_name": "Python 3"
    },
    "language_info": {
      "name": "python"
    }
  },
  "cells": [
    {
      "cell_type": "markdown",
      "metadata": {
        "id": "view-in-github",
        "colab_type": "text"
      },
      "source": [
        "<a href=\"https://colab.research.google.com/github/lucianosilva-github/logicanddiscretemathematics/blob/main/LOGIC%2BDISCRETEMATH_CLASS_03.ipynb\" target=\"_parent\"><img src=\"https://colab.research.google.com/assets/colab-badge.svg\" alt=\"Open In Colab\"/></a>"
      ]
    },
    {
      "cell_type": "markdown",
      "source": [
        "<div class=\"alert alert-block alert-info\">\n",
        "\n",
        "#**CLASS 03 - LINEAR TEMPORAL LOGIC (LTL) - PART I**\n",
        "**Learning Objectives:**\n",
        "*   Understanding of Linear Temporal Logic (LTL)\n",
        "*   Understanding of LTL Operators\n",
        "*   Implementation using LTL Operators\n",
        "\n",
        "</div>\n"
      ],
      "metadata": {
        "id": "33EEpDW7pOaO"
      }
    },
    {
      "cell_type": "markdown",
      "source": [
        "## **LINEAR TEMPORAL LOGIC (LTL)**\n",
        "\n",
        "Propositional calculus is a branch of logic. It is also called propositional logic, statement logic, sentential calculus, sentential logic, or sometimes zeroth-order logic. It deals with propositions (which can be true or false) and relations between propositions, including the construction of arguments based on them. Compound propositions are formed by connecting propositions by logical connectives. Propositions that contain no logical connectives are called atomic propositions.\n",
        "\n",
        "Unlike first-order logic, propositional logic does not deal with non-logical objects, predicates about them, or quantifiers. However, all the machinery of propositional logic is included in first-order logic and higher-order logics. In this sense, propositional logic is the foundation of first-order logic and higher-order logic. "
      ],
      "metadata": {
        "id": "kZiBpTcaqciT"
      }
    },
    {
      "cell_type": "markdown",
      "source": [
        "Logical connectives are found in natural languages. In English for example, some examples are \"and\" (conjunction), \"or\" (disjunction), \"not\" (negation) and \"if\" (but only when used to denote material conditional).\n",
        "\n",
        "The following is an example of a very simple inference within the scope of propositional logic:\n",
        "\n",
        "    Premise 1: If it's raining then it's cloudy.\n",
        "    Premise 2: It's raining.\n",
        "    Conclusion: It's cloudy.\n",
        "\n",
        "Both premises and the conclusion are propositions. The premises are taken for granted, and with the application of modus ponens (an inference rule), the conclusion follows.\n",
        "\n",
        "As propositional logic is not concerned with the structure of propositions beyond the point where they can't be decomposed any more by logical connectives, this inference can be restated replacing those atomic statements with statement letters, which are interpreted as variables representing statements:\n",
        "\n",
        "    Premise 1: P → Q \n",
        "    Premise 2: P\n",
        "    Conclusion: Q\n",
        "\n",
        "The same can be stated succinctly in the following way:\n",
        "\n",
        "    P → Q, P\n",
        "    ________\n",
        "      Q\n",
        "\n",
        "\n",
        "When P is interpreted as \"It's raining\" and Q as \"it's cloudy\" the above symbolic expressions can be seen to correspond exactly with the original expression in natural language. Not only that, but they will also correspond with any other inference of this form, which will be valid on the same basis this inference is.\n",
        "\n",
        "Propositional logic may be studied through a formal system in which formulas of a formal language may be interpreted to represent propositions. A system of axioms and inference rules allows certain formulas to be derived. These derived formulas are called theorems and may be interpreted to be true propositions. A constructed sequence of such formulas is known as a derivation or proof and the last formula of the sequence is the theorem. The derivation may be interpreted as proof of the proposition represented by the theorem.\n",
        "\n",
        "When a formal system is used to represent formal logic, only statement letters (usually capital roman letters such as P P, Q Q and R R) are represented directly. The natural language propositions that arise when they're interpreted are outside the scope of the system, and the relation between the formal system and its interpretation is likewise outside the formal system itself.\n",
        "\n",
        "In classical truth-functional propositional logic, formulas are interpreted as having precisely one of two possible truth values, the truth value of true or the truth value of false.The principle of bivalence and the law of excluded middle are upheld. Truth-functional propositional logic defined as such and systems isomorphic to it are considered to be zeroth-order logic. However, alternative propositional logics are also possible."
      ],
      "metadata": {
        "id": "E-x6A4P_r7hQ"
      }
    },
    {
      "cell_type": "markdown",
      "source": [
        "### **EXERCISE 1** \n",
        "\n",
        "Using the module FLLOAT, verify the **Negation introduction**: from ( p → q ) and ( p → ¬ q ) , infer ¬ p. "
      ],
      "metadata": {
        "id": "3ypLUjyP2u9Q"
      }
    },
    {
      "cell_type": "code",
      "source": [
        "!pip install flloat"
      ],
      "metadata": {
        "id": "Qu_lkt5DKjqG",
        "colab": {
          "base_uri": "https://localhost:8080/"
        },
        "outputId": "14bfcbfc-955c-43b0-ff20-55d58c880169"
      },
      "execution_count": null,
      "outputs": [
        {
          "output_type": "stream",
          "name": "stdout",
          "text": [
            "Looking in indexes: https://pypi.org/simple, https://us-python.pkg.dev/colab-wheels/public/simple/\n",
            "Collecting flloat\n",
            "  Downloading flloat-0.3.0-py2.py3-none-any.whl (39 kB)\n",
            "Collecting lark-parser\n",
            "  Downloading lark_parser-0.12.0-py2.py3-none-any.whl (103 kB)\n",
            "\u001b[2K     \u001b[90m━━━━━━━━━━━━━━━━━━━━━━━━━━━━━━━━━━━━━━━\u001b[0m \u001b[32m103.5/103.5 KB\u001b[0m \u001b[31m9.2 MB/s\u001b[0m eta \u001b[36m0:00:00\u001b[0m\n",
            "\u001b[?25hRequirement already satisfied: sympy in /usr/local/lib/python3.8/dist-packages (from flloat) (1.7.1)\n",
            "Collecting pythomata>=0.3.2\n",
            "  Downloading pythomata-0.3.2-py2.py3-none-any.whl (23 kB)\n",
            "Requirement already satisfied: graphviz in /usr/local/lib/python3.8/dist-packages (from pythomata>=0.3.2->flloat) (0.10.1)\n",
            "Requirement already satisfied: mpmath>=0.19 in /usr/local/lib/python3.8/dist-packages (from sympy->flloat) (1.2.1)\n",
            "Installing collected packages: lark-parser, pythomata, flloat\n",
            "Successfully installed flloat-0.3.0 lark-parser-0.12.0 pythomata-0.3.2\n"
          ]
        }
      ]
    },
    {
      "cell_type": "code",
      "source": [
        "from flloat.parser.ltlf import LTLfParser\n",
        "\n",
        "# parse the formula\n",
        "parser = LTLfParser()\n",
        "formula = \"F (((p->q) & (p->!q))->!p)\"\n",
        "parsed_formula = parser(formula)\n",
        "dfa = parsed_formula.to_automaton()\n",
        "graph = dfa.to_graphviz()\n",
        "graph"
      ],
      "metadata": {
        "id": "TfhTh1dvL3jC",
        "colab": {
          "base_uri": "https://localhost:8080/",
          "height": 305
        },
        "outputId": "3a9dca5d-fec8-4d99-ef7e-7c17ca6ab802"
      },
      "execution_count": null,
      "outputs": [
        {
          "output_type": "execute_result",
          "data": {
            "text/plain": [
              "<graphviz.dot.Digraph at 0x7f93c529be50>"
            ],
            "image/svg+xml": "<?xml version=\"1.0\" encoding=\"UTF-8\" standalone=\"no\"?>\n<!DOCTYPE svg PUBLIC \"-//W3C//DTD SVG 1.1//EN\"\n \"http://www.w3.org/Graphics/SVG/1.1/DTD/svg11.dtd\">\n<!-- Generated by graphviz version 2.43.0 (0)\n -->\n<!-- Title: %3 Pages: 1 -->\n<svg width=\"101pt\" height=\"212pt\"\n viewBox=\"0.00 0.00 101.00 212.00\" xmlns=\"http://www.w3.org/2000/svg\" xmlns:xlink=\"http://www.w3.org/1999/xlink\">\n<g id=\"graph0\" class=\"graph\" transform=\"scale(1 1) rotate(0) translate(4 208)\">\n<title>%3</title>\n<polygon fill=\"white\" stroke=\"transparent\" points=\"-4,4 -4,-208 97,-208 97,4 -4,4\"/>\n<!-- fake -->\n<g id=\"node1\" class=\"node\">\n<title>fake</title>\n</g>\n<!-- 0 -->\n<g id=\"node2\" class=\"node\">\n<title>0</title>\n<ellipse fill=\"none\" stroke=\"black\" cx=\"27\" cy=\"-113\" rx=\"27\" ry=\"18\"/>\n<text text-anchor=\"middle\" x=\"27\" y=\"-109.3\" font-family=\"Times,serif\" font-size=\"14.00\">0</text>\n</g>\n<!-- fake&#45;&gt;0 -->\n<g id=\"edge1\" class=\"edge\">\n<title>fake&#45;&gt;0</title>\n<path fill=\"none\" stroke=\"black\" stroke-width=\"2\" d=\"M27,-167.81C27,-159.79 27,-150.05 27,-141.07\"/>\n<polygon fill=\"black\" stroke=\"black\" stroke-width=\"2\" points=\"30.5,-141.03 27,-131.03 23.5,-141.03 30.5,-141.03\"/>\n</g>\n<!-- 1 -->\n<g id=\"node3\" class=\"node\">\n<title>1</title>\n<ellipse fill=\"none\" stroke=\"black\" cx=\"27\" cy=\"-22\" rx=\"18\" ry=\"18\"/>\n<ellipse fill=\"none\" stroke=\"black\" cx=\"27\" cy=\"-22\" rx=\"22\" ry=\"22\"/>\n<text text-anchor=\"middle\" x=\"27\" y=\"-18.3\" font-family=\"Times,serif\" font-size=\"14.00\">1</text>\n</g>\n<!-- 0&#45;&gt;1 -->\n<g id=\"edge3\" class=\"edge\">\n<title>0&#45;&gt;1</title>\n<path fill=\"none\" stroke=\"black\" d=\"M27,-94.84C27,-83.44 27,-68.13 27,-54.58\"/>\n<polygon fill=\"black\" stroke=\"black\" points=\"30.5,-54.19 27,-44.19 23.5,-54.19 30.5,-54.19\"/>\n<text text-anchor=\"middle\" x=\"40\" y=\"-65.8\" font-family=\"Times,serif\" font-size=\"14.00\">True</text>\n</g>\n<!-- 1&#45;&gt;1 -->\n<g id=\"edge2\" class=\"edge\">\n<title>1&#45;&gt;1</title>\n<path fill=\"none\" stroke=\"black\" d=\"M47.58,-30.37C57.84,-31.53 67,-28.74 67,-22 67,-17.68 63.24,-14.99 57.84,-13.91\"/>\n<polygon fill=\"black\" stroke=\"black\" points=\"57.67,-10.41 47.58,-13.63 57.48,-17.4 57.67,-10.41\"/>\n<text text-anchor=\"middle\" x=\"80\" y=\"-18.3\" font-family=\"Times,serif\" font-size=\"14.00\">True</text>\n</g>\n</g>\n</svg>\n"
          },
          "metadata": {},
          "execution_count": 9
        }
      ]
    },
    {
      "cell_type": "code",
      "source": [
        "from pickle import TRUE\n",
        "test = [{\"p\": False, \"q\": False},\n",
        "        {\"p\": False, \"q\": True},\n",
        "        {\"p\": True, \"q\": False},\n",
        "        {\"p\": True, \"q\": True}]\n",
        "assert dfa.accepts(test)"
      ],
      "metadata": {
        "id": "K86-bbKyPY6W"
      },
      "execution_count": null,
      "outputs": []
    },
    {
      "cell_type": "markdown",
      "source": [
        "### **HOMEWORK** \n",
        "\n",
        "Using the module FLLOAT, verify all the remaining rules:\n",
        "\n",
        "* **Conjunction elimination:** from ( p ∧ q ), infer p. from ( p ∧ q ) , infer q.\n",
        "    \n",
        "* **Disjunction introduction:** from p, infer ( p ∨ q ) . from q, infer ( p ∨ q ) .\n",
        "   \n",
        "* **Disjunction elimination:** from ( p ∨ q ) and ( p → r )  and ( q → r ) , infer r.\n",
        "    \n",
        "* **Biconditional introduction:** from ( p → q )  and ( q → p ) , infer ( p ↔ q ).\n",
        "    \n",
        "* **Biconditional elimination:** from ( p ↔ q ) , infer ( p → q ) . from ( p ↔ q ) , infer ( q → p ) .\n",
        "    \n",
        "* **Modus ponens (conditional elimination):** from and ( p → q ) , infer q.\n",
        "    \n",
        "* **Conditional proof (conditional introduction):** from [accepting p allows a proof of q], infer ( p → q ) ."
      ],
      "metadata": {
        "id": "keKsSkvVT5Xn"
      }
    },
    {
      "cell_type": "code",
      "source": [
        "#TYPE YOUR IMPLEMENTATION FOR CONJUCTION ELIMINATION HERE"
      ],
      "metadata": {
        "id": "BsBI3bZ9Usfn"
      },
      "execution_count": null,
      "outputs": []
    },
    {
      "cell_type": "code",
      "source": [
        "#TYPE YOUR IMPLEMENTATION FOR DISJUNCTION INTRODUCTION HERE"
      ],
      "metadata": {
        "id": "mO6HgduF-Xxf"
      },
      "execution_count": null,
      "outputs": []
    },
    {
      "cell_type": "code",
      "source": [
        "#TYPE YOUR IMPLEMENTATION FOR DISJUCTION ELIMINATION HERE"
      ],
      "metadata": {
        "id": "fwTFzw-m-dAY"
      },
      "execution_count": null,
      "outputs": []
    },
    {
      "cell_type": "code",
      "source": [
        "#TYPE YOUR IMPLEMENTATION FOR BICONDITIONAL INTRODUCTION HERE"
      ],
      "metadata": {
        "id": "xQ9Lw0za-jni"
      },
      "execution_count": null,
      "outputs": []
    },
    {
      "cell_type": "code",
      "source": [
        "#TYPE YOUR IMPLEMENTATION FOR BICONDITIONAL ELIMINATION HERE"
      ],
      "metadata": {
        "id": "JjWqMIGO-n33"
      },
      "execution_count": null,
      "outputs": []
    },
    {
      "cell_type": "code",
      "source": [
        "#TYPE YOUR IMPLEMENTATION FOR MODUS PONENS HERE"
      ],
      "metadata": {
        "id": "4-NWRkeU-rnw"
      },
      "execution_count": null,
      "outputs": []
    },
    {
      "cell_type": "code",
      "source": [
        "#TYPE YOUR IMPLEMENTATION FOR CONDITIONAL HERE"
      ],
      "metadata": {
        "id": "Jl4cTKON-vjw"
      },
      "execution_count": null,
      "outputs": []
    }
  ]
}