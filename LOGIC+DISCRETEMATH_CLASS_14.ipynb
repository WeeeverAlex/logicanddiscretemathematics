{
  "cells": [
    {
      "cell_type": "markdown",
      "metadata": {
        "colab_type": "text",
        "id": "view-in-github"
      },
      "source": [
        "<a href=\"https://colab.research.google.com/github/lucianosilva-github/logicanddiscretemathematics/blob/main/LOGIC%2BDISCRETEMATH_CLASS_14.ipynb\" target=\"_parent\"><img src=\"https://colab.research.google.com/assets/colab-badge.svg\" alt=\"Open In Colab\"/></a>"
      ]
    },
    {
      "cell_type": "markdown",
      "metadata": {
        "id": "33EEpDW7pOaO"
      },
      "source": [
        "<div class=\"alert alert-block alert-info\">\n",
        "\n",
        "#**CLASS 14 - TYPE THEORY - PART IV**\n",
        "**Learning Objectives:**\n",
        "* RECURSIVE TYPES\n",
        "* IMPLEMENTATION OF RECURSIVE TYPES\n"
      ]
    },
    {
      "cell_type": "markdown",
      "metadata": {
        "id": "bR0VEroxclwf"
      },
      "source": [
        "**RECURSIVE TYPES**\n",
        "\n",
        "In computer programming languages, a recursive data type (also known as a recursively-defined, inductively-defined or inductive data type) is a data type for values that may contain other values of the same type.\n",
        "\n",
        "An important application of recursion in computer science is in defining dynamic data structures such as Lists and Trees. Recursive data structures can dynamically grow to an arbitrarily large size in response to runtime requirements; in contrast, a static array's size requirements must be set at compile time. Sometimes the term \"inductive data type\" is used for algebraic data types which are not necessarily recursive.\n",
        "\n",
        "In type theory, a recursive type has the general form μα.T where the type variable α may appear in the type T and stands for the entire type itself. In type theory, we would say: nat=α+μα.1  where the two arms of the sum type represent the Zero and Succ data constructors. Zero takes no arguments (thus represented by the unit type) and Succ takes another Nat (thus another element of α+μα.1).\n",
        "\n",
        "Lets implement the recursive datatype nat in ML:\n",
        "\n"
      ]
    },
    {
      "cell_type": "code",
      "execution_count": null,
      "metadata": {
        "id": "rE8qcDaoKFQa"
      },
      "outputs": [],
      "source": [
        "!apt-get install smlnj"
      ]
    },
    {
      "cell_type": "code",
      "execution_count": 11,
      "metadata": {
        "colab": {
          "base_uri": "https://localhost:8080/"
        },
        "id": "XCYjoa2OKrC3",
        "outputId": "0b40b816-452c-4116-971f-d5f512f26fac"
      },
      "outputs": [
        {
          "name": "stdout",
          "output_type": "stream",
          "text": [
            "Overwriting nat.sml\n"
          ]
        }
      ],
      "source": [
        "%%writefile nat.sml\n",
        "\n",
        "datatype nat =   Zero\n",
        "               | Succ of nat\n",
        "\n",
        "val zero = Zero\n",
        "val one = Succ(zero)\n",
        "val two = Succ(one)"
      ]
    },
    {
      "cell_type": "code",
      "execution_count": 12,
      "metadata": {
        "colab": {
          "base_uri": "https://localhost:8080/"
        },
        "id": "bCFZmPj1K73X",
        "outputId": "076c941e-bea3-4d08-a6e1-d38402d79cbf"
      },
      "outputs": [
        {
          "name": "stdout",
          "output_type": "stream",
          "text": [
            "Standard ML of New Jersey v110.79 [built: Sat Oct 26 12:27:04 2019]\n",
            "- use \"nat.sml\";\n",
            "[opening nat.sml]\n",
            "datatype nat = Succ of nat | Zero\n",
            "val zero = Zero : nat\n",
            "val one = Succ Zero : nat\n",
            "val two = Succ (Succ Zero) : nat\n",
            "val it = () : unit\n",
            "- \n",
            "Interrupt\n",
            "- \n",
            "Interrupt\n",
            "- "
          ]
        }
      ],
      "source": [
        "#ativação do interpretador ML\n",
        "#para usar o arquivo nat.sml, digite use nat.sml; <enter>\n",
        "\n",
        "!/usr/bin/sml"
      ]
    },
    {
      "cell_type": "markdown",
      "metadata": {
        "id": "aS17z3R7f-WI"
      },
      "source": [
        "You can operate with this new datatype using functions:\n"
      ]
    },
    {
      "cell_type": "code",
      "execution_count": null,
      "metadata": {
        "id": "i8gas5g7gF36"
      },
      "outputs": [],
      "source": [
        "%%writefile nat.sml\n",
        "\n",
        "datatype nat =   Zero\n",
        "               | Succ of nat\n",
        "\n",
        "\n",
        "fun iszero(n : nat) : bool = \n",
        "  case n of\n",
        "            Zero    => true\n",
        "          | Succ(m) => false\n",
        "\n",
        "\n",
        "fun pred(n : nat) : nat = \n",
        "  case n of\n",
        "             Zero => raise Fail \"predecessor on zero\"\n",
        "           | Succ(m) => m\n",
        "\n",
        "\n",
        "fun add(n1:nat, n2:nat) : nat = \n",
        "  case n1 of\n",
        "              Zero => n2\n",
        "              Succ(n_minus_1) => add(n_minus_1, Succ(n2))\n",
        "\n",
        "\n",
        "fun mul(n1:nat, n2:nat) : nat =\n",
        "  case n1 of\n",
        "              Zero => Zero\n",
        "            | Succ(n1MinusOne) => add(n2, mul(n1MinusOne,n2))"
      ]
    },
    {
      "cell_type": "code",
      "execution_count": null,
      "metadata": {
        "id": "gAYHTr48hDGC"
      },
      "outputs": [],
      "source": [
        "!/usr/bin/sml"
      ]
    },
    {
      "cell_type": "markdown",
      "metadata": {
        "id": "gVF7a96kfBep"
      },
      "source": [
        "**EXERCISE 1**\n",
        "\n",
        "Define the factorial datatype in a recursive way:\n",
        "\n",
        "0! = 1\n",
        "\n",
        "n! = n*(n-1)!"
      ]
    },
    {
      "cell_type": "code",
      "execution_count": null,
      "metadata": {
        "id": "7fuw6peifXKD"
      },
      "outputs": [],
      "source": [
        "#IMPLEMENTATION HERE\n",
        "\n",
        "%%writefile factorial.sml\n",
        "\n",
        "datatype nat =   Zero\n",
        "               | Succ of nat\n",
        "\n",
        "val one = Succ(Zero)\n",
        "\n",
        "datatype factorial = one \n",
        "                    | Cons of nat * factorial"
      ]
    },
    {
      "cell_type": "code",
      "execution_count": null,
      "metadata": {},
      "outputs": [],
      "source": [
        "!/usr/bin/sml"
      ]
    },
    {
      "cell_type": "markdown",
      "metadata": {
        "id": "muap-KCUfbaf"
      },
      "source": [
        "**EXERCISE 2**\n",
        "\n",
        "Define the fibonacci datatype in a recursive way:\n",
        "\n",
        "1,1,2,3,5,8,...\n",
        "\n"
      ]
    },
    {
      "cell_type": "code",
      "execution_count": null,
      "metadata": {
        "id": "WDIoxa18frJq"
      },
      "outputs": [],
      "source": [
        "#IMPLEMENTATION HERE\n",
        "%%writefile fib.sml\n",
        "\n",
        "datatype nat =   Zero\n",
        "               | Succ of nat\n",
        "\n",
        "val one = Succ(Zero)\n",
        "\n",
        "datatype fib = one\n",
        "              | Cons of nat * fib\n"
      ]
    },
    {
      "cell_type": "code",
      "execution_count": null,
      "metadata": {},
      "outputs": [],
      "source": [
        "!/usr/bin/sml"
      ]
    },
    {
      "cell_type": "markdown",
      "metadata": {
        "id": "9y5JwZzlhV6D"
      },
      "source": [
        "**RECURSIVE DATATYPE LIST**\n",
        "\n",
        "We can write our own version of lists using datatypes. Suppose we want to define values that act like linked lists of integers. A linked list is either empty, or it has an integer followed by another list containing the rest of the list elements. This leads to a very natural datatype declaration:\n",
        "\n"
      ]
    },
    {
      "cell_type": "code",
      "execution_count": null,
      "metadata": {
        "id": "p5JnDGphhhPM"
      },
      "outputs": [],
      "source": [
        "%%writefile list.sml\n",
        "\n",
        "datatype intlist =  Nil \n",
        "                  | Cons of (int * intlist)\n",
        "\n",
        "val list1 = Nil \t\t            (* the empty list:  []*)\n",
        "val list2 = Cons(1,Nil) \t      (* the list containing just 1:  [1] *)\n",
        "val list3 = Cons(2,Cons(1,Nil)) (* the list [2,1] *)\n",
        "val list4 = Cons(2,list2)       (* also the list [2,1] *)\n",
        "\n",
        "fun length(lst: intlist): int =\n",
        "  case lst of\n",
        "              Nil => 0\n",
        "              Cons(h,t) => 1 + length(t)"
      ]
    },
    {
      "cell_type": "markdown",
      "metadata": {
        "id": "7BlqvgBCiPHh"
      },
      "source": [
        "**EXERCISE 3**\n",
        "\n",
        "Implement the recursive function addall to sum all numbers of one list L."
      ]
    },
    {
      "cell_type": "code",
      "execution_count": null,
      "metadata": {
        "id": "rC3O3fNoifbh"
      },
      "outputs": [],
      "source": [
        "#IMPLEMENTATION HERE"
      ]
    },
    {
      "cell_type": "markdown",
      "metadata": {
        "id": "KgDIn3xSitQV"
      },
      "source": [
        "**EXERCICIO 4**\n",
        "\n",
        "Implement the recursive function last to retrieve the last element of a list. If such element does not exist, raise an exception."
      ]
    },
    {
      "cell_type": "code",
      "execution_count": null,
      "metadata": {
        "id": "OYRifjbRjDMK"
      },
      "outputs": [],
      "source": [
        "#IMPLEMENTATION HERE"
      ]
    },
    {
      "cell_type": "markdown",
      "metadata": {
        "id": "cEnlzmXnjHSL"
      },
      "source": [
        "**RECURSIVE DATATYPE TREE**\n",
        "\n",
        "Trees are another very useful data structure, and unlike lists, they are not built into SML. A binary tree is a node containing a value and two children that are trees. A binary tree can also be an empty tree, which we also use to represent the absence of a child node. We can write this down directly as a datatype:"
      ]
    },
    {
      "cell_type": "code",
      "execution_count": null,
      "metadata": {
        "id": "NZTday3vjTLF"
      },
      "outputs": [],
      "source": [
        "%%writefile tree.sml\n",
        "\n",
        "datatype inttree = Empty \n",
        "                   | Node of { value: int, left: inttree, right: inttree }\n",
        "\n",
        "tree= Node {value = 2, \n",
        "            left = Node {value=1, left = Empty, right = Empty},\n",
        "            right= Node {value=3, left = Empty, right = Empty}}"
      ]
    },
    {
      "cell_type": "code",
      "execution_count": null,
      "metadata": {
        "id": "CptXKkHdkHqu"
      },
      "outputs": [],
      "source": [
        "!/usr/bin/sml"
      ]
    },
    {
      "cell_type": "markdown",
      "metadata": {
        "id": "qkU_efz7kXOz"
      },
      "source": [
        "For search an element x "
      ]
    },
    {
      "cell_type": "code",
      "execution_count": null,
      "metadata": {
        "id": "LcJL5SEGkcSN"
      },
      "outputs": [],
      "source": [
        "%%writefile tree.sml\n",
        "\n",
        "datatype inttree = Empty \n",
        "                   | Node of { value: int, left: inttree, right: inttree }\n",
        "\n",
        "\n",
        "fun search(t: inttree, x:int): bool =\n",
        "  case t of\n",
        "              Empty => false\n",
        "            | Node {value, left, right} => (value = x) orelse search(left, x)\n",
        "                                                       orelse search(right, x)"
      ]
    },
    {
      "cell_type": "code",
      "execution_count": null,
      "metadata": {
        "id": "_3_0ABl4k6zx"
      },
      "outputs": [],
      "source": [
        "!/usr/bin/sml"
      ]
    },
    {
      "cell_type": "markdown",
      "metadata": {
        "id": "DoNWlCuAlDup"
      },
      "source": [
        "**EXERCICIO 5**\n",
        "\n",
        "Implement the recursive function last to retrieve the the **rightmost** element in a tree. If such element does not exist, raise an exception."
      ]
    },
    {
      "cell_type": "code",
      "execution_count": null,
      "metadata": {
        "id": "T5dP2NQ6lVi-"
      },
      "outputs": [],
      "source": [
        "#IMPLEMENT HERE"
      ]
    },
    {
      "cell_type": "markdown",
      "metadata": {
        "id": "CUES-T0ilXzX"
      },
      "source": [
        "**HOMEWORK**"
      ]
    },
    {
      "cell_type": "markdown",
      "metadata": {
        "id": "1H2kcHw4lbtS"
      },
      "source": [
        "**EXERCISE 1**\n",
        "\n",
        "Rewrite the List implementation to use Node instad of using Cons."
      ]
    },
    {
      "cell_type": "code",
      "execution_count": null,
      "metadata": {
        "id": "jnpRFMuEln2p"
      },
      "outputs": [],
      "source": [
        "#IMPLEMENTATION HERE"
      ]
    },
    {
      "cell_type": "markdown",
      "metadata": {
        "id": "y7YQePBAlrNJ"
      },
      "source": [
        "**EXERCISE 2**\n",
        "\n",
        "Implement the recursive function list to transform of a tree T to a list L."
      ]
    },
    {
      "cell_type": "code",
      "execution_count": null,
      "metadata": {
        "id": "5573E2hql_Cs"
      },
      "outputs": [],
      "source": [
        "#IMPLEMENTATION HERE"
      ]
    }
  ],
  "metadata": {
    "colab": {
      "include_colab_link": true,
      "provenance": []
    },
    "kernelspec": {
      "display_name": "Python 3",
      "name": "python3"
    },
    "language_info": {
      "name": "python"
    }
  },
  "nbformat": 4,
  "nbformat_minor": 0
}
