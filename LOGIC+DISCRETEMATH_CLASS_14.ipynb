{
  "nbformat": 4,
  "nbformat_minor": 0,
  "metadata": {
    "colab": {
      "provenance": [],
      "include_colab_link": true
    },
    "kernelspec": {
      "name": "python3",
      "display_name": "Python 3"
    },
    "language_info": {
      "name": "python"
    }
  },
  "cells": [
    {
      "cell_type": "markdown",
      "metadata": {
        "id": "view-in-github",
        "colab_type": "text"
      },
      "source": [
        "<a href=\"https://colab.research.google.com/github/lucianosilva-github/logicanddiscretemathematics/blob/main/LOGIC%2BDISCRETEMATH_CLASS_14.ipynb\" target=\"_parent\"><img src=\"https://colab.research.google.com/assets/colab-badge.svg\" alt=\"Open In Colab\"/></a>"
      ]
    },
    {
      "cell_type": "markdown",
      "source": [
        "<div class=\"alert alert-block alert-info\">\n",
        "\n",
        "#**CLASS 14 - TYPE THEORY - PART IV**\n",
        "**Learning Objectives:**\n",
        "* RECURSIVE TYPES\n",
        "* IMPLEMENTATION OF RECURSIVE TYPES\n"
      ],
      "metadata": {
        "id": "33EEpDW7pOaO"
      }
    },
    {
      "cell_type": "markdown",
      "source": [
        "**RECURSIVE TYPES**\n",
        "\n",
        "In computer programming languages, a recursive data type (also known as a recursively-defined, inductively-defined or inductive data type) is a data type for values that may contain other values of the same type.\n",
        "\n",
        "An important application of recursion in computer science is in defining dynamic data structures such as Lists and Trees. Recursive data structures can dynamically grow to an arbitrarily large size in response to runtime requirements; in contrast, a static array's size requirements must be set at compile time. Sometimes the term \"inductive data type\" is used for algebraic data types which are not necessarily recursive.\n",
        "\n",
        "In type theory, a recursive type has the general form μα.T where the type variable α may appear in the type T and stands for the entire type itself. In type theory, we would say: nat=α+μα.1  where the two arms of the sum type represent the Zero and Succ data constructors. Zero takes no arguments (thus represented by the unit type) and Succ takes another Nat (thus another element of α+μα.1).\n",
        "\n",
        "Lets implement the recursive datatype nat in ML:\n",
        "\n"
      ],
      "metadata": {
        "id": "bR0VEroxclwf"
      }
    },
    {
      "cell_type": "code",
      "source": [
        "!apt-get install smlnj"
      ],
      "metadata": {
        "id": "rE8qcDaoKFQa"
      },
      "execution_count": null,
      "outputs": []
    },
    {
      "cell_type": "code",
      "source": [
        "%%writefile nat.sml\n",
        "\n",
        "datatype nat =   Zero\n",
        "               | Succ of nat\n",
        "\n",
        "val zero = Zero\n",
        "val one = Succ(zero)\n",
        "val two = Succ(one)"
      ],
      "metadata": {
        "colab": {
          "base_uri": "https://localhost:8080/"
        },
        "id": "XCYjoa2OKrC3",
        "outputId": "0b40b816-452c-4116-971f-d5f512f26fac"
      },
      "execution_count": 11,
      "outputs": [
        {
          "output_type": "stream",
          "name": "stdout",
          "text": [
            "Overwriting nat.sml\n"
          ]
        }
      ]
    },
    {
      "cell_type": "code",
      "source": [
        "#ativação do interpretador ML\n",
        "#para usar o arquivo nat.sml, digite use nat.sml; <enter>\n",
        "\n",
        "!/usr/bin/sml"
      ],
      "metadata": {
        "colab": {
          "base_uri": "https://localhost:8080/"
        },
        "id": "bCFZmPj1K73X",
        "outputId": "076c941e-bea3-4d08-a6e1-d38402d79cbf"
      },
      "execution_count": 12,
      "outputs": [
        {
          "output_type": "stream",
          "name": "stdout",
          "text": [
            "Standard ML of New Jersey v110.79 [built: Sat Oct 26 12:27:04 2019]\n",
            "- use \"nat.sml\";\n",
            "[opening nat.sml]\n",
            "datatype nat = Succ of nat | Zero\n",
            "val zero = Zero : nat\n",
            "val one = Succ Zero : nat\n",
            "val two = Succ (Succ Zero) : nat\n",
            "val it = () : unit\n",
            "- \n",
            "Interrupt\n",
            "- \n",
            "Interrupt\n",
            "- "
          ]
        }
      ]
    },
    {
      "cell_type": "markdown",
      "source": [
        "**EXERCISE 1**\n",
        "\n",
        "Define the factorial datatype in a recursive way:\n",
        "\n",
        "0! = 1\n",
        "\n",
        "n! = n*(n-1)!"
      ],
      "metadata": {
        "id": "gVF7a96kfBep"
      }
    },
    {
      "cell_type": "code",
      "source": [
        "#IMPLEMENTATION HERE"
      ],
      "metadata": {
        "id": "7fuw6peifXKD"
      },
      "execution_count": null,
      "outputs": []
    },
    {
      "cell_type": "markdown",
      "source": [
        "**EXERCISE 2**\n",
        "\n",
        "Define the fibonacci datatype in a recursive way:\n",
        "\n",
        "1,1,2,3,5,8,...\n",
        "\n"
      ],
      "metadata": {
        "id": "muap-KCUfbaf"
      }
    },
    {
      "cell_type": "code",
      "source": [
        "#IMPLEMENTATION HERE"
      ],
      "metadata": {
        "id": "WDIoxa18frJq"
      },
      "execution_count": null,
      "outputs": []
    }
  ]
}