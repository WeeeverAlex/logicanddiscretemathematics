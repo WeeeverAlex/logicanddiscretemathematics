{
  "nbformat": 4,
  "nbformat_minor": 0,
  "metadata": {
    "colab": {
      "provenance": [],
      "include_colab_link": true
    },
    "kernelspec": {
      "name": "python3",
      "display_name": "Python 3"
    },
    "language_info": {
      "name": "python"
    }
  },
  "cells": [
    {
      "cell_type": "markdown",
      "metadata": {
        "id": "view-in-github",
        "colab_type": "text"
      },
      "source": [
        "<a href=\"https://colab.research.google.com/github/lucianosilva-github/logicanddiscretemathematics/blob/main/LOGIC%2BDISCRETEMATH_CLASS_15.ipynb\" target=\"_parent\"><img src=\"https://colab.research.google.com/assets/colab-badge.svg\" alt=\"Open In Colab\"/></a>"
      ]
    },
    {
      "cell_type": "markdown",
      "source": [
        "<div class=\"alert alert-block alert-info\">\n",
        "\n",
        "#**CLASS 15 - TYPE THEORY - PART V**\n",
        "**Learning Objectives:**\n",
        "* RECURSIVE TYPES\n",
        "* IMPLEMENTATION OF RECURSIVE TYPES\n"
      ],
      "metadata": {
        "id": "33EEpDW7pOaO"
      }
    },
    {
      "cell_type": "markdown",
      "source": [
        "**PRINCIPLE OF MATHEMATICAL INDUCTION**\n",
        "\n",
        "The principle of mathematical induction (often referred to as induction, sometimes referred to as PMI in books) is a fundamental proof technique. It is especially useful when proving that a statement is true for all positive integers.\n",
        "\n",
        "Let's say you have a statement P(n) that depends on a positive integer n and you have to prove that this statement holds for all positive integers n. How would you do that?\n",
        "\n",
        "*   At first you prove that P(k) is true where k is the starting value of your statement \n",
        "*   Then you show that if the statement is true for any arbitrary positive integer x, then it is true for x+1\n",
        "\n",
        "Now that we've gotten a little bit familiar with the idea of proof by induction, let's rewrite everything we learned a little more formally:\n",
        "\n",
        "* **Step 1 (Prove the base case):**  This is the part where you prove that P(k) is true if k is the starting value of your statement. The base case is usually showing that our statement is true when n=k.\n",
        "\n",
        "* **Step 2 (The inductive step):** This is where you assume that P(x) is true for some positive integer x. This assumption is called the inductive hypothesis. Then you show that if P(x) were true, so is P(x+1). This is the inductive step.\n",
        "\n",
        "In short, the inductive step usually means showing that **P(x)⟹P(x+1)**.\n",
        "\n",
        "\n",
        "\n",
        "\n"
      ],
      "metadata": {
        "id": "bR0VEroxclwf"
      }
    }
  ]
}