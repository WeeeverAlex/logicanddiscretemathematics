{
  "cells": [
    {
      "cell_type": "markdown",
      "metadata": {
        "colab_type": "text",
        "id": "view-in-github"
      },
      "source": [
        "<a href=\"https://colab.research.google.com/github/lucianosilva-github/logicanddiscretemathematics/blob/main/LOGIC%2BDISCRETEMATH_CLASS_15.ipynb\" target=\"_parent\"><img src=\"https://colab.research.google.com/assets/colab-badge.svg\" alt=\"Open In Colab\"/></a>"
      ]
    },
    {
      "cell_type": "markdown",
      "metadata": {
        "id": "33EEpDW7pOaO"
      },
      "source": [
        "<div class=\"alert alert-block alert-info\">\n",
        "\n",
        "#**CLASS 15 - TYPE THEORY - PART V**\n",
        "**Learning Objectives:**\n",
        "* MATHEMATICAL INDUTION\n",
        "* IMPLEMENTATION OF MATHEMATICAL INDUCTION\n"
      ]
    },
    {
      "cell_type": "markdown",
      "metadata": {
        "id": "bR0VEroxclwf"
      },
      "source": [
        "**PRINCIPLE OF MATHEMATICAL INDUCTION**\n",
        "\n",
        "The principle of mathematical induction (often referred to as induction, sometimes referred to as PMI in books) is a fundamental proof technique. It is especially useful when proving that a statement is true for all positive integers.\n",
        "\n",
        "Let's say you have a statement P(n) that depends on a positive integer n and you have to prove that this statement holds for all positive integers n. How would you do that?\n",
        "\n",
        "*   At first you prove that P(k) is true where k is the starting value of your statement \n",
        "*   Then you show that if the statement is true for any arbitrary positive integer x, then it is true for x+1\n",
        "\n",
        "Now that we've gotten a little bit familiar with the idea of proof by induction, let's rewrite everything we learned a little more formally:\n",
        "\n",
        "* **Step 1 (Prove the base case):**  This is the part where you prove that P(k) is true if k is the starting value of your statement. The base case is usually showing that our statement is true when n=k.\n",
        "\n",
        "* **Step 2 (The inductive step):** This is where you assume that P(x) is true for some positive integer x. This assumption is called the inductive hypothesis. Then you show that if P(x) were true, so is P(x+1). This is the inductive step.\n",
        "\n",
        "In short, the inductive step usually means showing that **P(x)⟹P(x+1)**.\n",
        "\n",
        "\n",
        "\n",
        "\n"
      ]
    },
    {
      "cell_type": "markdown",
      "metadata": {
        "id": "gNUSOmRr4ehC"
      },
      "source": [
        "**EXERCISE 1**\n",
        "\n",
        "Prove that $\\sum_{i=0}^n i = 1+2+3+...+n = \\frac{n(n+1)}{2}$."
      ]
    },
    {
      "cell_type": "code",
      "execution_count": 1,
      "metadata": {
        "colab": {
          "base_uri": "https://localhost:8080/"
        },
        "id": "EfIIj92P4koU",
        "outputId": "b8f063a9-8a62-48d2-da3d-77d0184a8464"
      },
      "outputs": [
        {
          "name": "stdout",
          "output_type": "stream",
          "text": [
            "Collecting z3-solver\n",
            "  Downloading z3_solver-4.12.1.0-py2.py3-none-macosx_11_0_arm64.whl (26.7 MB)\n",
            "\u001b[2K     \u001b[90m━━━━━━━━━━━━━━━━━━━━━━━━━━━━━━━━━━━━━━━━\u001b[0m \u001b[32m26.7/26.7 MB\u001b[0m \u001b[31m4.2 MB/s\u001b[0m eta \u001b[36m0:00:00\u001b[0m00:01\u001b[0m00:01\u001b[0m\n",
            "\u001b[?25hInstalling collected packages: z3-solver\n",
            "Successfully installed z3-solver-4.12.1.0\n",
            "\n",
            "\u001b[1m[\u001b[0m\u001b[34;49mnotice\u001b[0m\u001b[1;39;49m]\u001b[0m\u001b[39;49m A new release of pip is available: \u001b[0m\u001b[31;49m23.0.1\u001b[0m\u001b[39;49m -> \u001b[0m\u001b[32;49m23.1.2\u001b[0m\n",
            "\u001b[1m[\u001b[0m\u001b[34;49mnotice\u001b[0m\u001b[1;39;49m]\u001b[0m\u001b[39;49m To update, run: \u001b[0m\u001b[32;49mpip install --upgrade pip\u001b[0m\n"
          ]
        }
      ],
      "source": [
        "!pip install z3-solver"
      ]
    },
    {
      "cell_type": "code",
      "execution_count": 2,
      "metadata": {
        "colab": {
          "base_uri": "https://localhost:8080/",
          "height": 34
        },
        "id": "mnKnFLtf5UgJ",
        "outputId": "3d253bb2-154d-432d-be4b-66abe3e6e500"
      },
      "outputs": [
        {
          "data": {
            "text/html": [
              "<b>unknown</b>"
            ],
            "text/plain": [
              "unknown"
            ]
          },
          "execution_count": 2,
          "metadata": {},
          "output_type": "execute_result"
        }
      ],
      "source": [
        "from z3 import *\n",
        "\n",
        "#defining sumn\n",
        "n = Int(\"n\")\n",
        "sumn = Function(\"sumn\", IntSort(), IntSort())\n",
        "s = Solver()\n",
        "s.add(sumn(0) == 0)\n",
        "s.add(ForAll([n], sumn(n+1) == (n + 1) + sumn(n)))\n",
        "\n",
        "#try to find a counterexample of the sum\n",
        "s.add(Not(ForAll([n], Implies(n >= 0, 2 * sumn(n) == n * (n + 1)))))\n",
        "s.check()"
      ]
    },
    {
      "cell_type": "markdown",
      "metadata": {
        "id": "nyt-Yeem9mBR"
      },
      "source": [
        "**EXERCISE 2**\n",
        "\n",
        "Prove that $1^2 + 2^2 + 3^2 + . . . + n^2 =\\frac{1}{6} n(n + 1)(2n + 1)$."
      ]
    },
    {
      "cell_type": "code",
      "execution_count": null,
      "metadata": {
        "id": "W6T9jr-0-c4L"
      },
      "outputs": [],
      "source": [
        "#TYPE YOUR PROOF HERE"
      ]
    },
    {
      "cell_type": "markdown",
      "metadata": {
        "id": "jHzX8mze-lQC"
      },
      "source": [
        "**EXERCISE 3**\n",
        "\n",
        "Prove that $\\frac{1}{1×2}+\\frac{1}{2×3}+...+\\frac{1}{n×(n+1)}=\\frac{n}{n + 1}$."
      ]
    },
    {
      "cell_type": "code",
      "execution_count": null,
      "metadata": {
        "id": "BsUww6YR_v59"
      },
      "outputs": [],
      "source": [
        "#TYPE YOUR PROOF HERE"
      ]
    },
    {
      "cell_type": "markdown",
      "metadata": {
        "id": "iCfReF-BACbH"
      },
      "source": [
        "**EXERCISE 4**\n",
        "\n",
        "Prove that $1^2 + 3^2 + 5^2 + . . . + (2n − 1)^2 =\\frac{4n^3 − n}{3}$."
      ]
    },
    {
      "cell_type": "code",
      "execution_count": null,
      "metadata": {
        "id": "Q4IKdw3YAmdX"
      },
      "outputs": [],
      "source": [
        "#TYPE YOUR PROOF HERE"
      ]
    },
    {
      "cell_type": "markdown",
      "metadata": {
        "id": "3MvmphUXApq6"
      },
      "source": [
        "**EXERCISE 5**\n",
        "\n",
        "Prove that  Prove that, for all $ n ≥ 2, \\sqrt n^\\frac{1}{n} < 2 - \\frac{1}{n}$."
      ]
    },
    {
      "cell_type": "code",
      "execution_count": null,
      "metadata": {
        "id": "V4qNJf9pCvbX"
      },
      "outputs": [],
      "source": [
        "#TYPE YOUR PROOF HERE"
      ]
    },
    {
      "cell_type": "markdown",
      "metadata": {
        "id": "L-wdbS7SDdU8"
      },
      "source": [
        "**HOMEWORK**"
      ]
    },
    {
      "cell_type": "markdown",
      "metadata": {
        "id": "9U00PCNnDgjf"
      },
      "source": [
        "**EXERCISE 1**\n",
        "\n",
        "A binomial number $\\binom{n}{k}$ is defined as $\\binom{n}{k}=\\frac{n!}{k!(n-k)!}$. Prove that $\\binom{2n}{n}<2^{2n-2}$ for all $n\\ge 5$."
      ]
    },
    {
      "cell_type": "code",
      "execution_count": null,
      "metadata": {
        "id": "xlGSwYL2FCXe"
      },
      "outputs": [],
      "source": [
        "#TYPE YOUR PROOF HERE"
      ]
    },
    {
      "cell_type": "markdown",
      "metadata": {
        "id": "DhztNhMpFFDP"
      },
      "source": [
        "**EXERCISE 2** Prove that $\\frac{1}{2 × 5} + \\frac{1}{5 × 8} + \\frac{1}{8 × 11} +...+ \\frac{1}{(3n − 1)(3n + 2)} = \\frac{n}{6n + 4}$."
      ]
    },
    {
      "cell_type": "code",
      "execution_count": null,
      "metadata": {
        "id": "MoZya5sHFnWf"
      },
      "outputs": [],
      "source": [
        "#TYPE YOUR PROOF HERE"
      ]
    },
    {
      "cell_type": "markdown",
      "metadata": {
        "id": "0b8ooq1JFz8l"
      },
      "source": [
        "**PROJECT - DUE TO: 12/05/2023**\n",
        "\n"
      ]
    },
    {
      "cell_type": "markdown",
      "metadata": {
        "id": "ObQ1IDi4GZRz"
      },
      "source": [
        "Prove that the heapsort algorithm works. "
      ]
    },
    {
      "cell_type": "code",
      "execution_count": 7,
      "metadata": {
        "colab": {
          "base_uri": "https://localhost:8080/"
        },
        "id": "LxCr3_xjGIXe",
        "outputId": "0ee54432-bb30-47eb-cbd1-e92b07a1e452"
      },
      "outputs": [
        {
          "name": "stdout",
          "output_type": "stream",
          "text": [
            "Heap sort (recursion): [-36, 0, 4, 5, 19, 21, 33, 38, 61]\n"
          ]
        }
      ],
      "source": [
        "\n",
        "def heapify(arr, size, i):    \n",
        "    larger = i \n",
        "    left = 2 * i + 1\n",
        "    right = 2 * i + 2\n",
        "    if left < size and arr[i] < arr[left]:\n",
        "        larger = left\n",
        "    if right < size and arr[larger] < arr[right]:\n",
        "        larger = right\n",
        "    if larger != i:\n",
        "        arr[i], arr[larger] = arr[larger], arr[i] #swap\n",
        "        heapify(arr, size, larger) #heapify again\n",
        "\n",
        "def heapSort(arr):\n",
        "    n = len(arr)      \n",
        "    for i in range(n//2, -1, -1):  # Build heap\n",
        "        heapify(arr, n, i) \n",
        "    for i in range(n-1, 0, -1):  # sort\n",
        "        arr[i], arr[0] = arr[0], arr[i] # Swap\n",
        "        heapify(arr, i, 0) # Heapify \n",
        "\n",
        "\n",
        "arr = [19, 33, 4, 61, 5, 38, -36, 21, 0]\n",
        "heapSort(arr)\n",
        "print(\"Heap sort (recursion): \" + str(arr))"
      ]
    }
  ],
  "metadata": {
    "colab": {
      "include_colab_link": true,
      "provenance": []
    },
    "kernelspec": {
      "display_name": "Python 3",
      "name": "python3"
    },
    "language_info": {
      "codemirror_mode": {
        "name": "ipython",
        "version": 3
      },
      "file_extension": ".py",
      "mimetype": "text/x-python",
      "name": "python",
      "nbconvert_exporter": "python",
      "pygments_lexer": "ipython3",
      "version": "3.9.10"
    }
  },
  "nbformat": 4,
  "nbformat_minor": 0
}
