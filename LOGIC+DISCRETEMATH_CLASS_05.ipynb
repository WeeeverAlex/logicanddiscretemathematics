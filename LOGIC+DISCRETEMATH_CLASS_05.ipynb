{
  "nbformat": 4,
  "nbformat_minor": 0,
  "metadata": {
    "colab": {
      "provenance": [],
      "authorship_tag": "ABX9TyPoxWGMxZApKYgEp88SpMGB",
      "include_colab_link": true
    },
    "kernelspec": {
      "name": "python3",
      "display_name": "Python 3"
    },
    "language_info": {
      "name": "python"
    }
  },
  "cells": [
    {
      "cell_type": "markdown",
      "metadata": {
        "id": "view-in-github",
        "colab_type": "text"
      },
      "source": [
        "<a href=\"https://colab.research.google.com/github/lucianosilva-github/logicanddiscretemathematics/blob/main/LOGIC%2BDISCRETEMATH_CLASS_05.ipynb\" target=\"_parent\"><img src=\"https://colab.research.google.com/assets/colab-badge.svg\" alt=\"Open In Colab\"/></a>"
      ]
    },
    {
      "cell_type": "markdown",
      "source": [
        "<div class=\"alert alert-block alert-info\">\n",
        "\n",
        "#**CLASS 05 - LINEAR TEMPORAL LOGIC (LTL) - PART III**\n",
        "**Learning Objectives:**\n",
        "*   Reviewing of LTL Operators (unary + binary operators)\n",
        "*   Kripke Structures\n",
        "*   Model Checking in PL (Propositional Logic) and LTL\n",
        "*  Implementation of Model Checking with PL and LTL\n",
        "</div>\n"
      ],
      "metadata": {
        "id": "33EEpDW7pOaO"
      }
    },
    {
      "cell_type": "markdown",
      "source": [
        "## **LTL OPERATORS REVIEW**\n",
        "\n",
        "A PL (Propositional Logic) formula is either:\n",
        "\n",
        "* ⊤ (**true**) or ⊥ (**false**)\n",
        "* a propositional variable\n",
        "* ¬𝜑1, 𝜑1∧𝜑2, 𝜑1∨𝜑2, or 𝜑1→𝜑2 where both 𝜑1 and 𝜑2 are PL formulas\n",
        "\n",
        "LTL (Linear Temporal Logic) formulas have the form 𝐴𝜌 where 𝜌 is a LTL path formula and a LTL path formula is either:\n",
        "\n",
        "* ⊤ or ⊥\n",
        "*  propositional variable\n",
        "*  ¬𝜑1, 𝜑1∧𝜑2, 𝜑1∨𝜑2, or 𝜑1→𝜑2, where both 𝜑1 and 𝜑2 are LTL path formulas\n",
        "* 𝐗𝜑1, 𝐅𝜑1, 𝐆𝜑1, 𝜑1𝐔𝜑2, or 𝜑1𝐑𝜑2 where both 𝜑1 and 𝜑2 are LTL path formulas.\n"
      ],
      "metadata": {
        "id": "3ypLUjyP2u9Q"
      }
    },
    {
      "cell_type": "markdown",
      "source": [
        "**KRIPKE STRUCTURES**\n",
        "\n",
        "A Kripke structure is a **directed graph**, equipped with a set of initial nodes, such that **every node** is source of some edge and it **is labeled by a set of atomic propositions**. The nodes of Kripke structure are called states:\n",
        "\n",
        "A Kripke structure is a tuple (𝑆,𝑆0,𝑅,𝐿) such that:\n",
        "\n",
        "* 𝑆 is a finite set of states\n",
        "* 𝑆0⊆𝑆 is a set of initial states\n",
        "* 𝑅⊆𝑆×𝑆 is a set of transitions such that for all 𝑠∈𝑆 there exists a (𝑠,𝑠′)∈𝑅 for some 𝑠′∈𝑆\n",
        "* 𝐿:𝑆→2^{AP} maps each state into a set of atomic propositions. Sometimes, the set of initial states is omitted. In such cases, 𝑆 and 𝑆0 coincide.\n",
        "\n",
        "A computation of a Kripke structure (𝑆,𝑆0,𝑅,𝐿) is an infinite path of (𝑆,𝑅) that starts from some 𝑠∈𝑆0. In the following code we are specifying a Kripke structure using the Python module pyModelChecking."
      ],
      "metadata": {
        "id": "kZZ_vmTNGigT"
      }
    },
    {
      "cell_type": "code",
      "source": [
        "!pip install pyModelChecking"
      ],
      "metadata": {
        "id": "Qu_lkt5DKjqG"
      },
      "execution_count": null,
      "outputs": []
    },
    {
      "cell_type": "code",
      "source": [
        "from pyModelChecking import Kripke\n",
        "\n",
        "K=Kripke(S=[0,1,2], S0=[0], R=[(0,1),(1,2),(2,2)], L={0: set(['p']), 1:set(['p','q']), 2: set([''])})"
      ],
      "metadata": {
        "id": "vl5DEMkfMaLa"
      },
      "execution_count": 25,
      "outputs": []
    },
    {
      "cell_type": "markdown",
      "source": [
        "**EXERCISE 1**\n",
        "\n",
        "Interpret the Kripke Structure K:"
      ],
      "metadata": {
        "id": "Znjg8MrRM8Df"
      }
    },
    {
      "cell_type": "markdown",
      "source": [
        "Type your interpretation here\n",
        "\n",
        "\n",
        "\n"
      ],
      "metadata": {
        "id": "ClmrJBDJNTek"
      }
    },
    {
      "cell_type": "markdown",
      "source": [
        "**EXERCISE 2** \n",
        "\n",
        "Implement a Kripke Structure for the following Python program:\n",
        "\n",
        "x=3\n",
        "\n",
        "y=x+1\n"
      ],
      "metadata": {
        "id": "ctTfJL7wZ5Ta"
      }
    },
    {
      "cell_type": "code",
      "source": [
        "#TYPE YOUR IMPLEMENTATION HERE"
      ],
      "metadata": {
        "id": "OE6b9IYhhvPz"
      },
      "execution_count": null,
      "outputs": []
    },
    {
      "cell_type": "markdown",
      "source": [
        "**EXERCISE 3** \n",
        "\n",
        "Implement a Kripke Structure for the following Python program:\n",
        "\n",
        "x=5\n",
        "\n",
        "if x>0:\n",
        "\n",
        "    y=1;\n",
        "\n",
        "else:\n",
        "\n",
        "    y=0"
      ],
      "metadata": {
        "id": "fyy-ndu7n8KR"
      }
    },
    {
      "cell_type": "code",
      "source": [
        "#TYPE YOUR IMPLEMENTATION HERE"
      ],
      "metadata": {
        "id": "i0FTaBTwoUlo"
      },
      "execution_count": null,
      "outputs": []
    },
    {
      "cell_type": "markdown",
      "source": [
        "**EXERCISE 4** \n",
        "\n",
        "Implement a Kripke Structure for the following Python program:\n",
        "\n",
        "x=5\n",
        "\n",
        "while x>0:\n",
        "\n",
        "    x=x-1"
      ],
      "metadata": {
        "id": "ZzOscFM8oayy"
      }
    },
    {
      "cell_type": "code",
      "source": [
        "#TYPE YOUR IMPLEMENTATION HERE"
      ],
      "metadata": {
        "id": "cbWIjUcHog8K"
      },
      "execution_count": null,
      "outputs": []
    },
    {
      "cell_type": "markdown",
      "source": [
        "**SEMANTICS**\n",
        "\n",
        "If 𝐾 is a Kripke structure, 𝑠 one of its states, and 𝜑 a propositional formula, we write 𝐾,𝑠⊨𝜑 (to be read “𝐾 and 𝑠 satisfy 𝜑 ”) meaning that 𝜑 holds at state 𝑠 in 𝐾.\n",
        "\n",
        "Let 𝐾 be the Kripke structure (𝑆,𝑆0,𝑅,𝐿); the relation ⊨ is defined recursively as follows:\n",
        "\n",
        "* 𝐾,𝑠⊨⊤ and 𝐾,𝑠⊭⊥ for any state 𝑠∈𝑆\n",
        "* if 𝑝∈𝐴𝑃, then 𝐾,𝑠⊨𝑝 ⟺ 𝑝∈𝐿(𝑠)\n",
        "* 𝐾,𝑠⊨¬𝜑 ⟺ 𝐾,𝑠⊭𝜑\n",
        "* 𝐾,𝑠⊨𝜑1∧𝜑2 ⟺ 𝐾,𝑠⊨𝜑1 and 𝐾,𝑠⊨𝜑2\n",
        "* 𝐾,𝑠⊨𝜑1∨𝜑2 ⟺ 𝐾,𝑠⊨𝜑1 or 𝐾,𝑠⊨𝜑2\n",
        "* 𝐾,𝑠⊨𝜑1→𝜑2 ⟺ 𝐾,𝑠⊭𝜑1 or 𝐾,𝑠⊨𝜑2"
      ],
      "metadata": {
        "id": "ldH4O8QG_22o"
      }
    },
    {
      "cell_type": "markdown",
      "source": [
        "**MODEL CHECKING**\n",
        "\n",
        "Model checking is a technique to establish the set of states in Kripke structure that satisfy a given temporal formula. More formally, provided a Kripke structure 𝐾=(𝑆,𝑆0,𝑅,𝐿) and a temporal formula 𝜑, model checking aims to identify 𝑆′⊆𝑆 such that 𝐾,𝑠𝑖⊨𝜑 for all 𝑠𝑖∈𝑆′.\n"
      ],
      "metadata": {
        "id": "70oTPRG9Bzl9"
      }
    },
    {
      "cell_type": "code",
      "source": [
        "from pyModelChecking import *\n",
        "from pyModelChecking.LTL import *\n",
        "\n",
        "K=Kripke(R=[(0,0),(0,1),(1,2),(2,2),(3,3)], L={0: set(['p']), 1:set(['p','q']),3:set(['p'])})\n",
        "modelcheck(K,'A (p)')"
      ],
      "metadata": {
        "id": "Z38_z_zjFq82"
      },
      "execution_count": null,
      "outputs": []
    },
    {
      "cell_type": "code",
      "source": [
        "modelcheck(K,'A (q)')"
      ],
      "metadata": {
        "id": "GqhrShggJ8FK"
      },
      "execution_count": null,
      "outputs": []
    },
    {
      "cell_type": "code",
      "source": [
        "modelcheck(K,'A (not q)')"
      ],
      "metadata": {
        "id": "wlCupPIsKDL3"
      },
      "execution_count": null,
      "outputs": []
    },
    {
      "cell_type": "code",
      "source": [
        "modelcheck(K,'A (p & q)')"
      ],
      "metadata": {
        "id": "4zhHokPpJjns",
        "outputId": "c72724e6-9d4e-425c-930a-1337d2c22a1d",
        "colab": {
          "base_uri": "https://localhost:8080/"
        }
      },
      "execution_count": 44,
      "outputs": [
        {
          "output_type": "execute_result",
          "data": {
            "text/plain": [
              "{1}"
            ]
          },
          "metadata": {},
          "execution_count": 44
        }
      ]
    },
    {
      "cell_type": "markdown",
      "source": [
        "**EXERCISE 5** \n",
        "\n",
        "Implement a Kripke Structure for the following Python program and check some formulas:\n",
        "\n",
        "x=3\n",
        "\n",
        "y=x+1"
      ],
      "metadata": {
        "id": "MTap92zvKq_R"
      }
    },
    {
      "cell_type": "code",
      "source": [
        "#TYPE YOUR IMPLEMENTATION HERE"
      ],
      "metadata": {
        "id": "7UAHpWUyK3cT"
      },
      "execution_count": null,
      "outputs": []
    },
    {
      "cell_type": "markdown",
      "source": [
        "**EXERCISE 6** \n",
        "\n",
        "Implement a Kripke Structure for the following Python program and check some formulas:\n",
        "\n",
        "x=5\n",
        "\n",
        "if x>0:\n",
        "\n",
        "    y=1;\n",
        "\n",
        "else:\n",
        "\n",
        "    y=0"
      ],
      "metadata": {
        "id": "mOIVhYL-K57Z"
      }
    },
    {
      "cell_type": "code",
      "source": [
        "#TYPE YOUR IMPLEMENTATION HERE"
      ],
      "metadata": {
        "id": "UxFl4O-aLHyN"
      },
      "execution_count": null,
      "outputs": []
    },
    {
      "cell_type": "markdown",
      "source": [
        "**EXERCISE 7** \n",
        "\n",
        "Implement a Kripke Structure for the following Python program and check some formulas:\n",
        "\n",
        "x=5\n",
        "\n",
        "while x>0:\n",
        "\n",
        "    x=x-1"
      ],
      "metadata": {
        "id": "vMsYXwcZLPMe"
      }
    },
    {
      "cell_type": "code",
      "source": [
        "#TYPE YOUR IMPLEMENTATION HERE"
      ],
      "metadata": {
        "id": "OuaoO-6NLUqj"
      },
      "execution_count": null,
      "outputs": []
    },
    {
      "cell_type": "markdown",
      "source": [
        "### **HOMEWORK** "
      ],
      "metadata": {
        "id": "keKsSkvVT5Xn"
      }
    },
    {
      "cell_type": "markdown",
      "source": [
        "**EXERCISE 1** \n",
        "\n",
        "Implement a Kripke Structure for the following Python program and check some formulas:\n",
        "\n",
        "V=[4,2,5,6,8]\n",
        "\n",
        "max=0\n",
        "\n",
        "for i in range(size(V)):\n",
        "\n",
        "    if V[i]>max:\n",
        "\n",
        "      max=V[i]"
      ],
      "metadata": {
        "id": "LQSx58gPL5Tp"
      }
    },
    {
      "cell_type": "code",
      "source": [
        "#TYPE YOUR IMPLEMENTATION HERE"
      ],
      "metadata": {
        "id": "fKP-gxxiM78c"
      },
      "execution_count": null,
      "outputs": []
    },
    {
      "cell_type": "markdown",
      "source": [
        "**EXERCISE 2** \n",
        "\n",
        "Implement a Kripke Structure for the following Python program and check some formulas:\n",
        "\n",
        "V=[4,2,5,6,8]\n",
        "\n",
        "max=0\n",
        "\n",
        "for i in range(size(V)-1):\n",
        "\n",
        "    for j in range(size(V)):\n",
        "\n",
        "      if V[j]<V[i]:\n",
        "\n",
        "        aux = V[i]\n",
        "\n",
        "        V[i]=V[j]\n",
        "\n",
        "        V[j]=aux\n",
        "\n",
        "\n",
        "    "
      ],
      "metadata": {
        "id": "1L7DXf1dNEar"
      }
    },
    {
      "cell_type": "code",
      "source": [
        "#TYPE YOUR SOLUTION HERE"
      ],
      "metadata": {
        "id": "s_9emTZHNze9"
      },
      "execution_count": null,
      "outputs": []
    }
  ]
}