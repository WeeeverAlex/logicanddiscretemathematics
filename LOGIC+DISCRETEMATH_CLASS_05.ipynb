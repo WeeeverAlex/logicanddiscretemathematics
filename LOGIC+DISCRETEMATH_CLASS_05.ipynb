{
  "cells": [
    {
      "cell_type": "markdown",
      "metadata": {
        "id": "33EEpDW7pOaO"
      },
      "source": [
        "<div class=\"alert alert-block alert-info\">\n",
        "\n",
        "#**CLASS 05 - LINEAR TEMPORAL LOGIC (LTL) - PART III**\n",
        "**Learning Objectives:**\n",
        "*   Reviewing of LTL Operators (unary + binary operators)\n",
        "*   Kripke Structures\n",
        "*   Model Checking in PL (Propositional Logic) and LTL\n",
        "*  Implementation of Model Checking with PL and LTL\n",
        "</div>\n"
      ]
    },
    {
      "cell_type": "markdown",
      "metadata": {
        "id": "3ypLUjyP2u9Q"
      },
      "source": [
        "## **LTL OPERATORS REVIEW**\n",
        "\n",
        "A PL (Propositional Logic) formula is either:\n",
        "\n",
        "* ⊤ (**true**) or ⊥ (**false**)\n",
        "* a propositional variable\n",
        "* ¬𝜑1, 𝜑1∧𝜑2, 𝜑1∨𝜑2, or 𝜑1→𝜑2 where both 𝜑1 and 𝜑2 are PL formulas\n",
        "\n",
        "LTL (Linear Temporal Logic) formulas have the form 𝐴𝜌 where 𝜌 is a LTL path formula and a LTL path formula is either:\n",
        "\n",
        "* ⊤ or ⊥\n",
        "*  propositional variable\n",
        "*  ¬𝜑1, 𝜑1∧𝜑2, 𝜑1∨𝜑2, or 𝜑1→𝜑2, where both 𝜑1 and 𝜑2 are LTL path formulas\n",
        "* 𝐗𝜑1, 𝐅𝜑1, 𝐆𝜑1, 𝜑1𝐔𝜑2, or 𝜑1𝐑𝜑2 where both 𝜑1 and 𝜑2 are LTL path formulas.\n"
      ]
    },
    {
      "cell_type": "markdown",
      "metadata": {
        "id": "kZZ_vmTNGigT"
      },
      "source": [
        "**KRIPKE STRUCTURES**\n",
        "\n",
        "A Kripke structure is a **directed graph**, equipped with a set of initial nodes, such that **every node** is source of some edge and it **is labeled by a set of atomic propositions**. The nodes of Kripke structure are called states:\n",
        "\n",
        "A Kripke structure is a tuple (𝑆,𝑆0,𝑅,𝐿) such that:\n",
        "\n",
        "* 𝑆 is a finite set of states\n",
        "* 𝑆0⊆𝑆 is a set of initial states\n",
        "* 𝑅⊆𝑆×𝑆 is a set of transitions such that for all 𝑠∈𝑆 there exists a (𝑠,𝑠′)∈𝑅 for some 𝑠′∈𝑆\n",
        "* 𝐿:𝑆→2^{AP} maps each state into a set of atomic propositions. Sometimes, the set of initial states is omitted. In such cases, 𝑆 and 𝑆0 coincide.\n",
        "\n",
        "A computation of a Kripke structure (𝑆,𝑆0,𝑅,𝐿) is an infinite path of (𝑆,𝑅) that starts from some 𝑠∈𝑆0. In the following code we are specifying a Kripke structure using the Python module pyModelChecking."
      ]
    },
    {
      "cell_type": "code",
      "execution_count": 3,
      "metadata": {
        "colab": {
          "base_uri": "https://localhost:8080/"
        },
        "id": "Qu_lkt5DKjqG",
        "outputId": "a273af15-f956-44b7-ffad-efd15094e2c1"
      },
      "outputs": [
        {
          "name": "stdout",
          "output_type": "stream",
          "text": [
            "Requirement already satisfied: pyModelChecking in /Library/Frameworks/Python.framework/Versions/3.9/lib/python3.9/site-packages (1.3.3)\n",
            "Requirement already satisfied: lark-parser in /Library/Frameworks/Python.framework/Versions/3.9/lib/python3.9/site-packages (from pyModelChecking) (0.12.0)\n"
          ]
        }
      ],
      "source": [
        "!pip install pyModelChecking"
      ]
    },
    {
      "cell_type": "code",
      "execution_count": 6,
      "metadata": {
        "id": "vl5DEMkfMaLa"
      },
      "outputs": [],
      "source": [
        "from pyModelChecking import Kripke\n",
        "\n",
        "K=Kripke(S=[0,1,2], S0=[0], R=[(0,1),(1,2),(2,2)], L={0: set(['p']), 1:set(['p','q']), 2: set([''])})"
      ]
    },
    {
      "cell_type": "markdown",
      "metadata": {
        "id": "Znjg8MrRM8Df"
      },
      "source": [
        "**EXERCISE 1**\n",
        "\n",
        "Interpret the Kripke Structure K:"
      ]
    },
    {
      "cell_type": "markdown",
      "metadata": {
        "id": "ClmrJBDJNTek"
      },
      "source": [
        "Type your interpretation here\n",
        "\n",
        "\n",
        "\n"
      ]
    },
    {
      "cell_type": "markdown",
      "metadata": {
        "id": "ctTfJL7wZ5Ta"
      },
      "source": [
        "**EXERCISE 2** \n",
        "\n",
        "Implement a Kripke Structure for the following Python program:\n",
        "\n",
        "x=3\n",
        "\n",
        "y=x+1\n"
      ]
    },
    {
      "cell_type": "code",
      "execution_count": 3,
      "metadata": {
        "id": "OE6b9IYhhvPz"
      },
      "outputs": [],
      "source": [
        "#TYPE YOUR IMPLEMENTATION HERE\n",
        "\n",
        "K=Kripke(S=[0,1,2], S0=[0], R=[(0,1), (1,2), (2,2)], L={1:set(['x=3']), 2: set(['x=3', 'y=4'])})"
      ]
    },
    {
      "cell_type": "markdown",
      "metadata": {
        "id": "fyy-ndu7n8KR"
      },
      "source": [
        "**EXERCISE 3** \n",
        "\n",
        "Implement a Kripke Structure for the following Python program:\n",
        "\n",
        "x=5\n",
        "\n",
        "if x>0:\n",
        "\n",
        "    y=1;\n",
        "\n",
        "else:\n",
        "\n",
        "    y=0"
      ]
    },
    {
      "cell_type": "code",
      "execution_count": 4,
      "metadata": {
        "id": "i0FTaBTwoUlo"
      },
      "outputs": [],
      "source": [
        "#TYPE YOUR IMPLEMENTATION HERE\n",
        "\n",
        "K=Kripke(S=[0,1,2,3], S0=[0], R=[(0,1), (1,2), (1,3), (2,2), (3,3)], L={1:set(['x=5']), 2: set(['x>0', 'y=1']), 3: set(['x<=0, y=0'])})"
      ]
    },
    {
      "cell_type": "markdown",
      "metadata": {
        "id": "ZzOscFM8oayy"
      },
      "source": [
        "**EXERCISE 4** \n",
        "\n",
        "Implement a Kripke Structure for the following Python program:\n",
        "\n",
        "x=5\n",
        "\n",
        "while x>0:\n",
        "\n",
        "    x=x-1"
      ]
    },
    {
      "cell_type": "code",
      "execution_count": 11,
      "metadata": {
        "id": "cbWIjUcHog8K"
      },
      "outputs": [],
      "source": [
        "#TYPE YOUR IMPLEMENTATION HERE\n",
        "\n",
        "K=Kripke(S=[0,1,2,3,4], S0=[0], R=[(0,1), (1,2), (2,3), (3,2), (3,4), (4,4)], L={1:set(['x=5']), 2: set(['x>0']), 3: set(['x=x-1']), 4: set(['x<=0']) })"
      ]
    },
    {
      "cell_type": "markdown",
      "metadata": {
        "id": "ldH4O8QG_22o"
      },
      "source": [
        "**SEMANTICS**\n",
        "\n",
        "If 𝐾 is a Kripke structure, 𝑠 one of its states, and 𝜑 a propositional formula, we write 𝐾,𝑠⊨𝜑 (to be read “𝐾 and 𝑠 satisfy 𝜑 ”) meaning that 𝜑 holds at state 𝑠 in 𝐾.\n",
        "\n",
        "Let 𝐾 be the Kripke structure (𝑆,𝑆0,𝑅,𝐿); the relation ⊨ is defined recursively as follows:\n",
        "\n",
        "* 𝐾,𝑠⊨⊤ and 𝐾,𝑠⊭⊥ for any state 𝑠∈𝑆\n",
        "* if 𝑝∈𝐴𝑃, then 𝐾,𝑠⊨𝑝 ⟺ 𝑝∈𝐿(𝑠)\n",
        "* 𝐾,𝑠⊨¬𝜑 ⟺ 𝐾,𝑠⊭𝜑\n",
        "* 𝐾,𝑠⊨𝜑1∧𝜑2 ⟺ 𝐾,𝑠⊨𝜑1 and 𝐾,𝑠⊨𝜑2\n",
        "* 𝐾,𝑠⊨𝜑1∨𝜑2 ⟺ 𝐾,𝑠⊨𝜑1 or 𝐾,𝑠⊨𝜑2\n",
        "* 𝐾,𝑠⊨𝜑1→𝜑2 ⟺ 𝐾,𝑠⊭𝜑1 or 𝐾,𝑠⊨𝜑2"
      ]
    },
    {
      "cell_type": "markdown",
      "metadata": {
        "id": "70oTPRG9Bzl9"
      },
      "source": [
        "**MODEL CHECKING**\n",
        "\n",
        "Model checking is a technique to establish the set of states in Kripke structure that satisfy a given temporal formula. More formally, provided a Kripke structure 𝐾=(𝑆,𝑆0,𝑅,𝐿) and a temporal formula 𝜑, model checking aims to identify 𝑆′⊆𝑆 such that 𝐾,𝑠𝑖⊨𝜑 for all 𝑠𝑖∈𝑆′.\n"
      ]
    },
    {
      "cell_type": "code",
      "execution_count": 9,
      "metadata": {
        "colab": {
          "base_uri": "https://localhost:8080/"
        },
        "id": "Z38_z_zjFq82",
        "outputId": "4fe5f054-80bf-4dcb-c417-673a4bd080da"
      },
      "outputs": [
        {
          "data": {
            "text/plain": [
              "{0, 1, 3}"
            ]
          },
          "execution_count": 9,
          "metadata": {},
          "output_type": "execute_result"
        }
      ],
      "source": [
        "from pyModelChecking import *\n",
        "from pyModelChecking.LTL import *\n",
        "\n",
        "K=Kripke(R=[(0,0),(0,1),(1,2),(2,2),(3,3)], L={0: set(['p']), 1:set(['p','q']),3:set(['p'])})\n",
        "modelcheck(K,'A (p)')"
      ]
    },
    {
      "cell_type": "code",
      "execution_count": 10,
      "metadata": {
        "colab": {
          "base_uri": "https://localhost:8080/"
        },
        "id": "GqhrShggJ8FK",
        "outputId": "b033c265-d21b-40b4-e37b-5cd7b9afe149"
      },
      "outputs": [
        {
          "data": {
            "text/plain": [
              "{1}"
            ]
          },
          "execution_count": 10,
          "metadata": {},
          "output_type": "execute_result"
        }
      ],
      "source": [
        "modelcheck(K,'A (q)')"
      ]
    },
    {
      "cell_type": "code",
      "execution_count": 14,
      "metadata": {
        "colab": {
          "base_uri": "https://localhost:8080/"
        },
        "id": "wlCupPIsKDL3",
        "outputId": "74848102-e6f7-4084-9f9b-323dd8f0c3b2"
      },
      "outputs": [
        {
          "data": {
            "text/plain": [
              "{0, 2, 3}"
            ]
          },
          "execution_count": 14,
          "metadata": {},
          "output_type": "execute_result"
        }
      ],
      "source": [
        "modelcheck(K,'A (not q)')"
      ]
    },
    {
      "cell_type": "code",
      "execution_count": 15,
      "metadata": {
        "colab": {
          "base_uri": "https://localhost:8080/"
        },
        "id": "4zhHokPpJjns",
        "outputId": "7bab095d-7c8e-4364-84cd-4b04758cfeff"
      },
      "outputs": [
        {
          "data": {
            "text/plain": [
              "{1}"
            ]
          },
          "execution_count": 15,
          "metadata": {},
          "output_type": "execute_result"
        }
      ],
      "source": [
        "modelcheck(K,'A (p & q)')"
      ]
    },
    {
      "cell_type": "markdown",
      "metadata": {
        "id": "MTap92zvKq_R"
      },
      "source": [
        "**EXERCISE 5** \n",
        "\n",
        "Implement a Kripke Structure for the following Python program and check some formulas:\n",
        "\n",
        "x=3\n",
        "\n",
        "y=x+1"
      ]
    },
    {
      "cell_type": "code",
      "execution_count": 19,
      "metadata": {
        "colab": {
          "base_uri": "https://localhost:8080/"
        },
        "id": "7UAHpWUyK3cT",
        "outputId": "984a4d35-9ef0-4af4-cf65-800d235646d4"
      },
      "outputs": [
        {
          "data": {
            "text/plain": [
              "{2}"
            ]
          },
          "execution_count": 19,
          "metadata": {},
          "output_type": "execute_result"
        }
      ],
      "source": [
        "#TYPE YOUR IMPLEMENTATION HERE\n",
        "\n",
        "# K=Kripke(S=[0,1,2], S0=[0], R=[(0,1), (1,2), (2,2)], L={1:set(['x=3']), 2: set(['x=3', 'y=4'])})\n",
        "K=Kripke(S=[0,1,2], S0=[0], R=[(0,1), (1,2), (2,2)], L={1:set(['q']), 2: set(['q', 'p'])})\n",
        "modelcheck(K,'A (p)')"
      ]
    },
    {
      "cell_type": "markdown",
      "metadata": {
        "id": "mOIVhYL-K57Z"
      },
      "source": [
        "**EXERCISE 6** \n",
        "\n",
        "Implement a Kripke Structure for the following Python program and check some formulas:\n",
        "\n",
        "x=5\n",
        "\n",
        "if x>0:\n",
        "\n",
        "    y=1;\n",
        "\n",
        "else:\n",
        "\n",
        "    y=0"
      ]
    },
    {
      "cell_type": "code",
      "execution_count": 109,
      "metadata": {
        "colab": {
          "base_uri": "https://localhost:8080/"
        },
        "id": "UxFl4O-aLHyN",
        "outputId": "528c83e6-2857-4d4a-c72c-706b9e962438"
      },
      "outputs": [
        {
          "data": {
            "text/plain": [
              "{1}"
            ]
          },
          "execution_count": 109,
          "metadata": {},
          "output_type": "execute_result"
        }
      ],
      "source": [
        "#TYPE YOUR IMPLEMENTATION HERE\n",
        "\n",
        "# K=Kripke(S=[0,1,2,3], S0=[0], R=[(0,1), (1,2), (1,3), (2,2), (3,3)], L={1:set(['x=5']), 2: set(['x>0', 'y=1']), 3: set(['x<=0, y=0'])})\n",
        "K=Kripke(S=[0,1,2,3], S0=[0], R=[(0,1), (1,2), (1,3), (2,2), (3,3)], L={1:set(['p']), 2: set(['q', 'r']), 3: set(['s, t'])})\n",
        "\n",
        "modelcheck(K, 'A (p)') # estados em que x = 5"
      ]
    },
    {
      "cell_type": "markdown",
      "metadata": {
        "id": "vMsYXwcZLPMe"
      },
      "source": [
        "**EXERCISE 7** \n",
        "\n",
        "Implement a Kripke Structure for the following Python program and check some formulas:\n",
        "\n",
        "x=5\n",
        "\n",
        "while x>0:\n",
        "\n",
        "    x=x-1"
      ]
    },
    {
      "cell_type": "code",
      "execution_count": 5,
      "metadata": {
        "id": "OuaoO-6NLUqj"
      },
      "outputs": [
        {
          "ename": "NameError",
          "evalue": "name 'Kripke' is not defined",
          "output_type": "error",
          "traceback": [
            "\u001b[0;31m---------------------------------------------------------------------------\u001b[0m",
            "\u001b[0;31mNameError\u001b[0m                                 Traceback (most recent call last)",
            "\u001b[1;32m/Users/alexwever/Desktop/Lógica e Matemática Discreta/LOGIC+DISCRETEMATH_CLASS_05.ipynb Cell 25\u001b[0m in \u001b[0;36m<cell line: 2>\u001b[0;34m()\u001b[0m\n\u001b[1;32m      <a href='vscode-notebook-cell:/Users/alexwever/Desktop/Lo%CC%81gica%20e%20Matema%CC%81tica%20Discreta/LOGIC%2BDISCRETEMATH_CLASS_05.ipynb#X33sZmlsZQ%3D%3D?line=0'>1</a>\u001b[0m \u001b[39m#TYPE YOUR IMPLEMENTATION HERE\u001b[39;00m\n\u001b[0;32m----> <a href='vscode-notebook-cell:/Users/alexwever/Desktop/Lo%CC%81gica%20e%20Matema%CC%81tica%20Discreta/LOGIC%2BDISCRETEMATH_CLASS_05.ipynb#X33sZmlsZQ%3D%3D?line=1'>2</a>\u001b[0m K\u001b[39m=\u001b[39mKripke(S\u001b[39m=\u001b[39m[\u001b[39m0\u001b[39m,\u001b[39m1\u001b[39m,\u001b[39m2\u001b[39m,\u001b[39m3\u001b[39m,\u001b[39m4\u001b[39m], S0\u001b[39m=\u001b[39m[\u001b[39m0\u001b[39m], R\u001b[39m=\u001b[39m[(\u001b[39m0\u001b[39m,\u001b[39m1\u001b[39m), (\u001b[39m1\u001b[39m,\u001b[39m2\u001b[39m), (\u001b[39m2\u001b[39m,\u001b[39m3\u001b[39m), (\u001b[39m3\u001b[39m,\u001b[39m2\u001b[39m), (\u001b[39m3\u001b[39m,\u001b[39m4\u001b[39m), (\u001b[39m4\u001b[39m,\u001b[39m4\u001b[39m)], L\u001b[39m=\u001b[39m{\u001b[39m1\u001b[39m:\u001b[39mset\u001b[39m([\u001b[39m'\u001b[39m\u001b[39mx=5\u001b[39m\u001b[39m'\u001b[39m]), \u001b[39m2\u001b[39m: \u001b[39mset\u001b[39m([\u001b[39m'\u001b[39m\u001b[39mx>0\u001b[39m\u001b[39m'\u001b[39m]), \u001b[39m3\u001b[39m: \u001b[39mset\u001b[39m([\u001b[39m'\u001b[39m\u001b[39mx=x-1\u001b[39m\u001b[39m'\u001b[39m]), \u001b[39m4\u001b[39m: \u001b[39mset\u001b[39m([\u001b[39m'\u001b[39m\u001b[39mx<=0\u001b[39m\u001b[39m'\u001b[39m]) })\n",
            "\u001b[0;31mNameError\u001b[0m: name 'Kripke' is not defined"
          ]
        }
      ],
      "source": [
        "#TYPE YOUR IMPLEMENTATION HERE\n",
        "K=Kripke(S=[0,1,2,3,4], S0=[0], R=[(0,1), (1,2), (2,3), (3,2), (3,4), (4,4)], L={1:set(['x=5']), 2: set(['x>0']), 3: set(['x=x-1']), 4: set(['x<=0']) })"
      ]
    },
    {
      "cell_type": "markdown",
      "metadata": {
        "id": "keKsSkvVT5Xn"
      },
      "source": [
        "### **HOMEWORK** "
      ]
    },
    {
      "cell_type": "markdown",
      "metadata": {
        "id": "LQSx58gPL5Tp"
      },
      "source": [
        "**EXERCISE 1** \n",
        "\n",
        "Implement a Kripke Structure for the following Python program and check some formulas:\n",
        "\n",
        "V=[4,2,5,6,8]\n",
        "\n",
        "max=0\n",
        "\n",
        "for i in range(size(V)):\n",
        "\n",
        "    if V[i]>max:\n",
        "\n",
        "      max=V[i]"
      ]
    },
    {
      "cell_type": "code",
      "execution_count": 21,
      "metadata": {},
      "outputs": [],
      "source": [
        "#TYPE YOUR IMPLEMENTATION HERE\n",
        "\n",
        "# a -> v=[4,2,5,6,8] \n",
        "# b -> max = 0 \n",
        "# c -> v[i] > max \n",
        "# d -> max = v[i] \n",
        "# e -> i = i + 1 \n",
        "\n",
        "K = Kripke(S = [0,1,2,3,4,5,6,7,8,9],S0 = [0], R = [(0,1),(1,2),(2,3),(3,4),(4,5),(5,6),(6,7),(7,8),(8,9),(9,9)], L ={1: set(['a']), 2: set(['b']), 3: set(['c']), 4: set(['d']), 5: set(['e'])})\n"
      ]
    },
    {
      "cell_type": "code",
      "execution_count": 23,
      "metadata": {},
      "outputs": [
        {
          "data": {
            "text/plain": [
              "{0, 2, 3, 4, 5, 6, 7, 8, 9}"
            ]
          },
          "execution_count": 23,
          "metadata": {},
          "output_type": "execute_result"
        }
      ],
      "source": [
        "modelcheck(K, 'A (a --> (b & (c --> (d & e))))')"
      ]
    },
    {
      "cell_type": "markdown",
      "metadata": {
        "id": "1L7DXf1dNEar"
      },
      "source": [
        "**EXERCISE 2** \n",
        "\n",
        "Implement a Kripke Structure for the following Python program and check some formulas:\n",
        "\n",
        "V=[4,2,5,6,8]\n",
        "\n",
        "max=0\n",
        "\n",
        "for i in range(size(V)-1):\n",
        "\n",
        "    for j in range(size(V)):\n",
        "\n",
        "      if V[j]<V[i]:\n",
        "\n",
        "        aux = V[i]\n",
        "\n",
        "        V[i]=V[j]\n",
        "\n",
        "        V[j]=aux\n",
        "\n",
        "\n",
        "    "
      ]
    },
    {
      "cell_type": "code",
      "execution_count": 12,
      "metadata": {
        "id": "s_9emTZHNze9"
      },
      "outputs": [],
      "source": [
        "#TYPE YOUR IMPLEMENTATION HERE\n",
        "\n",
        "# a -> v=[4,2,5,6,8] \n",
        "# b -> max = 0 \n",
        "# c -> i<4 \n",
        "# d -> j<5 \n",
        "# e -> v[j] < v[i]  \n",
        "# f -> aux = v[i] \n",
        "# g -> v[i] = v[j] \n",
        "# h -> v[j] = aux \n",
        "# i -> j = j+1 \n",
        "# j -> j >5 \n",
        "# k -> i = i+1 \n",
        "# l -> i > 4 \n",
        "\n",
        "K = Kripke(S = [0,1,2,3,4,5,6,7,8,9],S0 = [0], R = [(0,1),(1,2),(2,3),(3,4),(4,5),(5,6),(6,7),(7,8),(8,9),(9,9)], L = {1: set(['a']), 2: set(['b']), 3: set(['c']), 4: set(['d']), 5: set(['e']), 6: set(['f']), 7: set(['g']), 8: set(['h']), 9: set(['i'])})"
      ]
    },
    {
      "cell_type": "code",
      "execution_count": 18,
      "metadata": {},
      "outputs": [
        {
          "data": {
            "text/plain": [
              "{6}"
            ]
          },
          "execution_count": 18,
          "metadata": {},
          "output_type": "execute_result"
        }
      ],
      "source": [
        "modelcheck(K,'A f')"
      ]
    }
  ],
  "metadata": {
    "colab": {
      "provenance": []
    },
    "kernelspec": {
      "display_name": "Python 3",
      "name": "python3"
    },
    "language_info": {
      "codemirror_mode": {
        "name": "ipython",
        "version": 3
      },
      "file_extension": ".py",
      "mimetype": "text/x-python",
      "name": "python",
      "nbconvert_exporter": "python",
      "pygments_lexer": "ipython3",
      "version": "3.9.10"
    }
  },
  "nbformat": 4,
  "nbformat_minor": 0
}
