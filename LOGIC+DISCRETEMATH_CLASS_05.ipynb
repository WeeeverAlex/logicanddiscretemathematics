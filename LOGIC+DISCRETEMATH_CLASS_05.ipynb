{
  "nbformat": 4,
  "nbformat_minor": 0,
  "metadata": {
    "colab": {
      "provenance": [],
      "authorship_tag": "ABX9TyOKdy8opRfVY0Yd5/ywp1dI",
      "include_colab_link": true
    },
    "kernelspec": {
      "name": "python3",
      "display_name": "Python 3"
    },
    "language_info": {
      "name": "python"
    }
  },
  "cells": [
    {
      "cell_type": "markdown",
      "metadata": {
        "id": "view-in-github",
        "colab_type": "text"
      },
      "source": [
        "<a href=\"https://colab.research.google.com/github/lucianosilva-github/logicanddiscretemathematics/blob/main/LOGIC%2BDISCRETEMATH_CLASS_05.ipynb\" target=\"_parent\"><img src=\"https://colab.research.google.com/assets/colab-badge.svg\" alt=\"Open In Colab\"/></a>"
      ]
    },
    {
      "cell_type": "markdown",
      "source": [
        "<div class=\"alert alert-block alert-info\">\n",
        "\n",
        "#**CLASS 05 - LINEAR TEMPORAL LOGIC (LTL) - PART III**\n",
        "**Learning Objectives:**\n",
        "*   Reviewing of LTL Operators (unary + binary operators)\n",
        "*   Kripke Structures\n",
        "*   Model Checking in PL (Propositional Logic) and LTL\n",
        "*  Implementation of Model Checking with PL and LTL\n",
        "</div>\n"
      ],
      "metadata": {
        "id": "33EEpDW7pOaO"
      }
    },
    {
      "cell_type": "markdown",
      "source": [
        "## **LTL OPERATORS REVIEW**\n",
        "\n",
        "A PL (Propositional Logic) formula is either:\n",
        "\n",
        "* ⊤ (**true**) or ⊥ (**false**)\n",
        "* a propositional variable\n",
        "* ¬𝜑1, 𝜑1∧𝜑2, 𝜑1∨𝜑2, or 𝜑1→𝜑2 where both 𝜑1 and 𝜑2 are PL formulas\n",
        "\n",
        "LTL (Linear Temporal Logic) formulas have the form 𝐴𝜌 where 𝜌 is a LTL path formula and a LTL path formula is either:\n",
        "\n",
        "* ⊤ or ⊥\n",
        "*  propositional variable\n",
        "*  ¬𝜑1, 𝜑1∧𝜑2, 𝜑1∨𝜑2, or 𝜑1→𝜑2, where both 𝜑1 and 𝜑2 are LTL path formulas\n",
        "* 𝐗𝜑1, 𝐅𝜑1, 𝐆𝜑1, 𝜑1𝐔𝜑2, or 𝜑1𝐑𝜑2 where both 𝜑1 and 𝜑2 are LTL path formulas.\n"
      ],
      "metadata": {
        "id": "3ypLUjyP2u9Q"
      }
    },
    {
      "cell_type": "markdown",
      "source": [
        "**KRIPKE STRUCTURES**\n",
        "\n",
        "A Kripke structure is a **directed graph**, equipped with a set of initial nodes, such that **every node** is source of some edge and it **is labeled by a set of atomic propositions**. The nodes of Kripke structure are called states:\n",
        "\n",
        "A Kripke structure is a tuple (𝑆,𝑆0,𝑅,𝐿) such that:\n",
        "\n",
        "* 𝑆 is a finite set of states\n",
        "* 𝑆0⊆𝑆 is a set of initial states\n",
        "* 𝑅⊆𝑆×𝑆 is a set of transitions such that for all 𝑠∈𝑆 there exists a (𝑠,𝑠′)∈𝑅 for some 𝑠′∈𝑆\n",
        "* 𝐿:𝑆→2^{AP} maps each state into a set of atomic propositions. Sometimes, the set of initial states is omitted. In such cases, 𝑆 and 𝑆0 coincide.\n",
        "\n",
        "A computation of a Kripke structure (𝑆,𝑆0,𝑅,𝐿) is an infinite path of (𝑆,𝑅) that starts from some 𝑠∈𝑆0. In the following code we are specifying a Kripke structure using the Python module pyModelChecking."
      ],
      "metadata": {
        "id": "kZZ_vmTNGigT"
      }
    },
    {
      "cell_type": "code",
      "source": [
        "!pip install pyModelChecking"
      ],
      "metadata": {
        "id": "Qu_lkt5DKjqG",
        "colab": {
          "base_uri": "https://localhost:8080/"
        },
        "outputId": "f97fac2b-b234-4983-9648-debed8f31370"
      },
      "execution_count": 1,
      "outputs": [
        {
          "output_type": "stream",
          "name": "stdout",
          "text": [
            "Looking in indexes: https://pypi.org/simple, https://us-python.pkg.dev/colab-wheels/public/simple/\n",
            "Collecting pyModelChecking\n",
            "  Downloading pyModelChecking-1.3.3-py3-none-any.whl (47 kB)\n",
            "\u001b[2K     \u001b[90m━━━━━━━━━━━━━━━━━━━━━━━━━━━━━━━━━━━━━━━━\u001b[0m \u001b[32m47.4/47.4 KB\u001b[0m \u001b[31m1.3 MB/s\u001b[0m eta \u001b[36m0:00:00\u001b[0m\n",
            "\u001b[?25hCollecting lark-parser\n",
            "  Downloading lark_parser-0.12.0-py2.py3-none-any.whl (103 kB)\n",
            "\u001b[2K     \u001b[90m━━━━━━━━━━━━━━━━━━━━━━━━━━━━━━━━━━━━━━━\u001b[0m \u001b[32m103.5/103.5 KB\u001b[0m \u001b[31m6.3 MB/s\u001b[0m eta \u001b[36m0:00:00\u001b[0m\n",
            "\u001b[?25hInstalling collected packages: lark-parser, pyModelChecking\n",
            "Successfully installed lark-parser-0.12.0 pyModelChecking-1.3.3\n"
          ]
        }
      ]
    },
    {
      "cell_type": "code",
      "source": [
        "from pyModelChecking import Kripke\n",
        "\n",
        "K=Kripke(S=[0,1,2], S0=[0], R=[(0,1),(1,2),(2,2)], L={0: set(['p']), 1:set(['p','q']), 2: set([''])})"
      ],
      "metadata": {
        "id": "vl5DEMkfMaLa"
      },
      "execution_count": 25,
      "outputs": []
    },
    {
      "cell_type": "markdown",
      "source": [
        "**EXERCISE 1**\n",
        "\n",
        "Interpret the Kripke Structure K:"
      ],
      "metadata": {
        "id": "Znjg8MrRM8Df"
      }
    },
    {
      "cell_type": "markdown",
      "source": [
        "Type your interpretation here\n",
        "\n",
        "\n",
        "\n"
      ],
      "metadata": {
        "id": "ClmrJBDJNTek"
      }
    },
    {
      "cell_type": "markdown",
      "source": [
        "### **EXERCISE 1** \n",
        "\n",
        "Implement a Kripke Structure for the following Python program:\n",
        "\n",
        "x=3\n",
        "\n",
        "y=x+1\n"
      ],
      "metadata": {
        "id": "ctTfJL7wZ5Ta"
      }
    },
    {
      "cell_type": "code",
      "source": [
        "#TYPE YOUR IMPLEMENTATION HERE"
      ],
      "metadata": {
        "id": "OE6b9IYhhvPz"
      },
      "execution_count": null,
      "outputs": []
    },
    {
      "cell_type": "code",
      "source": [
        "K=Kripke(S=[0,1,2], S0=[0], R=[(0,0),(0,1),(1,2),(2,2)], L={0: set(['']), 1:set(['x=3','y=4'])})"
      ],
      "metadata": {
        "id": "0beQhOahaMH0"
      },
      "execution_count": 20,
      "outputs": []
    },
    {
      "cell_type": "markdown",
      "source": [
        "### **HOMEWORK** \n",
        "\n",
        "Using the module FLLOAT, interpret and prove the following identities and test them:\n",
        "\n",
        "* φ U ψ ≡ ψ ∨ ( φ ∧ X(φ U ψ) )\n",
        "\n",
        "* φ W ψ ≡ ψ ∨ ( φ ∧ X(φ W ψ) )\n",
        "\n",
        "* φ U ψ ≡ φ U (φ U ψ)\n",
        "\n",
        "* X (φ U ψ)≡ (X φ) U (X ψ)"
      ],
      "metadata": {
        "id": "keKsSkvVT5Xn"
      }
    },
    {
      "cell_type": "code",
      "source": [
        "#TYPE YOUR IMPLEMENTATION HERE"
      ],
      "metadata": {
        "id": "mO6HgduF-Xxf"
      },
      "execution_count": null,
      "outputs": []
    }
  ]
}