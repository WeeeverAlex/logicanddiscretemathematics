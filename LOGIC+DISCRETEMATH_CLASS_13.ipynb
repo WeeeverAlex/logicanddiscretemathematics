{
  "cells": [
    {
      "cell_type": "markdown",
      "metadata": {
        "colab_type": "text",
        "id": "view-in-github"
      },
      "source": [
        "<a href=\"https://colab.research.google.com/github/lucianosilva-github/logicanddiscretemathematics/blob/main/LOGIC%2BDISCRETEMATH_CLASS_13.ipynb\" target=\"_parent\"><img src=\"https://colab.research.google.com/assets/colab-badge.svg\" alt=\"Open In Colab\"/></a>"
      ]
    },
    {
      "cell_type": "markdown",
      "metadata": {
        "id": "33EEpDW7pOaO"
      },
      "source": [
        "<div class=\"alert alert-block alert-info\">\n",
        "\n",
        "#**CLASS 13 - TYPE THEORY - PART III**\n",
        "**Learning Objectives:**\n",
        "* ALGEBRAIC SPECIFICATION OF DATA TYPES\n",
        "* IMPLEMENTATION OF ALGEBRAIC SPECIFICATION\n"
      ]
    },
    {
      "cell_type": "markdown",
      "metadata": {
        "id": "bR0VEroxclwf"
      },
      "source": [
        "**ALGEBRAIC SPECIFICATION OF DATA TYPES**\n",
        "\n",
        "Algebraic specifications provide a mathematical framework for describing abstract data types (ADT). This framework offers:\n",
        "\n",
        "* language independence,\n",
        "* implementation independence,\n",
        "* specification of required types and operations thereon, and\n",
        "* specification of semantics of operations.\n",
        "\n",
        "The syntatic part of an algebraic specification is called a **presentation**. A presentation if formed by sorts, operations and axioms. Let us consider an algebraic specification of the Nat data type:\n",
        "\n",
        "**SPEC** NAT\n",
        "\n",
        "**SORTS** NAT\n",
        "\n",
        "**OPERATIONS**\n",
        "\n",
        "    new: -> NAT\n",
        "\n",
        "    suc: NAT -> NAT\n",
        "\n",
        "    add: NAT NAT -> NAT\n",
        "\n",
        "**AXIOMS**\n",
        "\n",
        "    add(x,suc(y))=suc(add(x,y)) ∀x,y∈ NAT"
      ]
    },
    {
      "cell_type": "markdown",
      "metadata": {
        "id": "qZcasUjp2nTk"
      },
      "source": [
        "In this specification we have three operations:\n",
        "\n",
        "* the creation operation new, which produces a new NAT\n",
        "* the sucessor operation suc(x) = x+1\n",
        "* the add operation add(x,y)=x+y\n",
        "\n",
        "Besides we have an axiom relating the operations add and suc. This axioma states that add(x,suc(y))=x+suc(y)= x+(y+1)= (x+y)+1= suc(x+y)=suc(add(x,y)).\n",
        "\n",
        "Observe that in this specification, we do not know how the operations new, suc and add are implemented. But, following the axiom, we have a rule over suc and add.\n",
        "\n",
        "Let's implement this specification:"
      ]
    },
    {
      "cell_type": "code",
      "execution_count": 12,
      "metadata": {
        "id": "N93MFTDoc0qZ"
      },
      "outputs": [],
      "source": [
        "from dataclasses import dataclass\n",
        "\n",
        "\n",
        "@dataclass\n",
        "class NAT:\n",
        "    \n",
        "    def __init__(self,num):\n",
        "    #operation new   \n",
        "      self.num=num\n",
        "\n",
        "    def suc(nat):\n",
        "      return NAT (nat.num+1)\n",
        "\n",
        "    def add(nat1,nat2):\n",
        "      return NAT (nat1.num+nat2.num)"
      ]
    },
    {
      "cell_type": "code",
      "execution_count": 13,
      "metadata": {
        "id": "ZTTEo9cs75NA"
      },
      "outputs": [],
      "source": [
        "x=NAT(2)\n",
        "y=NAT(3)\n",
        "\n",
        "assert NAT.add(x,NAT.suc(y)).num==NAT.suc(NAT.add(x,y)).num"
      ]
    },
    {
      "cell_type": "markdown",
      "metadata": {
        "id": "REGXEDJ5k_g-"
      },
      "source": [
        "**EXERCISE 1**\n",
        "\n",
        "Provide an algebraic specification for INTEGER and implement it in Python."
      ]
    },
    {
      "attachments": {},
      "cell_type": "markdown",
      "metadata": {},
      "source": [
        "**IMPLEMENTATION OF ALGEBRAIC SPECIFICATION**\n",
        "\n",
        "**SPEC** INTEGER\n",
        "\n",
        "**SORTS** INTEGER\n",
        "\n",
        "**OPERATIONS**\n",
        "\n",
        "    new: -> INTEGER\n",
        "\n",
        "    suc: INTEGER -> INTEGER\n",
        "\n",
        "    pred: INTEGER -> INTEGER\n",
        "\n",
        "    add: INTEGER INTEGER -> INTEGER\n",
        "\n",
        "**AXIOMS**\n",
        "\n",
        "    add(x,suc(y))=suc(add(x,y)) ∀x,y∈ INTEGER\n",
        "    add(x,pred(y))=pred(add(x,y)) ∀x,y∈ INTEGER"
      ]
    },
    {
      "cell_type": "code",
      "execution_count": 14,
      "metadata": {
        "id": "ctMP4a79lnB4"
      },
      "outputs": [],
      "source": [
        "#IMPLEMENT YOUR CODE HERE\n",
        "#Provide an algebraic specification for INTEGER and implement it in Python.\n",
        "\n",
        "from dataclasses import dataclass\n",
        "\n",
        "\n",
        "@dataclass\n",
        "class INTERGER:\n",
        "    \n",
        "    def __init__(self,num):\n",
        "    #operation new   \n",
        "      self.num=num\n",
        "\n",
        "    def suc(interger):\n",
        "      return INTERGER (interger.num+1)\n",
        "    \n",
        "    def pred(interger):\n",
        "      return INTERGER (interger.num-1)\n",
        "\n",
        "    def add(interger1,interger2):\n",
        "      return INTERGER (interger1.num+interger2.num)\n",
        "\n",
        "\n",
        "\n"
      ]
    },
    {
      "cell_type": "code",
      "execution_count": 15,
      "metadata": {},
      "outputs": [],
      "source": [
        "x=INTERGER(2)\n",
        "y=INTERGER(3)\n",
        "\n",
        "assert INTERGER.add(x,INTERGER.suc(y)).num==INTERGER.suc(INTERGER.add(x,y)).num\n",
        "assert INTERGER.add(x,INTERGER.pred(y)).num==INTERGER.pred(INTERGER.add(x,y)).num"
      ]
    },
    {
      "cell_type": "markdown",
      "metadata": {
        "id": "J-HiAG7qlwfh"
      },
      "source": [
        "**EXERCISE 2**\n",
        "\n",
        "Provide an algebraic specification for REAL and implement it in Python."
      ]
    },
    {
      "attachments": {},
      "cell_type": "markdown",
      "metadata": {},
      "source": [
        "**IMPLEMENTATION OF ALGEBRAIC SPECIFICATION**\n",
        "\n",
        "**SPEC** REAL\n",
        "\n",
        "**SORTS** REAL\n",
        "\n",
        "**OPERATIONS**\n",
        "\n",
        "    new: -> REAL, BOOL\n",
        "\n",
        "    add: REAL REAL -> REAL\n",
        "\n",
        "**AXIOMS**\n",
        "\n",
        "    add(x,y)=x+y ∀x,y∈ REAL"
      ]
    },
    {
      "cell_type": "code",
      "execution_count": 16,
      "metadata": {
        "id": "rO2F47rRl2Na"
      },
      "outputs": [],
      "source": [
        "#IMPLEMENT YOUR CODE HERE\n",
        "#Provide an algebraic specification for REAL and implement it in Python.\n",
        "\n",
        "from dataclasses import dataclass\n",
        "\n",
        "\n",
        "@dataclass\n",
        "class REAL:\n",
        "    \n",
        "    def __init__(self,num):\n",
        "    #operation new   \n",
        "      self.num=num\n",
        "\n",
        "    def add(interger1,interger2):\n",
        "      return REAL (interger1.num+interger2.num)\n"
      ]
    },
    {
      "cell_type": "code",
      "execution_count": 17,
      "metadata": {},
      "outputs": [],
      "source": [
        "x = REAL(2)\n",
        "y = REAL(3)\n",
        "\n",
        "assert REAL.add(x,y).num==REAL.add(y,x).num"
      ]
    },
    {
      "cell_type": "markdown",
      "metadata": {
        "id": "E2fSAXmWl38g"
      },
      "source": [
        "**EXERCISE 3**\n",
        "\n",
        "Provide an algebraic specification for COMPLEX and implement it in Python."
      ]
    },
    {
      "attachments": {},
      "cell_type": "markdown",
      "metadata": {},
      "source": [
        "**IMPLEMENTATION OF ALGEBRAIC SPECIFICATION**\n",
        "\n",
        "**SPEC** COMPLEX\n",
        "\n",
        "**SORTS** COMPLEX\n",
        "\n",
        "**OPERATIONS**\n",
        "\n",
        "    new: -> COMPLEX\n",
        "\n",
        "    add: COMPLEX COMPLEX -> COMPLEX\n",
        "\n",
        "\n",
        "**AXIOMS**\n",
        "\n",
        "    add(x,y)=x+y ∀x,y∈ REAL"
      ]
    },
    {
      "cell_type": "code",
      "execution_count": null,
      "metadata": {
        "id": "RJ4AgilzmCP8"
      },
      "outputs": [],
      "source": []
    },
    {
      "cell_type": "markdown",
      "metadata": {
        "id": "yIWOTR6ymETE"
      },
      "source": [
        "**EXERCISE 4**\n",
        "\n",
        "Provide an algebraic specification for BOOLEAN and implement it in Python."
      ]
    },
    {
      "attachments": {},
      "cell_type": "markdown",
      "metadata": {},
      "source": [
        "**IMPLEMENTATION OF ALGEBRAIC SPECIFICATION**\n",
        "\n",
        "**SPEC** BOOL\n",
        "\n",
        "**SORTS** BOOL\n",
        "\n",
        "**OPERATIONS**\n",
        "\n",
        "    true: -> BOOL\n",
        "\n",
        "    false: -> BOOL\n",
        "\n",
        "    not: BOOL -> BOOL\n",
        "\n",
        "    and: BOOL BOOL -> BOOL\n",
        "\n",
        "**AXIOMS**\n",
        "\n",
        "    not(true)=false\n",
        "\n",
        "    not(false)=true\n",
        "\n",
        "    and(true,true)=true\n",
        "\n",
        "    and(true,false)=false\n",
        "\n",
        "    and(false,true)=false\n",
        "\n",
        "    and(false,false)=false"
      ]
    },
    {
      "cell_type": "code",
      "execution_count": 18,
      "metadata": {
        "id": "D1nEFHOUmKCn"
      },
      "outputs": [],
      "source": [
        "from dataclasses import dataclass\n",
        "\n",
        "\n",
        "@dataclass\n",
        "class BOOLEAN:\n",
        "\n",
        "    def true():\n",
        "      return True\n",
        "    \n",
        "    def false():\n",
        "        return False\n",
        "    \n",
        "    def Not (boolean):\n",
        "      return not boolean\n",
        "\n",
        "    def And (boolean1,boolean2):\n",
        "        return boolean1 and boolean2\n"
      ]
    },
    {
      "cell_type": "code",
      "execution_count": 19,
      "metadata": {},
      "outputs": [],
      "source": [
        "b1 = BOOLEAN.true()\n",
        "b2 = BOOLEAN.false()\n",
        "\n",
        "assert BOOLEAN.Not(b1)==BOOLEAN.false()\n",
        "assert BOOLEAN.Not(b2)==BOOLEAN.true()\n",
        "assert BOOLEAN.And(b1,b2)==BOOLEAN.false()"
      ]
    },
    {
      "cell_type": "markdown",
      "metadata": {
        "id": "qBO-FfvomdeC"
      },
      "source": [
        "**HOMEWORK**"
      ]
    },
    {
      "cell_type": "markdown",
      "metadata": {
        "id": "uzgJ4HJVmgeT"
      },
      "source": [
        "**EXERCISE 1**\n",
        "\n",
        "Provide an algebraic specification for QUATERNION and implement it in Python."
      ]
    },
    {
      "attachments": {},
      "cell_type": "markdown",
      "metadata": {},
      "source": [
        "**IMPLEMENTATION OF ALGEBRAIC SPECIFICATION**\n",
        "\n",
        "**SPEC** QUATERNION\n",
        "\n",
        "**SORTS** QUATERNION\n",
        "\n",
        "**OPERATIONS**\n",
        "\n",
        "    new: -> QUATERNION\n",
        "\n",
        "    add: QUATERNION QUATERNION -> QUATERNION\n",
        "\n",
        "    subtract: QUATERNION QUATERNION -> QUATERNION\n",
        "\n",
        "    multiply: QUATERNION QUATERNION -> QUATERNION\n",
        "\n",
        "    conjugate: QUATERNION -> QUATERNION\n",
        "\n",
        "    magnitude: QUATERNION -> REAL\n",
        "\n",
        "\n",
        "**AXIOMS**\n",
        "\n",
        "    For all q1, q2, q3 in QUATERNION and a,b in REAL:\n",
        "        add(q1, add(q2, q3)) = add(add(q1, q2), q3) (associativity)\n",
        "        add(q1, q2) = add(q2, q1) (commutativity)\n",
        "        add(q1, new()) = q1 (identity)\n",
        "        subtract(q1, q2) = add(q1, negate(q2)) (subtraction)\n",
        "        multiply(q1, multiply(q2, q3)) = multiply(multiply(q1, q2), q3) (associativity)\n",
        "        multiply(q1, add(q2, q3)) = add(multiply(q1, q2), multiply(q1, q3)) (distributivity)\n",
        "        multiply(q1, new()) = q1 (identity)\n",
        "        conjugate(q1) = add(a, multiply(b, negate(q1))) where q1 = add(a, multiply(b, i+j+k)), i^2=j^2=k^2=ijk=-1 (conjugation)\n",
        "        magnitude(q1) = sqrt(add(a^2, add(b^2, add(c^2, d^2)))) where q1 = add(a, multiply(b, i), multiply(c, j), multiply(d, k)), i^2=j^2=k^2=ijk=-1 (magnitude)\n",
        "\n",
        "\n",
        "\n"
      ]
    },
    {
      "cell_type": "code",
      "execution_count": 20,
      "metadata": {
        "id": "1HuSpmi2moQD"
      },
      "outputs": [],
      "source": [
        "from dataclasses import dataclass\n",
        "\n",
        "\n",
        "@dataclass\n",
        "class QUATERNION:\n",
        "    \n",
        "    def __init__(self,num):\n",
        "    #operation new   \n",
        "      self.num=num\n",
        "\n",
        "    def add(interger1,interger2):\n",
        "      return QUATERNION (interger1.num+interger2.num)\n",
        "    \n",
        "    def subtract(interger1,interger2):\n",
        "      return QUATERNION (interger1.num-interger2.num)\n",
        "    \n",
        "    def multiply(interger1,interger2):\n",
        "      return QUATERNION (interger1.num*interger2.num)\n",
        "    \n",
        "    def conjugate(interger1):\n",
        "      return QUATERNION (interger1.num*-1)\n",
        "    \n",
        "    def magnitude(interger1):\n",
        "      return QUATERNION (interger1.num**2)"
      ]
    },
    {
      "cell_type": "code",
      "execution_count": 21,
      "metadata": {},
      "outputs": [],
      "source": [
        "a = QUATERNION(2)\n",
        "\n",
        "assert QUATERNION.add(a,a).num==QUATERNION.multiply(a,QUATERNION(2)).num\n"
      ]
    },
    {
      "cell_type": "markdown",
      "metadata": {
        "id": "ldHOw9Y1mpDX"
      },
      "source": [
        "**EXERCISE 2**\n",
        "\n",
        "Provide an algebraic specification for CHAR and implement it in Python."
      ]
    },
    {
      "attachments": {},
      "cell_type": "markdown",
      "metadata": {},
      "source": [
        "**IMPLEMENTATION OF ALGEBRAIC SPECIFICATION**\n",
        "\n",
        "**SPEC** CHAR\n",
        "\n",
        "**SORTS** CHAR\n",
        "\n",
        "**OPERATIONS**\n",
        "\n",
        "    new: -> CHAR\n",
        "\n",
        "    add: CHAR CHAR -> CHAR\n",
        "\n",
        "**AXIOMS**\n",
        "\n",
        "    For all c1, c2, c3 in CHAR:\n",
        "        add(c1, add(c2, c3)) = add(add(c1, c2), c3) (associativity)\n",
        "        add(c1, c2) = add(c2, c1) (commutativity)\n",
        "        add(c1, new()) = c1 (identity)\n"
      ]
    },
    {
      "cell_type": "code",
      "execution_count": 22,
      "metadata": {
        "id": "M4upgaM4m39g"
      },
      "outputs": [],
      "source": [
        "from dataclasses import dataclass\n",
        "\n",
        "\n",
        "@dataclass\n",
        "class CHAR:\n",
        "    def __init__(self, value):\n",
        "        self.value = value\n",
        "\n",
        "    def __add__(self, other):\n",
        "        return CHAR(chr(ord(self.value) + ord(other.value)))\n",
        "\n",
        "    def __eq__(self, other):\n",
        "        return self.value == other.value\n",
        "\n",
        "    def __str__(self):\n",
        "        return self.value"
      ]
    }
  ],
  "metadata": {
    "colab": {
      "include_colab_link": true,
      "provenance": []
    },
    "kernelspec": {
      "display_name": "Python 3",
      "name": "python3"
    },
    "language_info": {
      "codemirror_mode": {
        "name": "ipython",
        "version": 3
      },
      "file_extension": ".py",
      "mimetype": "text/x-python",
      "name": "python",
      "nbconvert_exporter": "python",
      "pygments_lexer": "ipython3",
      "version": "3.9.10"
    }
  },
  "nbformat": 4,
  "nbformat_minor": 0
}
