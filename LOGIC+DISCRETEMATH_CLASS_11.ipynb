{
  "cells": [
    {
      "cell_type": "markdown",
      "metadata": {
        "colab_type": "text",
        "id": "view-in-github"
      },
      "source": [
        "<a href=\"https://colab.research.google.com/github/lucianosilva-github/logicanddiscretemathematics/blob/main/LOGIC%2BDISCRETEMATH_CLASS_11.ipynb\" target=\"_parent\"><img src=\"https://colab.research.google.com/assets/colab-badge.svg\" alt=\"Open In Colab\"/></a>"
      ]
    },
    {
      "cell_type": "markdown",
      "metadata": {
        "id": "33EEpDW7pOaO"
      },
      "source": [
        "<div class=\"alert alert-block alert-info\">\n",
        "\n",
        "#**CLASS 11 - TYPE THEORY - PART I**\n",
        "**Learning Objectives:**\n",
        "*   CONCEPT OF TYPE\n",
        "*   LOGICAL SPECIFICATION OF TYPES\n",
        "*   PROGRAMMING WITH TYPES\n"
      ]
    },
    {
      "cell_type": "markdown",
      "metadata": {
        "id": "Hx-BYWNP94Jb"
      },
      "source": [
        "**THE CONCEPT OF TYPE**\n",
        "\n",
        "\n",
        "In mathematics, logic, and computer science, a type theory is the formal presentation of a specific type system, and in general type theory is the academic study of type systems. Some type theories serve as alternatives to set theory as a foundation of mathematics. Two influential type theories that were proposed as foundations are Alonzo Church's typed λ-calculus and Per Martin-Löf's intuitionistic type theory. Most computerized proof-writing systems use a type theory for their foundation. A common one is Thierry Coquand's Calculus of Inductive Constructions.\n",
        "\n",
        "Type theory was created to avoid a paradox in a mathematical foundation based on naive set theory and formal logic. Russell's paradox, which was discovered by Bertrand Russell, existed because a set could be defined using \"all possible sets\", which included itself. Between 1902 and 1908, Bertrand Russell proposed various \"theories of type\" to fix the problem. By 1908 Russell arrived at a \"ramified\" theory of types together with an \"axiom of reducibility\" both of which featured prominently in Whitehead and Russell's Principia Mathematica published between 1910 and 1913. This system avoided Russell's paradox by creating a hierarchy of types and then assigning each concrete mathematical entity to a type. Entities of a given type are built exclusively of subtypes of that type, thus preventing an entity from being defined using itself. Russell's theory of types ruled out the possibility of a set being a member of itself.\n",
        "\n",
        "Types were not always used in logic. There were other techniques to avoid Russell's paradox. Types did gain a hold when used with one particular logic, Alonzo Church's lambda calculus.\n",
        "\n",
        "The most famous early example is Church's simply typed lambda calculus. Church's theory of types helped the formal system avoid the Kleene–Rosser paradox that afflicted the original untyped lambda calculus. Church demonstrated that it could serve as a foundation of mathematics and it was referred to as a higher-order logic.\n",
        "\n",
        "The phrase \"type theory\" now generally refers to a typed system based around lambda calculus. One influential system is Per Martin-Löf's intuitionistic type theory, which was proposed as a foundation for constructive mathematics. Another is Thierry Coquand's calculus of constructions, which is used as the foundation by Coq, Lean, and other \"proof assistants\" (computerized proof writing programs). Type theories are an area of active research, as demonstrated by homotopy type theory.\n",
        "\n",
        "There are many type theories, which makes it difficult to produce a comprehensive taxonomy. \n",
        "\n",
        "\n"
      ]
    },
    {
      "cell_type": "markdown",
      "metadata": {
        "id": "M2l1-CiG8427"
      },
      "source": [
        "**TERMS AND TYPES**\n",
        "\n",
        "In type theory, every term has a type. A term and its type are often written together as \"term : type\". A common type to include in a type theory is the Natural numbers, often written as $\\mathbb N$ or \"nat\". Another is Boolean logic values. So, some very simple terms with their types are:\n",
        "\n",
        "* 1 : nat\n",
        "* 42 : nat\n",
        "* true : bool\n",
        "\n",
        "Terms can be built out of other terms using function calls. In type theory, a function call is called \"function application\". Function application takes a term of a given type and results in a term of another given type. Function application is written \"function argument argument ...\", instead of the conventional \"function(argument,argument, ...)\". For natural numbers, it is possible to define a function called \"add\" that takes two natural numbers. Thus, some more terms with their types are:\n",
        "\n",
        "* add 0 0 : nat\n",
        "* add 2 3 : nat\n",
        "* add 1 (add 1 (add 1 0)) : nat\n",
        "\n",
        "In the last term, parentheses were added to indicate the order of operations. Technically, most type theories require the parentheses to be present for every operation, but, in practice, they are not written and authors assume readers can use precedence and associativity to know where they are. For similar ease, it is a common notation to write \"x+y\" instead of \"add x y\". So, the above terms might be rewritten as:\n",
        "\n",
        "* 0 + 0 : nat\n",
        "* 2 + 3 : nat\n",
        "* 1 + (1 + (1 + 0)) : nat\n",
        "\n",
        "Terms may also contain variables. Variables always have a type. So, assuming \"x\" and \"y\" are variables of type \"nat\", the following are also valid terms:\n",
        "\n",
        "* x : nat\n",
        "* x + 2 : nat\n",
        "* x + (x + y) : nat\n",
        "\n",
        "There are more types than \"nat\" and \"bool\". We have already seen the term \"add\", which is not a \"nat\", but a function that, when applied to two \"nat\"s, computes to a \"nat\"."
      ]
    },
    {
      "cell_type": "markdown",
      "metadata": {
        "id": "fNM8cbpO-iEG"
      },
      "source": [
        "**TERMS AND TYPES IN PYTHON**\n",
        "\n",
        "In 1928, Hilbert and Ackerman posed a challenge: devise an algorithm that takes as input a first-order logic statement and determines whether that statement is valid or not. Soon after, Alonzo Church, then Professor at the Department of Mathematics in Princeton, started working on this problem. His approach was to research the notion of “function” and create based on this notion a logical system that is sufficient for all of mathematics. Lambda calculus emerged out of this research, also with contributions from Church’s students Kleene and Rosser. This research led to Church’s 1936 paper showing that an algorithm as desired Hilbert and Ackerman’s does not exist. His solution was to formulate a term in Lambda Calculus and show that there is no way to determine whether that term has a closed form (more precisely 𝛽-normal form). About one year later, Turing published his paper, where he establish the same result but using different techniques that are based on “computing machines”, and proved that his and Church’s approach were equivalent.\n",
        "\n",
        "Church and Turing’s results are like two sides of a coin. Church’s result is all about abstraction offers a mathematical language in which computation can be expressed. Turing’s result is all about implementation: it convincingly describes how to implement computation.\n",
        "\n",
        "There are at least several ways to define the syntax of Lambda Calculus. Let 𝑉\n",
        " be a countable set 𝑉 of variables. We define the abstract syntax for lambda calculus inductively as follows.  is the least set of the terms that satisfy the following:\n",
        "\n",
        "* if 𝑥∈𝑉 then 𝑥∈\n",
        "\n",
        "* if 𝑡1∈ and 𝑡2∈ then 𝑡1𝑡2∈\n",
        "\n",
        "* if 𝑥∈𝑉 and 𝑡∈ then 𝜆𝑥.𝑡∈\n",
        "\n",
        " is the “least” set verifying the above properties. Each term in  is called a lambda term. Example lambda terms include\n",
        "\n",
        "* 𝑥\n",
        "* 𝜆𝑥.𝑥\n",
        "* 𝜆𝑥.𝑥 𝑦\n",
        "\n",
        "One of the key ideas in Church’s Lambda Calculus (and functional programming), as well as in mathematics, is that a function is an ordinary value, just like an integer, a string, or a list. For example, you can write in Python a lambda expression and bind to to a variable.\n"
      ]
    },
    {
      "cell_type": "code",
      "execution_count": 1,
      "metadata": {
        "colab": {
          "base_uri": "https://localhost:8080/"
        },
        "id": "j-vW25QSAofu",
        "outputId": "03bda3cb-13af-4495-a932-993f1e95965a"
      },
      "outputs": [
        {
          "name": "stdout",
          "output_type": "stream",
          "text": [
            "<function <lambda> at 0x107ea2430>\n"
          ]
        }
      ],
      "source": [
        "#ABSTRACTION\n",
        "add = lambda x, y: x + y  \n",
        "print (add)  "
      ]
    },
    {
      "cell_type": "code",
      "execution_count": 2,
      "metadata": {
        "colab": {
          "base_uri": "https://localhost:8080/"
        },
        "id": "VhzIVvtEDWTz",
        "outputId": "4f18904f-8674-46ae-8339-1b4453d5c5f6"
      },
      "outputs": [
        {
          "data": {
            "text/plain": [
              "3"
            ]
          },
          "execution_count": 2,
          "metadata": {},
          "output_type": "execute_result"
        }
      ],
      "source": [
        "#APPLICATION\n",
        "add(1,2)"
      ]
    },
    {
      "cell_type": "markdown",
      "metadata": {
        "id": "26BDvHGCD8-e"
      },
      "source": [
        "Function can also be applied partially, e.g., by passing only some of the arguments. For example, we might want to specialize the function add to an increment function that adds one to its argument. In Python, to do this, we can use the partial function from the functools package."
      ]
    },
    {
      "cell_type": "code",
      "execution_count": 3,
      "metadata": {
        "colab": {
          "base_uri": "https://localhost:8080/"
        },
        "id": "DPFu7MCaD9_c",
        "outputId": "f8e86c36-8d54-4f4a-a7df-729d9f6a9a68"
      },
      "outputs": [
        {
          "name": "stdout",
          "output_type": "stream",
          "text": [
            "functools.partial(<function <lambda> at 0x107ea21f0>, 1)\n"
          ]
        }
      ],
      "source": [
        "from functools import partial\n",
        "\n",
        "add = lambda x, y: x + y  \n",
        "inc = partial (add, 1)   # inc x: x + 1\n",
        "print(inc)"
      ]
    },
    {
      "cell_type": "code",
      "execution_count": 4,
      "metadata": {
        "colab": {
          "base_uri": "https://localhost:8080/"
        },
        "id": "P1DBi4AwEjyg",
        "outputId": "4245df46-2b96-4864-a5c0-1b47779d6588"
      },
      "outputs": [
        {
          "data": {
            "text/plain": [
              "3"
            ]
          },
          "execution_count": 4,
          "metadata": {},
          "output_type": "execute_result"
        }
      ],
      "source": [
        "inc(2)"
      ]
    },
    {
      "cell_type": "markdown",
      "metadata": {
        "id": "hiNCViYiFIqM"
      },
      "source": [
        "As an example, suppose that we have a sequence and we want to be able to map over that sequence to generate another sequence. To this end, we can imagine writing a function map that takes a function and a list and applies it to every element of the list. This function is easy to implement in Python like this\n",
        "\n",
        "lambda f, l: [f(x) for x in l]  \n",
        "\n",
        "\n",
        "Here is an example application of map where we increment every element of a sequence by one."
      ]
    },
    {
      "cell_type": "code",
      "execution_count": 5,
      "metadata": {
        "colab": {
          "base_uri": "https://localhost:8080/"
        },
        "id": "gPpyHhE2FQ4t",
        "outputId": "b95da63d-678b-45a0-fff0-bc491d059e77"
      },
      "outputs": [
        {
          "name": "stdout",
          "output_type": "stream",
          "text": [
            "[0, 1, 2, 3]\n",
            "[1, 2, 3, 4]\n"
          ]
        }
      ],
      "source": [
        "from functools import partial \n",
        "\n",
        "add = lambda x, y: x + y  \n",
        "inc = partial (add, 1)  \n",
        "map = lambda f, l: [f(x) for x in l]  \n",
        "  \n",
        "s = [0, 1, 2, 3]  \n",
        "ss = map (inc, s) \n",
        "\n",
        "print (s)\n",
        "print(ss)"
      ]
    },
    {
      "cell_type": "markdown",
      "metadata": {
        "id": "WpYfklSVF3Vw"
      },
      "source": [
        "**EXERCISE 1**\n",
        "\n",
        "Enumerate the 100 first natural even numbers using lambdas."
      ]
    },
    {
      "cell_type": "code",
      "execution_count": 15,
      "metadata": {
        "id": "aFMFYSW-GACp"
      },
      "outputs": [
        {
          "name": "stdout",
          "output_type": "stream",
          "text": [
            "[0, 1, 2, 3, 4, 5, 6, 7, 8, 9, 10, 11, 12, 13, 14, 15, 16, 17, 18, 19, 20, 21, 22, 23, 24, 25, 26, 27, 28, 29, 30, 31, 32, 33, 34, 35, 36, 37, 38, 39, 40, 41, 42, 43, 44, 45, 46, 47, 48, 49, 50, 51, 52, 53, 54, 55, 56, 57, 58, 59, 60, 61, 62, 63, 64, 65, 66, 67, 68, 69, 70, 71, 72, 73, 74, 75, 76, 77, 78, 79, 80, 81, 82, 83, 84, 85, 86, 87, 88, 89, 90, 91, 92, 93, 94, 95, 96, 97, 98, 99, 100]\n",
            "[2, 4, 6, 8, 10, 12, 14, 16, 18, 20, 22, 24, 26, 28, 30, 32, 34, 36, 38, 40, 42, 44, 46, 48, 50, 52, 54, 56, 58, 60, 62, 64, 66, 68, 70, 72, 74, 76, 78, 80, 82, 84, 86, 88, 90, 92, 94, 96, 98, 100, 102]\n"
          ]
        }
      ],
      "source": [
        "#IMPLEMENT YOUR CODE HERE\n",
        "#enumarate the 1000 first natural even numbers using lambdas\n",
        "\n",
        "from functools import partial \n",
        "\n",
        "add = lambda x, y: x + y  \n",
        "inc = partial (add,2)  \n",
        "# map should get only enven numbers\n",
        "map = lambda f, l: [f(x) for x in l if x % 2 == 0] \n",
        "  \n",
        "#until 100\n",
        "s = [0, 1, 2, 3, 4, 5, 6, 7, 8, 9, 10, 11, 12, 13, 14, 15, 16, 17, 18, 19, 20, 21, 22, 23, 24, 25, 26, 27, 28, 29, 30, 31, 32, 33, 34, 35, 36, 37, 38, 39, 40, 41, 42, 43, 44, 45, 46, 47, 48, 49, 50, 51, 52, 53, 54, 55, 56, 57, 58, 59, 60, 61, 62, 63, 64, 65, 66, 67, 68, 69, 70, 71, 72, 73, 74, 75, 76, 77, 78, 79, 80, 81, 82, 83, 84, 85, 86, 87, 88, 89, 90, 91, 92, 93, 94, 95, 96, 97, 98, 99, 100]\n",
        "ss = map (inc, s) \n",
        "\n",
        "print (s)\n",
        "print(ss)\n",
        "\n",
        "\n",
        "\n",
        "\n"
      ]
    },
    {
      "cell_type": "markdown",
      "metadata": {
        "id": "wbpBzFznGvo2"
      },
      "source": [
        "**EXERCISE 2**\n",
        "\n",
        "Enumerate the 700 first natural numbers multiple of 3, using lambdas."
      ]
    },
    {
      "cell_type": "code",
      "execution_count": 17,
      "metadata": {
        "id": "2xD78RisG-E3"
      },
      "outputs": [
        {
          "name": "stdout",
          "output_type": "stream",
          "text": [
            "[0, 1, 2, 3, 4, 5, 6, 7, 8, 9, 10, 11, 12, 13, 14, 15, 16, 17, 18, 19, 20, 21, 22, 23, 24, 25, 26, 27, 28, 29, 30, 31, 32, 33, 34, 35, 36, 37, 38, 39, 40, 41, 42, 43, 44, 45, 46, 47, 48, 49, 50, 51, 52, 53, 54, 55, 56, 57, 58, 59, 60, 61, 62, 63, 64, 65, 66, 67, 68, 69, 70, 71, 72, 73, 74, 75, 76, 77, 78, 79, 80, 81, 82, 83, 84, 85, 86, 87, 88, 89, 90, 91, 92, 93, 94, 95, 96, 97, 98, 99, 100, 101, 102, 103, 104, 105, 106, 107, 108, 109, 110, 111, 112, 113, 114, 115, 116, 117, 118, 119, 120, 121, 122, 123, 124, 125, 126, 127, 128, 129, 130, 131, 132, 133, 134, 135, 136, 137, 138, 139, 140, 141, 142, 143, 144, 145, 146, 147, 148, 149, 150, 151, 152, 153, 154, 155, 156, 157, 158, 159, 160, 161, 162, 163, 164, 165, 166, 167, 168, 169, 170, 171, 172, 173, 174, 175, 176, 177, 178, 179, 180, 181, 182, 183, 184, 185, 186, 187, 188, 189, 190, 191, 192, 193, 194, 195, 196, 197, 198, 199, 200, 201, 202, 203, 204, 205, 206, 207, 208, 209, 210, 211, 212, 213, 214, 215, 216, 217, 218, 219, 220, 221, 222, 223, 224, 225, 226, 227, 228, 229, 230, 231, 232, 233, 234, 235, 236, 237, 238, 239, 240, 241, 242, 243, 244, 245, 246, 247, 248, 249, 250, 251, 252, 253, 254, 255, 256, 257, 258, 259, 260, 261, 262, 263, 264, 265, 266, 267, 268, 269, 270, 271, 272, 273, 274, 275, 276, 277, 278, 279, 280, 281, 282, 283, 284, 285, 286, 287, 288, 289, 290, 291, 292, 293, 294, 295, 296, 297, 298, 299, 300, 301, 302, 303, 304, 305, 306, 307, 308, 309, 310, 311, 312, 313, 314, 315, 316, 317, 318, 319, 320, 321, 322, 323, 324, 325, 326, 327, 328, 329, 330, 331, 332, 333, 334, 335, 336, 337, 338, 339, 340, 341, 342, 343, 344, 345, 346, 347, 348, 349, 350, 351, 352, 353, 354, 355, 356, 357, 358, 359, 360, 361, 362, 363, 364, 365, 366, 367, 368, 369, 370, 371, 372, 373, 374, 375, 376, 377, 378, 379, 380, 381, 382, 383, 384, 385, 386, 387, 388, 389, 390, 391, 392, 393, 394, 395, 396, 397, 398, 399, 400, 401, 402, 403, 404, 405, 406, 407, 408, 409, 410, 411, 412, 413, 414, 415, 416, 417, 418, 419, 420, 421, 422, 423, 424, 425, 426, 427, 428, 429, 430, 431, 432, 433, 434, 435, 436, 437, 438, 439, 440, 441, 442, 443, 444, 445, 446, 447, 448, 449, 450, 451, 452, 453, 454, 455, 456, 457, 458, 459, 460, 461, 462, 463, 464, 465, 466, 467, 468, 469, 470, 471, 472, 473, 474, 475, 476, 477, 478, 479, 480, 481, 482, 483, 484, 485, 486, 487, 488, 489, 490, 491, 492, 493, 494, 495, 496, 497, 498, 499, 500, 501, 502, 503, 504, 505, 506, 507, 508, 509, 510, 511, 512, 513, 514, 515, 516, 517, 518, 519, 520, 521, 522, 523, 524, 525, 526, 527, 528, 529, 530, 531, 532, 533, 534, 535, 536, 537, 538, 539, 540, 541, 542, 543, 544, 545, 546, 547, 548, 549, 550, 551, 552, 553, 554, 555, 556, 557, 558, 559, 560, 561, 562, 563, 564, 565, 566, 567, 568, 569, 570, 571, 572, 573, 574, 575, 576, 577, 578, 579, 580, 581, 582, 583, 584, 585, 586, 587, 588, 589, 590, 591, 592, 593, 594, 595, 596, 597, 598, 599, 600, 601, 602, 603, 604, 605, 606, 607, 608, 609, 610, 611, 612, 613, 614, 615, 616, 617, 618, 619, 620, 621, 622, 623, 624, 625, 626, 627, 628, 629, 630, 631, 632, 633, 634, 635, 636, 637, 638, 639, 640, 641, 642, 643, 644, 645, 646, 647, 648, 649, 650, 651, 652, 653, 654, 655, 656, 657, 658, 659, 660, 661, 662, 663, 664, 665, 666, 667, 668, 669, 670, 671, 672, 673, 674, 675, 676, 677, 678, 679, 680, 681, 682, 683, 684, 685, 686, 687, 689, 690, 691, 692, 693, 694, 695, 696, 697, 698, 699, 700]\n",
            "[3, 6, 9, 12, 15, 18, 21, 24, 27, 30, 33, 36, 39, 42, 45, 48, 51, 54, 57, 60, 63, 66, 69, 72, 75, 78, 81, 84, 87, 90, 93, 96, 99, 102, 105, 108, 111, 114, 117, 120, 123, 126, 129, 132, 135, 138, 141, 144, 147, 150, 153, 156, 159, 162, 165, 168, 171, 174, 177, 180, 183, 186, 189, 192, 195, 198, 201, 204, 207, 210, 213, 216, 219, 222, 225, 228, 231, 234, 237, 240, 243, 246, 249, 252, 255, 258, 261, 264, 267, 270, 273, 276, 279, 282, 285, 288, 291, 294, 297, 300, 303, 306, 309, 312, 315, 318, 321, 324, 327, 330, 333, 336, 339, 342, 345, 348, 351, 354, 357, 360, 363, 366, 369, 372, 375, 378, 381, 384, 387, 390, 393, 396, 399, 402, 405, 408, 411, 414, 417, 420, 423, 426, 429, 432, 435, 438, 441, 444, 447, 450, 453, 456, 459, 462, 465, 468, 471, 474, 477, 480, 483, 486, 489, 492, 495, 498, 501, 504, 507, 510, 513, 516, 519, 522, 525, 528, 531, 534, 537, 540, 543, 546, 549, 552, 555, 558, 561, 564, 567, 570, 573, 576, 579, 582, 585, 588, 591, 594, 597, 600, 603, 606, 609, 612, 615, 618, 621, 624, 627, 630, 633, 636, 639, 642, 645, 648, 651, 654, 657, 660, 663, 666, 669, 672, 675, 678, 681, 684, 687, 690, 693, 696, 699, 702]\n"
          ]
        }
      ],
      "source": [
        "#IMPLEMENT YOUR CODE HERE\n",
        "\n",
        "from functools import partial \n",
        "\n",
        "add = lambda x, y: x + y  \n",
        "inc = partial (add, 3)  \n",
        "map = lambda f, l: [f(x) for x in l if x % 3 == 0] \n",
        "  \n",
        "# until 700\n",
        "s = [0, 1, 2, 3, 4, 5, 6, 7, 8, 9, 10, 11, 12, 13, 14, 15, 16, 17, 18, 19, 20, 21, 22, 23, 24, 25, 26, 27, 28, 29, 30, 31, 32, 33, 34, 35, 36, 37, 38, 39, 40, 41, 42, 43, 44, 45, 46, 47, 48, 49, 50, 51, 52, 53, 54, 55, 56, 57, 58, 59, 60, 61, 62, 63, 64, 65, 66, 67, 68, 69, 70, 71, 72, 73, 74, 75, 76, 77, 78, 79, 80, 81, 82, 83, 84, 85, 86, 87, 88, 89, 90, 91, 92, 93, 94, 95, 96, 97, 98, 99, 100, 101, 102, 103, 104, 105, 106, 107, 108, 109, 110, 111, 112, 113, 114, 115, 116, 117, 118, 119, 120, 121, 122, 123, 124, 125, 126, 127, 128, 129, 130, 131, 132, 133, 134, 135, 136, 137, 138, 139, 140, 141, 142, 143, 144, 145, 146, 147, 148, 149, 150, 151, 152, 153, 154, 155, 156, 157, 158, 159, 160, 161, 162, 163, 164, 165, 166, 167, 168, 169, 170, 171, 172, 173, 174, 175, 176, 177, 178, 179, 180, 181, 182, 183, 184, 185, 186, 187, 188, 189, 190, 191, 192, 193, 194, 195, 196, 197, 198, 199, 200, 201, 202, 203, 204, 205, 206, 207, 208, 209, 210, 211, 212, 213, 214, 215, 216, 217, 218, 219, 220, 221, 222, 223, 224, 225, 226, 227, 228, 229, 230, 231, 232, 233, 234, 235, 236, 237, 238, 239, 240, 241, 242, 243, 244, 245, 246, 247, 248, 249, 250, 251, 252, 253, 254, 255, 256, 257, 258, 259, 260, 261, 262, 263, 264, 265, 266, 267, 268, 269, 270, 271, 272, 273, 274, 275, 276, 277, 278, 279, 280, 281, 282, 283, 284, 285, 286, 287, 288, 289, 290, 291, 292, 293, 294, 295, 296, 297, 298, 299, 300, 301, 302, 303, 304, 305, 306, 307, 308, 309, 310, 311, 312, 313, 314, 315, 316, 317, 318, 319, 320, 321, 322, 323, 324, 325, 326, 327, 328, 329, 330, 331, 332, 333, 334, 335, 336, 337, 338, 339, 340, 341, 342, 343, 344, 345, 346, 347, 348, 349, 350, 351, 352, 353, 354, 355, 356, 357, 358, 359, 360, 361, 362, 363, 364, 365, 366, 367, 368, 369, 370, 371, 372, 373, 374, 375, 376, 377, 378, 379, 380, 381, 382, 383, 384, 385, 386, 387, 388, 389, 390, 391, 392, 393, 394, 395, 396, 397, 398, 399, 400, 401, 402, 403, 404, 405, 406, 407, 408, 409, 410, 411, 412, 413, 414, 415, 416, 417, 418, 419, 420, 421, 422, 423, 424, 425, 426, 427, 428, 429, 430, 431, 432, 433, 434, 435, 436, 437, 438, 439, 440, 441, 442, 443, 444, 445, 446, 447, 448, 449, 450, 451, 452, 453, 454, 455, 456, 457, 458, 459, 460, 461, 462, 463, 464, 465, 466, 467, 468, 469, 470, 471, 472, 473, 474, 475, 476, 477, 478, 479, 480, 481, 482, 483, 484, 485, 486, 487, 488, 489, 490, 491, 492, 493, 494, 495, 496, 497, 498, 499, 500, 501, 502, 503, 504, 505, 506, 507, 508, 509, 510, 511, 512, 513, 514, 515, 516, 517, 518, 519, 520, 521, 522, 523, 524, 525, 526, 527, 528, 529, 530, 531, 532, 533, 534, 535, 536, 537, 538, 539, 540, 541, 542, 543, 544, 545, 546, 547, 548, 549, 550, 551, 552, 553, 554, 555, 556, 557, 558, 559, 560, 561, 562, 563, 564, 565, 566, 567, 568, 569, 570, 571, 572, 573, 574, 575, 576, 577, 578, 579, 580, 581, 582, 583, 584, 585, 586, 587, 588, 589, 590, 591, 592, 593, 594, 595, 596, 597, 598, 599, 600, 601, 602, 603, 604, 605, 606, 607, 608, 609, 610, 611, 612, 613, 614, 615, 616, 617, 618, 619, 620, 621, 622, 623, 624, 625, 626, 627, 628, 629, 630, 631, 632, 633, 634, 635, 636, 637, 638, 639, 640, 641, 642, 643, 644, 645, 646, 647, 648, 649, 650, 651, 652, 653, 654, 655, 656, 657, 658, 659, 660, 661, 662, 663, 664, 665, 666, 667, 668, 669, 670, 671, 672, 673, 674, 675, 676, 677, 678, 679, 680, 681, 682, 683, 684, 685, 686, 687, 689, 690, 691, 692, 693, 694, 695, 696, 697,698, 699, 700]\n",
        "ss = map (inc, s) \n",
        "\n",
        "print (s)\n",
        "print(ss)"
      ]
    },
    {
      "cell_type": "markdown",
      "metadata": {
        "id": "G54u_GaLMwUr"
      },
      "source": [
        "**EXERCISE 3**\n",
        "\n",
        "Booleans can be encoded as lambdas:\n",
        "\n",
        "* e_true = lambda x: lambda y: x\n",
        "* e_false = lambda x: lambda y: y\n",
        "\n",
        "Using these encodings, implement the operators **not**, **and** and **or** as lambdas. "
      ]
    },
    {
      "cell_type": "code",
      "execution_count": null,
      "metadata": {
        "id": "8GUmlQvgNU8y"
      },
      "outputs": [],
      "source": [
        "#IMPLEMENT YOUR SOLUTION HERE"
      ]
    },
    {
      "cell_type": "markdown",
      "metadata": {
        "id": "SMkQC_-UOJl5"
      },
      "source": [
        "**LOGIC SPECIFICATION OF TYPES**\n",
        "\n",
        "In type theory, functions are terms. A lambda term looks like \"(λ variablename : type1 . term)\" and has type \"type1 \n",
        "→type2\". The type \"type1 \n",
        "→type2\" indicates that the lambda term is a function that takes a parameter of type \"type1\" and computes to a term of type \"type2\". The term inside the lambda term must be a value of \"type2\", assuming the variable has type \"type1\".\n",
        "\n",
        "An example of a lambda term is this function which doubles its argument:\n",
        "\n",
        "* (λ x : nat . (add x x)) : nat→nat\n",
        "\n",
        "The variable name is \"x\" and the variable has type \"nat\". The term \"(add x x)\" has type \"nat\", assuming \"x : nat\". Thus, the lambda term has type \"nat \n",
        "→nat\", which means if it is given a \"nat\" as an argument, it will compute to a \"nat\". Reduction (a.k.a. computation) is defined for lambda terms. When the function is applied (a.k.a. called), the argument is substituted for the parameter.\n",
        "\n",
        "Until now, Python does not support type annotations on lambdas. In this case, we have to use ordinary functions:"
      ]
    },
    {
      "cell_type": "code",
      "execution_count": 13,
      "metadata": {
        "colab": {
          "base_uri": "https://localhost:8080/"
        },
        "id": "YCCB48ikPVff",
        "outputId": "a696f25c-f0d2-4825-87ec-1d34cfdb4510"
      },
      "outputs": [
        {
          "data": {
            "text/plain": [
              "10"
            ]
          },
          "execution_count": 13,
          "metadata": {},
          "output_type": "execute_result"
        }
      ],
      "source": [
        "def add(x:int) -> int:\n",
        "    return x+x\n",
        "\n",
        "add(5)"
      ]
    },
    {
      "cell_type": "markdown",
      "metadata": {
        "id": "qxgxck-dUAwn"
      },
      "source": [
        "**EXERCISE 4**\n",
        "\n",
        "Repeat the previous exercises, but using Python type annotations now:"
      ]
    },
    {
      "cell_type": "code",
      "execution_count": null,
      "metadata": {
        "id": "DvOusVVvUV2k"
      },
      "outputs": [],
      "source": [
        "#TYPE YOUR IMPLEMENTATION HERE"
      ]
    },
    {
      "cell_type": "markdown",
      "metadata": {
        "id": "dKhhMm0TUZBY"
      },
      "source": [
        "**HOMEWORK**"
      ]
    },
    {
      "cell_type": "markdown",
      "metadata": {
        "id": "GjKEsVVqUbjD"
      },
      "source": [
        "1. Consider the set of complex numbers C={a+bi}. Specify this set using lambdas e implement them in Python."
      ]
    },
    {
      "cell_type": "code",
      "execution_count": 1,
      "metadata": {
        "id": "mwOJX-HLUvrm"
      },
      "outputs": [
        {
          "data": {
            "text/plain": [
              "11"
            ]
          },
          "execution_count": 1,
          "metadata": {},
          "output_type": "execute_result"
        }
      ],
      "source": [
        "#TYPE YOUR IMPLEMENTATION HERE\n",
        "\n",
        "from functools import partial \n",
        "\n",
        "def add(x,y):\n",
        "    return x+y\n",
        "\n",
        "add(5,6)\n",
        "\n",
        "add5 = partial(add,5)\n",
        "add5(6)\n",
        "\n",
        "\n"
      ]
    },
    {
      "cell_type": "markdown",
      "metadata": {
        "id": "KCLkPIZxU2N3"
      },
      "source": [
        "2. Consider the set of quaternion numbers C={a+bi+cj+dk}. Specify this set using lambdas e implement them in Python."
      ]
    },
    {
      "cell_type": "code",
      "execution_count": 2,
      "metadata": {
        "id": "hOgnAQo6VCyN"
      },
      "outputs": [
        {
          "data": {
            "text/plain": [
              "26"
            ]
          },
          "execution_count": 2,
          "metadata": {},
          "output_type": "execute_result"
        }
      ],
      "source": [
        "#TYPE YOUR IMPLEMENTATION HERE\n",
        "#C = {a+bi+cj+dk}\n",
        "from functools import partial \n",
        "\n",
        "def add(x,y,z,w):\n",
        "    return x+y+z+w\n",
        "\n",
        "add(5,6,7,8)\n",
        "\n",
        "add5 = partial(add,5)\n",
        "add5(6,7,8)\n",
        "\n"
      ]
    }
  ],
  "metadata": {
    "colab": {
      "include_colab_link": true,
      "provenance": []
    },
    "kernelspec": {
      "display_name": "Python 3",
      "name": "python3"
    },
    "language_info": {
      "codemirror_mode": {
        "name": "ipython",
        "version": 3
      },
      "file_extension": ".py",
      "mimetype": "text/x-python",
      "name": "python",
      "nbconvert_exporter": "python",
      "pygments_lexer": "ipython3",
      "version": "3.9.10"
    }
  },
  "nbformat": 4,
  "nbformat_minor": 0
}
