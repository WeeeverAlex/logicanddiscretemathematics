{
  "nbformat": 4,
  "nbformat_minor": 0,
  "metadata": {
    "colab": {
      "provenance": [],
      "authorship_tag": "ABX9TyPQGAup0DTC/K10b+srMrPp",
      "include_colab_link": true
    },
    "kernelspec": {
      "name": "python3",
      "display_name": "Python 3"
    },
    "language_info": {
      "name": "python"
    }
  },
  "cells": [
    {
      "cell_type": "markdown",
      "metadata": {
        "id": "view-in-github",
        "colab_type": "text"
      },
      "source": [
        "<a href=\"https://colab.research.google.com/github/lucianosilva-github/logicanddiscretemathematics/blob/main/LOGIC%2BDISCRETEMATH_CLASS_00.ipynb\" target=\"_parent\"><img src=\"https://colab.research.google.com/assets/colab-badge.svg\" alt=\"Open In Colab\"/></a>"
      ]
    },
    {
      "cell_type": "markdown",
      "source": [
        "<div class=\"alert alert-block alert-info\">\n",
        "\n",
        "#**CLASS 00 - MOTIVATION TO LOGIC AND DISCRETE MATHEMATICS**\n",
        "**Learning Objectives:**\n",
        "*   Building a simple program to solve a simple discrete problem\n",
        "*   Refining this simple program\n",
        "*   Proving the program correctness\n",
        "*   Analysis of program efficiency\n",
        "\n",
        "</div>\n"
      ],
      "metadata": {
        "id": "33EEpDW7pOaO"
      }
    },
    {
      "cell_type": "markdown",
      "source": [
        "### **EXERCISE 1.** \n",
        "\n",
        "We define the factorial n! of an natural number as:\n",
        "\n",
        "*   0! = 1\n",
        "*   n! = nx(n-1)x(n-2)x...x2x1, if n>0\n",
        "\n",
        "Build an iteractive function fact(n) in Python to compute n! and test it:\n",
        "\n"
      ],
      "metadata": {
        "id": "iyV-u81mKdDo"
      }
    },
    {
      "cell_type": "code",
      "source": [
        "#TYPE YOUR SOLUTION HERE"
      ],
      "metadata": {
        "id": "qqIisS25pMm5"
      },
      "execution_count": null,
      "outputs": []
    },
    {
      "cell_type": "markdown",
      "source": [
        "### **EXERCISE 2.** \n",
        "\n",
        "Rewrite the function fact(n) in a simpler way and test it:"
      ],
      "metadata": {
        "id": "IiH2Xppf6rbg"
      }
    },
    {
      "cell_type": "code",
      "source": [
        "#TYPE YOUR SOLUTION HERE"
      ],
      "metadata": {
        "id": "Tc2TcLCK7BPw"
      },
      "execution_count": null,
      "outputs": []
    },
    {
      "cell_type": "markdown",
      "source": [
        "### **EXERCISE 3.** \n",
        "\n",
        "Prove that your function fact(n) computes n!:"
      ],
      "metadata": {
        "id": "sWzDnukBLtoX"
      }
    },
    {
      "cell_type": "markdown",
      "source": [
        "USE THIS CELL TO PROVE"
      ],
      "metadata": {
        "id": "ferrSHvoMLtt"
      }
    },
    {
      "cell_type": "markdown",
      "source": [
        "### **EXERCISE 4.** \n",
        "\n",
        "How many multiplications does your fact(n) implementation use ?"
      ],
      "metadata": {
        "id": "6RRRVjqpMVWM"
      }
    },
    {
      "cell_type": "markdown",
      "source": [
        "USE THIS CELL TO COUNT THE NUMBER OF MULTIPLICATIONS"
      ],
      "metadata": {
        "id": "rICemo4iMnZA"
      }
    }
  ]
}
