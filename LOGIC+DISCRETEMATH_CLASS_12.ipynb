{
  "nbformat": 4,
  "nbformat_minor": 0,
  "metadata": {
    "colab": {
      "provenance": [],
      "include_colab_link": true
    },
    "kernelspec": {
      "name": "python3",
      "display_name": "Python 3"
    },
    "language_info": {
      "name": "python"
    }
  },
  "cells": [
    {
      "cell_type": "markdown",
      "metadata": {
        "id": "view-in-github",
        "colab_type": "text"
      },
      "source": [
        "<a href=\"https://colab.research.google.com/github/lucianosilva-github/logicanddiscretemathematics/blob/main/LOGIC%2BDISCRETEMATH_CLASS_12.ipynb\" target=\"_parent\"><img src=\"https://colab.research.google.com/assets/colab-badge.svg\" alt=\"Open In Colab\"/></a>"
      ]
    },
    {
      "cell_type": "markdown",
      "source": [
        "<div class=\"alert alert-block alert-info\">\n",
        "\n",
        "#**CLASS 12 - TYPE THEORY - PART II **\n",
        "**Learning Objectives:**\n",
        "*   CONCEPT OF TYPE\n",
        "*   LOGICAL SPECIFICATION OF TYPES\n",
        "*   PROGRAMMING WITH TYPES\n"
      ],
      "metadata": {
        "id": "33EEpDW7pOaO"
      }
    },
    {
      "cell_type": "markdown",
      "source": [
        "**CUSTOM DATA TYPES**\n",
        "\n",
        "Up to this point, all the data we’ve worked with in Python have been stored in objects that are instances of the built-in types that come with Python, like ints and lists. Python’s built-in data types are powerful, but are not always the most intuitive way to store data.\n",
        "\n",
        "For example, suppose we want to represent a “person” consisting of a given name, family name, age, and home address. We already know how to represent each individual piece of data: the given name, family name, and address could be strings, and the age could be a natural number. To bundle these values together, we could use a list or other built-in collection data type, but that approach would run into the issues we discussed above.\n",
        "\n",
        "So instead, we define our own data class to create a new data type consisting of these four values. Here is the way to create a data class in Python:"
      ],
      "metadata": {
        "id": "bR0VEroxclwf"
      }
    },
    {
      "cell_type": "code",
      "source": [
        "from dataclasses import dataclass\n",
        "\n",
        "\n",
        "@dataclass\n",
        "class Person:\n",
        "    \"\"\"A custom data type that represents data for a person.\n",
        "    \"\"\"\n",
        "    given_name: str\n",
        "    family_name: str\n",
        "    age: int\n",
        "    address: str"
      ],
      "metadata": {
        "id": "N93MFTDoc0qZ"
      },
      "execution_count": 1,
      "outputs": []
    },
    {
      "cell_type": "markdown",
      "source": [
        "Now that we’ve seen how to define a data class, we now are ready to actually put it to use. For built-in Python data types, we know how to create values of those types: type in literals like 3 or ['hi', 'bye']. But with our Person data class, what is the corresponding literal we can write?\n",
        "\n",
        "The answer is there isn’t—the possible literals of the Python programming language are fixed, and can’t be changed even after defining a new data type. But all is not lost! By defining a Person data class, we have gained the ability to call the data class like a function to create values whose type is Person.We’ve actually seen this before: we create range values by calling range like a function, e.g. range(1, 10), and just in the last section we created datetime.date objects like datetime.date(2011, 1, 1). Here is an example of creating a Person value, passing in as arguments the values for each instance attribute:"
      ],
      "metadata": {
        "id": "3wvG96lQdIGw"
      }
    },
    {
      "cell_type": "code",
      "source": [
        "david = Person('David', 'Liu', 100, '40 St. George Street')"
      ],
      "metadata": {
        "id": "eKCamh58dKDV"
      },
      "execution_count": 3,
      "outputs": []
    },
    {
      "cell_type": "markdown",
      "source": [
        "That line of code creates a new Person value whose given name is 'David', family name is 'Liu', age is 100, and address is '40 St. George Street', and stores the value in the variable david. The type of this new value is, as we’d expect, Person:"
      ],
      "metadata": {
        "id": "Qmi7hxJJdWCi"
      }
    },
    {
      "cell_type": "code",
      "source": [
        "type(david)"
      ],
      "metadata": {
        "id": "nJdJR8TQdXW5",
        "outputId": "08923c92-757f-484b-ac2d-5b16c5c85d24",
        "colab": {
          "base_uri": "https://localhost:8080/"
        }
      },
      "execution_count": 4,
      "outputs": [
        {
          "output_type": "execute_result",
          "data": {
            "text/plain": [
              "__main__.Person"
            ]
          },
          "metadata": {},
          "execution_count": 4
        }
      ]
    }
  ]
}