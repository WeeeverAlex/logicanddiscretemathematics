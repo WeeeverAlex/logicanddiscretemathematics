{
  "nbformat": 4,
  "nbformat_minor": 0,
  "metadata": {
    "colab": {
      "provenance": [],
      "authorship_tag": "ABX9TyMaENWd/pbNHGVSDT3Ev+NM",
      "include_colab_link": true
    },
    "kernelspec": {
      "name": "python3",
      "display_name": "Python 3"
    },
    "language_info": {
      "name": "python"
    }
  },
  "cells": [
    {
      "cell_type": "markdown",
      "metadata": {
        "id": "view-in-github",
        "colab_type": "text"
      },
      "source": [
        "<a href=\"https://colab.research.google.com/github/lucianosilva-github/logicanddiscretemathematics/blob/main/LOGIC%2BDISCRETEMATH_CLASS_02.ipynb\" target=\"_parent\"><img src=\"https://colab.research.google.com/assets/colab-badge.svg\" alt=\"Open In Colab\"/></a>"
      ]
    },
    {
      "cell_type": "markdown",
      "source": [
        "<div class=\"alert alert-block alert-info\">\n",
        "\n",
        "#**CLASS 02 - PROPOSITIONAL LOGIC**\n",
        "**Learning Objectives:**\n",
        "*   Building program graphs from Python programs\n",
        "*   Automating program graph generation\n",
        "*   Observation of basic program properties\n",
        "\n",
        "</div>\n"
      ],
      "metadata": {
        "id": "33EEpDW7pOaO"
      }
    },
    {
      "cell_type": "markdown",
      "source": [
        "## **PROPOSITIONAL LOGIC**\n",
        "\n",
        "Propositional calculus is a branch of logic. It is also called propositional logic, statement logic, sentential calculus, sentential logic, or sometimes zeroth-order logic. It deals with propositions (which can be true or false) and relations between propositions, including the construction of arguments based on them. Compound propositions are formed by connecting propositions by logical connectives. Propositions that contain no logical connectives are called atomic propositions.\n",
        "\n",
        "Unlike first-order logic, propositional logic does not deal with non-logical objects, predicates about them, or quantifiers. However, all the machinery of propositional logic is included in first-order logic and higher-order logics. In this sense, propositional logic is the foundation of first-order logic and higher-order logic. "
      ],
      "metadata": {
        "id": "kZiBpTcaqciT"
      }
    },
    {
      "cell_type": "markdown",
      "source": [
        "Logical connectives are found in natural languages. In English for example, some examples are \"and\" (conjunction), \"or\" (disjunction), \"not\" (negation) and \"if\" (but only when used to denote material conditional).\n",
        "\n",
        "The following is an example of a very simple inference within the scope of propositional logic:\n",
        "\n",
        "    Premise 1: If it's raining then it's cloudy.\n",
        "    Premise 2: It's raining.\n",
        "    Conclusion: It's cloudy.\n",
        "\n",
        "Both premises and the conclusion are propositions. The premises are taken for granted, and with the application of modus ponens (an inference rule), the conclusion follows.\n",
        "\n",
        "As propositional logic is not concerned with the structure of propositions beyond the point where they can't be decomposed any more by logical connectives, this inference can be restated replacing those atomic statements with statement letters, which are interpreted as variables representing statements:\n",
        "\n",
        "    Premise 1: P → Q \n",
        "    Premise 2: P\n",
        "    Conclusion: Q\n",
        "\n",
        "The same can be stated succinctly in the following way:\n",
        "\n",
        "    P → Q, P\n",
        "    ________\n",
        "      Q\n",
        "\n",
        "\n",
        "When P is interpreted as \"It's raining\" and Q as \"it's cloudy\" the above symbolic expressions can be seen to correspond exactly with the original expression in natural language. Not only that, but they will also correspond with any other inference of this form, which will be valid on the same basis this inference is.\n",
        "\n",
        "Propositional logic may be studied through a formal system in which formulas of a formal language may be interpreted to represent propositions. A system of axioms and inference rules allows certain formulas to be derived. These derived formulas are called theorems and may be interpreted to be true propositions. A constructed sequence of such formulas is known as a derivation or proof and the last formula of the sequence is the theorem. The derivation may be interpreted as proof of the proposition represented by the theorem.\n",
        "\n",
        "When a formal system is used to represent formal logic, only statement letters (usually capital roman letters such as P P, Q Q and R R) are represented directly. The natural language propositions that arise when they're interpreted are outside the scope of the system, and the relation between the formal system and its interpretation is likewise outside the formal system itself.\n",
        "\n",
        "In classical truth-functional propositional logic, formulas are interpreted as having precisely one of two possible truth values, the truth value of true or the truth value of false.The principle of bivalence and the law of excluded middle are upheld. Truth-functional propositional logic defined as such and systems isomorphic to it are considered to be zeroth-order logic. However, alternative propositional logics are also possible."
      ],
      "metadata": {
        "id": "E-x6A4P_r7hQ"
      }
    },
    {
      "cell_type": "markdown",
      "source": [
        "## **PROPOSITIONAL CALCULUS**\n",
        "\n",
        "In general terms, a **calculus** is a formal system that consists of a set of syntactic expressions (well-formed formulas), a distinguished subset of these expressions (axioms), plus a set of formal rules that define a specific binary relation, intended to be interpreted as logical equivalence, on the space of expressions. \n",
        "\n",
        "The following outlines a standard propositional calculus. Many different formulations exist which are all more or less equivalent, but differ in the details of:\n",
        "\n",
        "*   their language (i.e., the particular collection of primitive symbols and operator symbols)\n",
        "*   the set of axioms, or distinguished formulas, and\n",
        "*   the set of inference rules\n",
        "\n",
        "\n",
        "\n",
        "Any given proposition may be represented with a letter called a 'propositional constant', analogous to representing a number by a letter in mathematics (e.g., a = 5). All propositions require exactly one of two truth-values: true or false. For example, let P be the proposition that it is raining outside. This will be true (P) if it is raining outside, and false otherwise (¬P).\n",
        "\n",
        "\n",
        "* We then define truth-functional operators, beginning with **negation**. ¬P represents the negation of P, which can be thought of as the denial of P. In the example above, ¬P expresses that it is not raining outside, or by a more standard reading: \"It is not the case that it is raining outside.\" When P is true, ¬P is false; and when P is false, ¬P is true. As a result, ¬ ¬P always has the same truth-value as P.\n",
        "\n",
        "* **Conjunction** is a truth-functional connective which forms a proposition out of two simpler propositions, for example, P and Q. The conjunction of P and Q is written P ∧ Q, and expresses that each are true. We read P ∧ Q as \"P and Q\". For any two propositions, there are four possible assignments of truth values:\n",
        "\n",
        "        P is true and Q is true\n",
        "        P is true and Q is false\n",
        "        P is false and Q is true\n",
        "        P is false and Q is false\n",
        "\n",
        "\n",
        "* **Disjunction** resembles conjunction in that it forms a proposition out of two simpler propositions. We write it P ∨ Q, and it is read \"P or Q\". It expresses that either P or Q is true. Thus, in the cases listed above, the disjunction of P with Q is true in all cases—except case 4. Using the example above, the disjunction expresses that it is either raining outside, or there is a cold front over Kansas. (Note, this use of disjunction is supposed to resemble the use of the English word \"or\". However, it is most like the English inclusive \"or\", which can be used to express the truth of at least one of two propositions. It is not like the English exclusive \"or\", which expresses the truth of exactly one of two propositions. In other words, the exclusive \"or\" is false when both P and Q are true (case 1), and similarly is false when both P and Q are false (case 4). An example of the exclusive or is: You may have a bagel or a pastry, but not both. Often in natural language, given the appropriate context, the addendum \"but not both\" is omitted—but implied. In mathematics, however, \"or\" is always inclusive or; if exclusive or is meant it will be specified, possibly by \"xor\".)\n",
        "\n",
        "* **Conditional** also joins two simpler propositions, and we write P → Q, which is read \"if P then Q\". The proposition to the left of the arrow is called the antecedent, and the proposition to the right is called the consequent. (There is no such designation for conjunction or disjunction, since they are commutative operations.) It expresses that Q is true whenever P is true. Thus P → Q is true in every case above except case 2, because this is the only case when P is true but Q is not. Using the example, if P then Q expresses that if it is raining outside, then there is a cold-front over Kansas. The material conditional is often confused with physical causation. The material conditional, however, only relates two propositions by their truth-values—which is not the relation of cause and effect. It is contentious in the literature whether the material implication represents logical causation.\n",
        "    \n",
        "    \n",
        "* **Biconditional** joins two simpler propositions, and we write P ↔ Q, which is read \"P if and only if Q\". It expresses that P and Q have the same truth-value, and in cases 1 and 4. 'P is true if and only if Q' is true, and is false otherwise."
      ],
      "metadata": {
        "id": "ZxWI50P2pRAV"
      }
    },
    {
      "cell_type": "markdown",
      "source": [
        "### **EXERCISE 1.** \n",
        "\n",
        "Retrieve a Python program from this program graph:\n",
        "\n",
        "![Captura de Tela 2023-01-31 às 12.40.27 AM.png](data:image/png;base64,iVBORw0KGgoAAAANSUhEUgAAAVkAAAFACAYAAAAWKw+IAAABXGlDQ1BJQ0MgUHJvZmlsZQAAKJF1kFErg2EUx39jUqwQyYW0C6kV0ka5ndHCLtZsDTd69242NfP0blpy4xO4kty4JN9gN9J8A1EsV9zgmuyG9TqvYRs5dTq//v3Pec5zoMmhKZW2A+uZnBHyTzkXl5adrY/YGKCbQVyanlXeYDAgFr5rY5SvxS1xNWLNKk4cPr+W7Ef5eefbZdf2w19/Q7TFE1ld6rvkuK6MHNjGhIP5nLJ4R7jHkKWE9yxOVvnE4liVTz894ZBP+EK4U09pceE74eFYnZ6s4/X0pv61g7W9I5GJLEjtk+wngB8nEalhQniJMss0M//0jH/2+NhAsYXBGklS5GSCVxRFmoTwLBl0RhkWdjMm6bFu/fuGNU31wuSBPHVf01ZKUBiAjt2aNvQk35mD8zOlGdrPZW1le3bV465yewFa9k3zJQqtLqjcmOZbwTQrx9B8C8XyB/a/ZjaTvh3kAAAAVmVYSWZNTQAqAAAACAABh2kABAAAAAEAAAAaAAAAAAADkoYABwAAABIAAABEoAIABAAAAAEAAAFZoAMABAAAAAEAAAFAAAAAAEFTQ0lJAAAAU2NyZWVuc2hvdMan348AAAHWaVRYdFhNTDpjb20uYWRvYmUueG1wAAAAAAA8eDp4bXBtZXRhIHhtbG5zOng9ImFkb2JlOm5zOm1ldGEvIiB4OnhtcHRrPSJYTVAgQ29yZSA2LjAuMCI+CiAgIDxyZGY6UkRGIHhtbG5zOnJkZj0iaHR0cDovL3d3dy53My5vcmcvMTk5OS8wMi8yMi1yZGYtc3ludGF4LW5zIyI+CiAgICAgIDxyZGY6RGVzY3JpcHRpb24gcmRmOmFib3V0PSIiCiAgICAgICAgICAgIHhtbG5zOmV4aWY9Imh0dHA6Ly9ucy5hZG9iZS5jb20vZXhpZi8xLjAvIj4KICAgICAgICAgPGV4aWY6UGl4ZWxZRGltZW5zaW9uPjMyMDwvZXhpZjpQaXhlbFlEaW1lbnNpb24+CiAgICAgICAgIDxleGlmOlBpeGVsWERpbWVuc2lvbj4zNDU8L2V4aWY6UGl4ZWxYRGltZW5zaW9uPgogICAgICAgICA8ZXhpZjpVc2VyQ29tbWVudD5TY3JlZW5zaG90PC9leGlmOlVzZXJDb21tZW50PgogICAgICA8L3JkZjpEZXNjcmlwdGlvbj4KICAgPC9yZGY6UkRGPgo8L3g6eG1wbWV0YT4K2unwlwAAQABJREFUeAHtXQV4FFfXPjjB3YO7u2uREqy4lOJO4UdKixWHAm2hQJEWD06BDyheNKVAKQR3h+JOcALsf98Ls90km6zO7uzMOc+z2d2Zq+9Mzt4595z3RDMJIRZGgBFgBBgBVRCIrkqr3CgjwAgwAoyARICVLN8IjAAjwAioiAArWRXB5aYZAUaAEWAly/cAI8AIMAIqIsBKVkVwuWlGgBFgBFjJ8j3ACDACjICKCLCSVRFcbpoRYAQYAVayfA8wAowAI6AiAqxkVQSXm2YEGAFGgJUs3wOMACPACKiIACtZFcHlphkBRoARYCXL9wAjwAgwAioiwEpWRXC5aUaAEWAEWMnyPcAIMAKMgIoIsJJVEVxumhFgBBgBVrJ8DzACjAAjoCICrGRVBJebZgQYAUaAlSzfA4wAI8AIqIgAK1kVweWmGQFGgBFgJcv3ACPACDACKiLASlZFcLlpRoARYARYyfI9wAgwAoyAigiwklURXG6aEWAEGAFWsnwPMAKMACOgIgKsZFUEl5tmBBgBRoCVLN8DjAAjwAioiAArWRXB5aYZAUaAEWAly/cAI8AIMAIqIsBKVkVwuWlGgBFgBFjJ8j3ACDACjICKCMRUsW1umhHQNAL379+ne/fu0d27dwmfX79+TSlSpJCvlClTUurUqSl27NiangMPTvsIsJLV/jXiEboJgYcPH1JQUBDt3LmTdu3aRbdu3Yqy5bhx41Lp0qWpSpUq8pU7d26KFi1alHX4JCMQHoFoJiHhD/J3RkBPCPzzzz80bdo02rx5M71//z7M1JIkSUJp0qSRLyjVO3fu0O3bt+UK9+3bt2HKZs2albp160bNmzcnlGVhBOxBgJWsPShxGZ9E4PDhwzR69Gj6888/5fijR49OWI2WLVtWvsqUKSNNA9Ym9+bNG0L9ffv20d69ewmK+vnz57IozAj9+vWjli1bUqxYsaxV52OMgBkBVrJmKPiDXhB49uwZjRgxggIDAwkPanHixJGrz+7duxNWo87Iy5cvaenSpTR9+nS6evWqbCJPnjw0ZcoUKly4sDNNch2DIMBK1iAX2ijTvHTpklxhXrhwgbBybdq0KQ0aNIjSpk3rFghgQli0aBGNHz9ebpZhJTtu3Dhq3bq1W9rnRvSHACtZ/V1Tw84IirVu3bpS+fn7+0s7LEwCasijR4+kyeD333+XzWPljJUyCyMQHgFWsuER4e8+iQA2rAICAujff/+Vj+/Lly+nZMmSqT6XiRMn0tixY6XXwc8//0zNmjVTvU/uwLcQYCXrW9eLR2sFAfi31qtXjw4dOiQ3trC6TJo0qZWS6hyCkoWyhU/tmjVrqESJEup0xK36JAIc8eWTl40HbYnA0KFDpYJFAAE2pzypYDGOAQMGUJMmTQgeCR06dCD447IwAgoCrGQVJPjdJxFAUMG8efMoRowYNHPmTMqQIUOEeYSGhkY45s4DCFDAShbeBghwgNJlYQQUBFjJKkjwu88hgJXjN998I920unbtSuXLl7c6B9hKa9WqRZs2bZJlrRZy8SCCE3755RdpMli9erWMKHOxSa6uEwRYyerkQhpxGgsXLqTLly9TunTpqH///lFCcODAAelmhUAE1IOCdrfkzZuXOnXqJJsdNWqUagrd3ePm9tRFgJWsuvhy6yohgPBYBAZAvvrqK/Lz87OrJ7h59e3bV3ogTJo0iR4/fmxXPXsL9erVixImTEjHjh0zR5rZW5fL6RMBVrL6vK66n9Vff/1F165dk25ajrhNxYsXT2ID9q0xY8ZIZTt48GDp+uUO0LDppoxnyZIl7miS2/BxBFjJ+vgFNOrwYV+F1KlTR4bN2oMDFOzRo0fp22+/lYQwqAM+AmyYlSxZkmDXPX78uD1NRVmmcePG8vy2bdsoPMlMlBX5pC4RYCWry8uq/0mBsAVSuXJl+W7vH7Bu4ZE+ODiYsCEGjwAIlOGqVavok08+IShJeC04K0WKFKHEiRNTSEgInT592tlmuJ5OEGAlq5MLabRpnD9/Xk45X758Tk0dgQOgLARD14oVK8Ioa3DOwu8VCnzlypUOr0bBmaAob2WcTg2SK+kCAVayuriMxprEixcvCKxYEHDBuipQplC0ULhQvEo2hJMnT0r+WERwwT1LoTq0pz9lXByYYA9a+i7DSlbf11eXs7Mk3o4Z033JPbD6hAkB4bkwKShy/fp1GjJkCBUqVEjyFCjHo3pXxmU51qjK8zn9IsBKVr/XVrczUzOZB2yzIOmGySC8FCtWjCpUqBD+sNXvSpoaNcdqtWM+qDkE3LcM0NzUeEB6RUB5nMf8Xr16ZX68d2W+IPoGTyw8DcDkpQj4Yhs2bEhffvml2c6qnIvqHeOCcOaEqFAyxjlWssa4zrqaJTIdwEsAgQR4lEeklbNy8+ZNmjVrFi1YsEB6AyjtJEiQQEaIdenSRUaUKcftfVcUNVLVsBgbAVayxr7+Pjt72E+Rfwt5uJxRsvCHRcQYqAktfVmxYdW5c2dq06YNJUqUyCl8QL2ouG45MzanOuVKmkWAlaxmLw0PLCoEypUrJ5UsHP6R0NAegX0U5aFcd+/eHaZKrly5pEmgUaNGLpsf4KUARQtOhcyZM4fph78YDwHe+DLeNdfFjJFmBvLHH3/IdDP2TApuXy1atAijYJGeBuGvULo4Z2nvtadNa2XAaQtBNJqyAWatHB8zBgKsZI1xnXU3SzyGw38VbFq//vqrQ/NDsACU9JYtWwhZFKpXr+42ZXjx4kVJqQjl2qpVK4fGxYX1iQArWX1eV0PMqnfv3nKe8Ai4ceOGzTmD87V9+/a0f/9+mjt3LhUtWtRmHUcLgOIQNl7kG8udO7ej1bm8DhHgHF86vKhGmhLcq/CoX6NGDVq8eLHVqYNMBhtdHTt2VDW54oYNG6ht27bS5AA/2+zZs1sdDx80FgKsZI11vXU3WzyeIywWfqlIaAhF6g3BShrkMgij/frrr2XGBm+Mg/vUHgJsLtDeNeEROYBAtmzZCI/okGHDhtGePXscqO2eouBSgMsXFCzsxH369HFPw9yKLhBgJauLy2jsSeARHcQu2ASDsgOxi6cEfcLOC55aBB7Mnj2bo7w8Bb6P9MNK1kcuFA8zagQmTJggeQWePHkiw2CR00ttAStX69atafv27RQ/fnwZlgvfWBZGwBIBVrKWaPBnn0UA/q2BgYEEEhc8ttevX5+Qw8symsudkwNpeNWqVaWCRX4xJGcsXLiwO7vgtnSCAG986eRC8jQ+IAD7KGgKES4LyZkzJw0cOJBq167tFl/YK1eu0Lhx4whpv0FjmCFDBpo3bx4r2A/w818rCLCStQIKH/J9BJBKBhywSJgIQfBCz549ZWoZZ2Z37tw5mjhxogxeCA0NJQQ0INgAfSDVDAsjEBkCrGQjQ4aP+zwCT58+ldFgM2bMMDNsJU+enMBTgBdWucrnVKlSyfki9BYpY86ePUtQrHjH6+rVq/Tu3Tu5Gv70009pwIAB5GzqG58HlifgEAKsZB2Ciwv7IgJIaAib6bJly+jMmTNWp6BwFmCVao1oG6m+a9asSaA+ZOVqFUI+GAkCrGQjAYYP6xMB8MciGmvHjh0EDwR8t6ZUwSdboEABqlSpElWpUkWmnokRI4Y+QeFZqYoAK1lV4eXGtY4AVq4wK8AEgE0teCgggixevHhaHzqPz0cQYBcuH7lQPEx1EEB6mGTJkpkDCGCzZQWrDtZGbZWVrFGvPM+bEWAEPIIAK1mPwMydMAKMgFERYCVr1CvP82YEGAGPIMBK1iMwcyeMACNgVARYyRr1yvO8GQFGwCMIsJL1CMzcCSPACBgVAVayRr3yPG9GgBHwCAKsZD0CM3fCCHgfgeAjNyn07XvvD8RgI2Ala7ALztM1JgLrNp2lHv020MFDtrP6GhMh9WbNSlY9bLllRkATCDx7/oZmzPmQKeLdO17JevqixPR0h9wfI8AIeAaB9yYTHQi+QbMCg+nR45ee6ZR7iYAAK9kIkPABRkBdBC5cekg7d1+mcqUyUt7cKVXrbPHyYzR99j+y/XjxYtGLF6Gq9cUNR44AK9nIseEzjIDbEXgrNp76DNhE9x++oN83nqFVC5tT7NjqUCgWzJ+amjcqQEUKpqE3oe9pyOjtbp8PN2gbAVaytjHiEoyAGQHszvf6ZiPdvP3UfKx+7dzUtmUReazvwM306vVb87mv/68clSud0fwd9R+HvJLfn4S8FtkWYCNVR8kWyp+G8IJsD7ok3/mP5xFgJet5zLlHX0ZA2Dlh33z5MpRCnr6mmDGjC2rEWHJGr169pZevQunuvecUSxxPksTPfE6Zsl/cmDS4XyUK2nOFanySjfz8PtRVzivvG/84p3x06L1S+cwUP15sh+pwYXURYCWrLr7cus4QiBUrBi2d24QePnpJ9ZovodbNC1PTBvnlLLNmTkpL5zShgMYLqfFn+ahnl1JWZ1+zWnbCKzIRepxGfR8U2ekoj+fPk5qVbJQIef4kK1nPY8496gCBZEn9qLwwA6zfcpY6tClK0aNFk7Pave8qvXnzjqpWyur0LNFUj87WFbStRlMk54wOtjDy9HlWsp5GnPvTDQJ1A3LJx/79B65TmZL+cl7bd12itGkSuuw10LJpQd3gZPSJcDCC0e8Anr/TCECxpkgWjxBNBXn+4g39ffA6fVIxi9NtckX9IcArWf1dU56RhxCIHj0a1aqRk5asPEaPn7yiff/8S6GhwlRQ2XlTgTL0IaN3KB8deu/VvbRU/A5V4sKqIsBKVlV4uXG9I1AnICctWHaENm09TyBgSZ82IeXJ6VqAATa+tu266BR0ndoWI0rmVFWupBICrGRVApabNQYC/ukTU+GCaWnJimP0RKxmWzS2bUsFj8DaDWeodIkMNHxglQhAYeNr8ezGEY7bcyBD+kT2FOMyHkSAlawHweau9IlAPbEBNnL8Ljk5W6YC2G0XLT9K79+baMv2C/R/XUsTPBXCC9zBXJVLVx7R+Em7RcCDiZ58DID4ccoemr/kiPSG6N29jMsbdK6O0Qj1eePLCFeZ56gqAlXERheCDLCKzJk9eZR9IVAgf95UskyWTEkpqQhYUEtu3Ayh4yfv0MnTd+n6jRDZzR0RKIHvJ8/cpddv/otMU2sM3C4Rr2T5LmAEXEQgVPjFIlzWXt/YKeNrCSV3jwoIZfvRvdbFEVivXqFsJtq7tZP1k3zUYwiwkvUY1NyRXhHYJnxjQfxir5KNEycmFS2UVq9w8LzCIcDmgnCA8FdGwBYCV649prkLD8nV67NnbyRfa6niGShHtqhNBbba5fP6RIBXsvq8rjwrFRFYufYkrVp7Sto2z154IHxkX1L3jiVV7JGb9mUEeCXry1ePx+4VBCqUySR35/eK4IOHj15Q1/YlbG54eWWg3KkmEOCVrCYuAw/ClxCAaWDt8s/plNilz5k9BaVJncCXhs9j9TACrGQ9DDh3pw8EwFlQsVxmfUyGZ6EqAmwuUBVebpwRYASMjgArWaPfAQac/8aNG2nw4ME2Zz5s2DDavp3zYtkEigtEiQAr2Sjh4ZN6RGDbtm00c+ZM2rJlS6TTO3DgAE2fPp127twZaRk+wQjYgwArWXtQ4jK6QqBVq1ZyPjNmzIh0XrNmzaLo0aNTly5dIi3DJxgBexBgJWsPSlxGVwgUKVKEihcvTnv27KELFy5EmNvt27dp/fr1VK1aNfL3/5DxIEIhPsAI2IkAK1k7geJi+kKgU6cPMf0LFiyIMLH58+cL8u1Qatu2bYRzfIARcBQBVrKOIsbldYFA3bp1KU2aNLR8+XKR+PCNeU5QroGBgXIFW7VqVfNx/sAIOIsAK1lnkeN6Po1ArFixqF27dvTw4UP6/fffzXP5888/6f79+9S6dWtpkzWf4A+MgJMIRDMJcbIuV2MEfBoBKNNChQpR0aJF6cGDB3T+/HnKkSMHXblyhY4ePUopU7qWRsanweHBuw0BXsm6DUpuyNcQSJEiBZUvX57+/vtvs8kAijYgIIAVrK9dTA2Pl5Wshi8OD019BCpUqCA7efHihbmzZs2amT/zB0bAVQRYybqKINf3aQSwkoW8fv3aPI9ixUTGVxZGwE0IsJJ1E5DcjG8iULBgQUqcOLFZycKEkDw5k2/75tXU5qhZyWrzuvCoPIQAorrKlCljtslmy5bNQz1zN0ZBgJWsUa40zzNSBGCXVZxsWMlGChOfcBIBVrJOAsfV9IOAYpfFjFjJ6ue6amUmTNqtlSvB4/A4AufOnaMjR47Il9I5qA3jxIlDsNWC4yBu3LjKKX5nBJxCgIMRnIKNK/kyAidOnCBwxSK6KypJlSoVDRgwgD7//HOKESNGVEX5HCMQKQKsZCOFhk/oEQFwxI4cOZLevXtHfn5+VK5cOblqDQ4OpmjRolH16tVltNe+ffvo33//lRDAnDBnzhxKliyZHiHhOamMACtZlQHm5rWDwE8//UTfffedHFC9evVo1KhRlC5dOqsDhBKeO3cujRs3jkJCQihv3ry0YcMGSpCAkyZaBYwPRooAK9lIoeETekIApoEmTZrQ+/fvaezYsdSxY0e7pnfp0iVq0KAB3bx5kxo3bkxREX3b1SAXMhwCrGQNd8mNN+FXr15R2bJl5eN/hw4d5OrUERQOHTpEoEYEJeKSJUukScGR+lzW2AiwC5exr78hZg9ibthXM2bMSMOHD3d4zmDp6t69u6w3evRos0+tww1xBUMiwErWkJfdWJNeuHChnHDv3r2ddsnq2bOntMeeOnWKsEnGwgjYiwArWXuR4nI+iQDydZ05c4ZixoxJn332mdNzSJQokcz5hQaCgoKcbocrGg8BVrLGu+aGmjE2riCZMmUiKEpXpECBArL65cuXXWmG6xoMAVayBrvgRpsuNr0gCRMmdHnqShsvX750uS1uwDgIsJI1zrU25Exjx44t521Jyu0sEIpyVdp0th2uZywEWMka63obbrbwKIAgb5eyqnUWhNOnT8uqSpvOtsP1jIUAK1ljXW/DzRYK0d/fX/q4btmyxen5I3PCH3/8IesjFJeFEbAXAVay9iLF5XwWARC8QBBWi3BZZ2TevHkyfTiUNitZZxA0bh1Wssa99oaZOUJoQe5y8uRJQjCBo7Jjxw5zEMPXX3/NjFyOAmjw8qxkDX4DGGH6SZIkoW+//VZOderUqTRhwgS7p/3w4UPq0qWLXAGDpYsJYuyGjgt+RICVLN8KukcAAQmzZs0yz/PHH3+UdIe2NsK2bdtGVatWpcePH8tgBqSoad++vWTyAtEMCyNgDwJMEGMPSlzGZxG4ePGiZN8Cd0HatGmpdOnStHr1ajkf0BwGBARIPtnChQsTVrzHjx+nY8eO0V9//UV79+6V5ZCSBsQwCM+dNm2a5C6oVq0a/fLLLzLTrc+CwwP3CAKsZD0CM3fiDQSOHj1KzZs3p/v371OOHDnot99+owwZMtDmzZtp6NChZCtyC/6w3bp1oz59+lD8+PHlFNasWUO9evUi+N1mzZqVQD6TK1cub0yP+/QRBFjJ+siF4mE6hgD4Y9u0aUPPnj0jsGgtXbo0TGYD0BaOHz+epkyZIhtOmjQpPX/+nPLkySNzeyG/V+XKla2SemMDrXXr1nTt2jVpo4Wdt3bt2o4NkEsbBgFWsoa51MaZ6O+//y5XoFCkUJTz5883r0QtUYArFpIpIg0NFCbcu+zN5aVsiO3atUumrcFqt3///hQ9Om9zWGLMn4n4juC7QFcIQKF27txZBh8go8HixYutKljYW6FgIbDVQuxVsCgLl7Bly5bRl19+KW20EydOpC+++IKePHmC0ywWCFz79wkdOX6b3ouNQyMKK1kjXnUH5/zmzTvaf/A6PXj4wsGani0OrwH4sWJFigwI2JiKjGcAgQmKOBsmC6UMEvCZM2fK1fDWrVvp008/pbNnzypNG/r95u2n1KbramrW7jfq1mcd1Wu2hLYHfWBFMxIwrGSNdLWdmOvcRYcpoPFC6j1gk/wn+WrwFnr56q0TLalXBe5USN0NGysEn5EAMbJHd6STUR7zUT5nzpx4c1qwYt60aZPMvABvhpo1a8qki0436GMVHz1+SbhPLOVJyCvqI+6ZcxfuU9FCaan6J9nEZuEbGjF2Jx06esuyqO4/s5LV/SV2foIr15ykWfMPUuxYMahOzVyUNUtS2rv/Gg0euU2sFrXhJwq7K4IFkLIbK8sffviBvvrqqygnraxi4fcKcXYla9lJvnz5CCvZSpUqyc22du3aSUWvZ3/a+w9e0KTp+6hBy2W0YOkRSzjol7kH6dr1J9SxdTGaNqEOjRz0iXyPFj0ajRi3UyS0NI7pgJVsmFuDvygI3L33nH4S/0ApksejhbMa0eB+FWnBr42oSoUstO+ff2nd5g/2TKW8N97hDdCyZUuCWxXMAgg4aNu2bZRDAZMWiGIsU4FDUbtDYKddvny52U6LyLJWrVrJlOLuaF8rbdy+84y+n/wXNfxiGS3/3wlKkjgu9e5exjy8ly9D6Y8dFyhv7pTUvlVR8/E8uVJKpYt7Cz/WRhFWsjq80kdP3Kbxk/6iW8Im5qys23RWrjYG9q1IKZLFk82IqFIa0r+y/Kdas/4D7Z+z7btaD7v7eEzHYz9CXbEJhYyyUQmUKfJ8YQVrGR7rzs0qxU7766+/SjstmLtq1Khh3mSLanxaP3f9RgiN+VGkVm+znFavO03Jk/lR/97lacWCZlS/dm7z8LcHXRamgVCqG5BbeF6YD8sPtT/NKZ44otN6DfxIhx2Zet9iqtc0t+wtBJ48eUVQglCUNatlpzafFyb/9IkdGs66zWcpZYr4VLpkhjD1/OLGpOpVstEKYUo4f/EB5ciWPMx5T3y5fv06NW3alM6fP08pUqSQCrZQoUI2u8YmFeyxyPW1ceNGc3l3Klml0YYNG0pbL/xpFTst/Glr1aqlFPHI+4DhW+nMufvmvsqVykhf9ypHy1YdF68T5uOJE8WludM+kwrQfPDjh8tXH1HgkiO0dedF+cObJnUCcU8VoTpCYcaMGXGdduHyA1mzYtlM4ZuiZEn9KH+eVHTh0ocyEQro8AArWY1f1CPHbtHI74PMNqyYMaLRj2NqUtIkcen/vtlE2GBQpGProtJ2Wl7c3LCBzV10iDZsOUeb/jhPVatkpbbiHyNr5qRK8Ujfnz1/Q3fuPqMGdfNQ9PBLEVGrYrlMUsleuPTQ40oWSRGbNWtGN2/elDyxK1eulJFXkU7m44l169ZJcwIiv6Bk165dK+vBPxbcBGpI/vz5CfwHnTp1IgRHwJQBezE8ICLblHP3OB4/fkXv3r6nh49eShcqP78P//JPQl7La4z+8KQSN26MCF3jR3T+4sO0c/dlsfoXrm5pEop7qDDVqmFduSoNwJwQO3YMqVCVY5bvaOfkmbtyPNbuL8uyevjMSlbjVzHk6WsKFS5Ur16/JSi/WGITCjfwW/GPc+t2CD199obixYtF8eKKl18sORvcuNjNhWLdvusSzRM7v1t3XKRtYiVSqXwWateyCOXMHvkKFP8kkLSpE8r38H+U47eFIvakHDhwQNpgHz16JCOzECabJk0am0NA+CxCYePGjSs3yOA7C8EmFQIX1FKy6EOx044aNYqmT59OcDMDPwI+u5rYEe3bkl8mfTChLP7tGE2duZ8y+SeRVUoUTU8LxOq0cf181OfL/+ypOAnlOlNseP6174PdNB2Uq7hnAqrnsLpyDT8G/EArJqbw5/A9ceI48v7FDwBWtnoXVrIav8IVy2UWK8fM9FiYANp2W01x48QUq1g/ihMnBuXOmVI8Ct6j+b80JPwjhBepbMWjfdXKWWmHsJPNEyvbXWJVgldZ8djY/osilE88uoUX/JNAsOllTZJ/PH7v/nNrp1U5tn37dsmABc6AUqVK0aJFiyShi63OkNEAzFlPnz6VIbQIm4UdFwIlu2fPHpmaRh5Q6Q/SkY8YMUIS0SAyDBtv8KcNDAx02X3M3iG3bFqQTpy+SxOm7qUM6RPRsO92UK6cKahHl1IRmrhx6ymdv/Df43z2rMnkJpY100CEyuIAKCGfC5tsZPL6tXPE6ZG1p/XjEQ0qWh+xQceHHdyxw6oRHLx/EDu7i5YdpQOHbohd/0pWFawlTFC21YSihZfA6CFVpckAu7sde66lXv03EkwSloJ/EshzsXK2JpEdt1bWHcdWrFghd+mhYKGcYCIAY5Y9MmjQIDpx4oQkimnRogXduHFDBgtA8VWoUEGuiK9evSqVsD3tuVKmUaNG0n8W6XAuXLgg/WnhX+spGfJ1JUqdKj5177ueXosnozHiXohlxaZauXxmWrmwOQ3sW4HSp0tEf+69Sq06r6KBI7YJW+pDm8NNkyqBNGOFiqcta/JAuH7hiQyLBSMIK1kfuspwgenboyxt2nqeZsw5QM0a5ReP/5ntngGUbdVKWWnRrMbyHwwbW/8E36Bu4p8OL8VMgI0NyP1IIrwePHwpz6dO+aGc/KLSH+zSI3Q1NDRUKkqEzeKx3x7ZvXu3ZMnKnTs3ff/997LKzp075XuxYsXk43qBAgWktwFIXzwh6A922ooVK0rFDhIbBFF4wp8WZqWmDfLLaX5SMau0sUY2Z6xa69XKTb/Nb0rDB1ahzBmTyieg1l1WETbTYFKITJT75/KVR1aLXLryUCr7j7/lVsvo6SArWR+7mnVr5jQ/xrdsUtCp0eMx/5BYvcIEAUmYILaMykmUMI78jpUI5NJl6/8kFy9/WM0o/0yysJv/wM1qzJgxMqMBPkPRgjELK1B7JW/evJKJC/m5QAIDgdkBAjJuiOKVADupp0Sx04JGEXODnRZeCCEhIaoOAdd9dmCw9DSB98jBwzdt9hddBA98WjU7LZ7dmMYOry5s+Sko6K8rIlz2fzRgmHVlizIQayG0Z8/fJ5gjlDI2B6CDAqxkfewizpwXLB/jsbEwCl4H2Pa1U+4IJ/Afp+yhxq2X06q1pyi+WNl061CC1iz5nDq1KSY30NAUVjx4TPxb8BU8F6GQ4WXHnx/iz6PaPAtfx5Hv4B6A7XLSpEnSvjds2DAaPny4/OxIO8mTJ5cKLHv27LIa/GSDgoLkZ0XJYmUJAVG3JwU/FiNHjqQZM2bIHwDFTgu3NDUEEXpDRu8Q/sGxKfDXhsIm709Dx+wge+3qWHXCjDB/RgOaILxb8udNTUF7rlDrLv+j/kP/EOGz/61sq1TITAnFD/aW7RcihGAr/tX1AozDwctKVo07WqU2EWm1cPkR6iWia8aNqC5jwGfND7bZGzayEKHTpNUyWvX7qQ8ROt3K0OolLah1i8Jm5WrZEP4JQkPfSfcvy+MIcNh/4DoVEP9kWTLZdgezrGvPZ2WjCh4AUERYvfbo0cOeqjbL/P333/IRHR4JinKFIs6SJYt5pWuzETcXaNy4cRg7LWzOIBV3t+DH+fipOzRsQBWCrzNs+THEKnXwqO1yp9+R/qCgZ06uR1N/rE3FiqSTNtvOvX43NxFHbM7WEp4IuO/wo64IbLtrNpyRP+Ali4X1v1bK6PHd/mcvPc7eh+aEFcfI8buoTAl/+kzYyiDwi4WrDZy7y5XOGGE2uMnnCzedDeLREJsQ8EBo1bwQ1RY8BNY2PCwbAFcBHi2nzfqHihZOJzfL0MYQsfrBO3xo3S14XEYYKmgIYXedPXu23OhyVz+IvoIgdYyyuYfvSDXjCM0h6rhTFDstsurCjgw7Lfxp+/Xr55I/La7TcOFFAFe702fvSV9XbFzhfsHmJZ6Bjp+8Ize1EiaIQ316lKE8wmPFXikm7gu8TgjlvXZjWOaxzm2L02FBBLPxj3N0Ung1pEoZn4KFeQLeMaMGfyLwt7cX3y/HSlbj13C3+PUPFOQbULKwocK7ALHhfsIn9rXwn4W1YKj4R8KqMpewhSGaB6xIM+cdpPUiEAH+tBn9E8tAhBrCdxYhjfYI/BcHflVRKna4jpUqnp7OnL0vN8OweVazWg57mrG7zN27d2WQATwBEidOLHlg4arlTsEjOQSrRUuJjA7Rsozan2Gnhd8vXL1A0QiiG8WfNmHChE51/1Y8icDkgxBXRUI+Bq/cuvOUHokABciVa4/lfREaat0bQKkb2TtMB3hZCkxOE8bWpOGCdevwkVt09d/HlDFDYslxgA1cIwlnRtD41Z6z4BDNXvCfSQDKb9ncJtLmBY8AS/er0mKV+5O4sbExgR1ghLwipLZKxSxWI7fsmTrCZxFSCS5ZBEFgV3rQVxWkC4499e0pc+XKFZnsEO94lIeygT+rOwWRYnDZwgpZyYbgzvbd2RZc1GCTRjZdRKjBnxbvnhKsPM/b4aplOR6YHupGYmfFvYMIM3uiDS3b1MtnVrJ6uZIW88DuP2yn5ctksjjq/EdsrmFXOFOGJFbtt863TNKHFWGyWMkiMSF8Yt1BPRh+TNhEg7cCuF4XiqyzWhdsxCEMF1l2sZJFhBjG7gnBhioe8x0R2GF3bWjnSBXDlGUla5hLrb2JwvaqUAEWLFhQ0gSC8EUNARPW4cOHafLkyfT555+r0YXb23zw4AHBTgubMbgOYKOFrVZt3gMEucCE4IjEEU858KtliYgAK9mImPARDyAAFizk4oI3AR7j8UjsrO3R1nDB2oWMtVBOp06dCpO11lZdb59/+/atdF9DUAYkICCApk2bphpW3p6vHvu3bxdEjzPnOXkNAbhngU8AChYcsOCCVUvBYpJQ6HD6L1OmjE8pWIwdbmyjR4+W5gLYkxGGi407hOWy+AYCrGR94zrpZpSwjWJTBwEHcFVCNgO1d/fBtAWpU6eOz+LYpEkTsz8tAhagaBVvCZ+dlEEGzuYCg1xob08TK8khQ4aQ8tgL2yISHqott2/fNofOYjMpdeqwrkZq9+/u9sPbacFNCywt/X7d3Se35xoCvJJ1DT+ubQcCIHcB9wAULOyiY8eO9YiCxdBA1g3yFfjc+rqCxXwQoQYPDNizMS+Qy8ALAVSOLNpEgJWsNq+Lbkb18uVL6UEAxQCzABztsWPuKVm9erXsCtkQ9CKw08IdDRtgsNPC5gz3LrbTavMKs7lAm9dFF6NCBgNkk0VGg/jx4xNoCitXruyxucHHFJSGWD0jeiplSv1FGh09elSuZOFBgUwLIJyBuxqLdhDglax2roWuRoIcXPXq1ZMKFiGj//vf/zyqYAEmVrGwBZcvX16XChZzBFUj+GnLlSsnqRLhd4xU5Jg3izYQYCWrjeugq1Fg97t27dqEUNYMGTLQ+vXrpZ+qpye5atUq2SUyx+pZYKdFKC4SNsJOO27cOLm6ffbMsznY9IyxK3Njc4Er6HHdCAggqqp58+b08OFDypUrl+QhSJcuXYRyah84ffq0zD4QJ04cGYDgiaSFas/JnvaXL18uI8PAewD8EeSRLVs2e6pyGZUQ4JWsSsAarVlEJvXs2VPaA5H9FQ70CAf1hoIF9kq6ma5du3okK6xWrjd4IC5duiSDPc6ePUulS5eWn58/f66VIRpuHLySNdwld/+E4UEAjwHwtcaKFUsSbYOM2luCDbf8+fMTMiGAnxU5vowoS5YsIfjRAgewmmFVC4JyFs8iwCtZz+Ktu96waoVChYKNFy+eZLjypoIFwNjwgmLBppBRFSxwABEOot3Spk1LMJ/A62DHjh04xeJBBFjJehBsvXWFaCp4EPzzzz+UNGlSwkaTkjvLm3MFFwIEtmGjC1zY4H2AYAz8IELxgomMvQ88d2ewucBzWOuqp4sXL0qibfiiwu4Kom1stHhblA0vBD7ANxbuYywkV/bffvstIXMvBD+OyJ8G/2UWdRHglay6+OqydTjAg2wFChaM/Rs2bNCEggXYsENCEAHFClZCIf/gRwebgSDowWeYEUCbiGwULOoiwEpWXXx11/qff/5J9evXp/v370vfV/jAwhdWCwI7LMJ3IYg0Y4mIAHCxtNNWr16ddu7cGbEgH3EbAqxk3Qal/hvCP2eLFi0ITu4Ij0UUl5ZWi+BaBUsVlH6lSpX0f0GcnKFipy1ZsqS00+KawnTAdlonAbVRjZWsDYD49AcEwDsA5iesFhs0aCCzyWrNnqfk7sLmjjdTfPvCPZMqVSrphQEGL3D7jho1SkaMvXjxwheG71Nj5I0vn7pc3hnsjz/+KCn10HuHDh3ou+++Uz3PlKMzvXz5stxBBxlMcHAwpU+f3tEmDFt+0aJF1L9/f7M/7YIFCyhz5syGxcPdE+eVrLsR1VF7iIMHsTY4SyH4jLh4KDKtCRQDHnfhQsYK1rGr88UXX9DatWtlOnbFn3bXrl1WG4H7F9IHsTiAgLgxWRiBCAiI/FsmEcVlEtljTYLs2iRcfyKU0coBjDVnzpxyrCIoQivD8rlxCL9nU61atczXXNhpTeKHNsw8hK3bJFK3mwRJeJjj/CVyBLS3JHHgB4KLqoMA4tyxC71mzRrp7oM8XLDdaVUwThDS+Pv7ayIYQqs42RoXMkcgWk6x044cOTKCnbZbt26SUlGxf9tqk88TsZLluyAMAlBW2NjC42KCBAlkJllklNWyKA72SMyoRVOGlrELPzb40P7www80ceJE+QMLMwL8aa9evSqLIqEjQpWR4QKboCy2EWAlaxsjw5QAuz6CDEBXKMwEciVboUIFTc//yJEjdPDgQQKlIWyLLO5BAOTfip321KlTBH9a/PDiR2zw4MEEUna4fbHYRoCVrG2MdFNi7969kfpCgmAbRNsg3MZjN6K4QLCidZkzZ44cIlbfIK9mcR8CxYsXl7wHJUqUIDCbgQvi559/lunIcQzRYxwxZgfekZtr+YyeENiyZYvc0BDuOhGmJQheTCI8Vp4XK1fTrVu3IpTR4oF79+6ZBG+CHLdY0WpxiLoYEzYWRdpxiTM2QrEhKqLE5HdhPtDFHNWcREw79DAX0QECSLAXLVo06UtqOZ3t27dLUmc4oYOpCT6TSZIksSyi2c8IkIBdEJFLvrDq1iyQVgaGlSts8uAHhp0WvtLAGG582GjEEw/yiiEkF5GAIJxxVhCiLX4wZag2IvaUvmGywgtPKNiU89UAEw5GcPbO8KF6YKP65JNPpF1NIVDB8BHn36tXLwoNDZWPgLNnz5Yppn1halCuRYoUobt37xJMBq78k/vCfD05RvzgFi5cmJDCBmaBMmXKyBfCcXEvtW/fnkBziZQ+wpVLKsB9+/ZJpWzPOGHPBZk6Mmfghb0AW4If/rJlyxL2CJAYE4xvWDT4grCS9YWr5OIYu3fvLhUquAaUjaxff/2VhgwZIm20sLX99NNPFDOm7zzYgDMW6W5gPwafrS+N3cXLqXp18egsOWeDgoLkpiKULQQr2ooVK9Jnn30msyxgwxGKDuUVe21kg8MPOciE4A6IFPHhBQobq1WE+2LlGhISIn9A79y5I1e2CIyxFESkIfoQvAuJEye2PKW5z6xkNXdJ3DsgYV8lrECEsz7tErvD+IdAWCw2LSBffvklDRs2zGdWBRgz5lC5cmWZIHHEiBGEHxEWdRCAcoQHB1ac8KFFRBgkTZo0UiEeO3bM3PE333wj092YD4gPqI8fRPyIgxoTAhNEgQIFpHkKph6YqVKmTCnPWfsDv20odPyY7t+/X35WcpYlTJhQ+vLCf1ezZi5xw7LoGAFB/CE3KJYuXWoSyQ5Nwjwgv4ub2iR2in1y5sqmi8hXZXry5IlPzsFXBy3cuUwiSaZJmGrkfSRWnia8sCGGlzDdmKcmTAImYWownxN510wTJkwwYcPSFRE55UzYwEX0mdIvNm5FgIRJkN240rQqdbEqYNEpAuLX3pQ9e3ZT3rx5TeLxy9S6dWt5U4pViAlKVxFBXWgSGw7KV82/ixxich5Dhw7V/Fj1OkD8YAvzk6lKlSpmRacoPGGKMuHHHT/kOIb7T5gJTPBScLds3rzZJEwY5jEI84FJpNlxdzcutcdK1iX4tF155syZ8uYbO3asSWwMyc+Ca9WEG1PY2Uzr1q0ziU0ME44JG5dJ7Opqe0JidOLxVM5DJAc0iQ0TzY/XCAPEk4Ug5jErOkXZQsmKbLmq8xxg9QrFnjFjRjkGuCG6ulp253Vjm6w1I5AOjsH+JR6nJFdopkyZpC0NGwS9e/eWtkwQXIN8GxsXcDrHZgb4YrW+Y4sxwjbYrFkzmjp1qg6ulD6mIJSSZOfq27evtJljVgi9bdSokccmiMg0cAnfuHGD8uXLJ13NtGCnZSXrsVvAcx2BhBl8A9jFFasK6X8IBQuSbbjPQOAGgzQyiEvHjq4vCKKLSpcuTdhpxs53njx5fGHYhhnj8OHDadq0afKHGkpOrHA9PndwLGDBAEULly+4KcIrwpviOz473kTJy31jhxYr00uXLhHIqSGCbk6+4MIU3n0J5B5QsIjnh6M3bjKxQUTCJkaIScdqECQfviZYueIH5NNPP2UFq7GLB2UGBQtuA/hbe4tUCE9tyJwMDg6EkYNnAYQ3XhV32h64LfcigF1UoVjMIa+KrcvyHTyq4uY2oSwEIbLY7VU2HVAW9ktsRAiGLfcO0IOtIdRXCaHFHFm0g4D48TcJ5SbtocJVSxMDEwk/Tdjgxf2PvQdvCpsLvPoTF3nnf//9N/Xo0cNMMQdn7WzZssnVK2pdvHhRrmzhtA2BczZSPsNnFKtXReCHiJUtImR8WYQnASE0GKGcCOtk0QYCQnlRw4YNpR+t8DSg5cuXq27X37Nnj0ziKdzBogRBSZskFC0hIs1r9llvanju2zoCQonIbAT4FYY/onj8icBQj5pgrRc3tdlnEeWVF1Z9IiWL9Q587Kj40TDvHIuACh8bvb6Hi1Ui7jmsZNX09hBh1PL/QHEZg0eMLRFmNrN7l4hutFVctfPswqUatM41DBclkaNK3rgibNAEX1dbgjIiAsqsYEXcuUnE9Nuq5jPnlYCKmjVr+syYjTJQ5b4TT1GqTBkmLpggEMigLCDwbo+SxYDwo6yUx4+1N4T5ZKN84PDsSZCedO3aVW5QwXCPOO948eLZHATKILkdwhUhYE/Sejy3zUl9LIBMDQpnrKDbs7cal/MAAthcPXHihPRawWaqOwXmMITpgvlrzJgxkpDGmfbhxli0aFFJdiMCcJxpwuU6rGRdhtB9DSCNyrlz50hsVEmCDkd8VoV5QPrCIqYcBNyBgYHuG5gXW4IdFv68YIVCJloW7SCAzAkQLAjc9aMOeysyXID5C/8PYkPX5QkjXx0ElIzeEFay3kDdSp/w/QQzFmTgwIGSRs5KsSgP4UYH3ycEjuDhmYuirKzBk1jFwh0IIiKHVN9Q0SAEmh4SFCKkRo0aLo0TLopwuwIdJ3y3BcG8OaDBpYY/VkbqHMjRo0flD/bHwx57YyXrMaij7gg3AHxh4UXgSpSMiOsnMBNdu3ZNcn9G3au2z06fPt28ilX+UbQ9YuOMDj/geOqC4CnDGQE5N9jg8DgPNjhw1aoheDLEEx7GfPbsWTW6iLJNVrJRwuO5kwplHFyuXIlQQQACwmQhat20nkAFbmjKKrZ///68ivUE6A70IUhYZFYKmLSgxBwRd9lbHelTbCbL4sjA4GnhiC9PIx5Jf7hpISAudlWUNrBS8FWZPHkygTMUzPzVqlXz1WnodtyKKQpKVtlwtTVZPK3Bl3vr1q1uNQfY6hfnlTEiYtDTwitZTyMeSX/KJpdwMYmkhOOHlTYdr+ndGiAax6YHRLExe3dE3Ls7EAB3BrIeKArPHW36QhusZDVylZIlSyZHohC4uDIsKCmI0qYrbXmjLiJ5wLMAEhukO2HRHgJKUkOsaOF6aI8IbmOaMmWKzLQAdzxP3p/KGMPzfNgzblfLsJJ1FUE31Vc2D+B76IrbCpLgoQ2I0qabhuiRZkCCoyR7HDRokEf65E4cRwCeLLD/Q8B45YgIXg35hIJ9CIR8IzWS2qKkvlFMaWr3Z9k+K1lLNLz4GdRwYNaCHdIVp2koKCharBp8kQpw3LhxMi+UiO6S9lgvXhLuOgoEwLal3F+HDh2KomTkp6CkwQqH/GHIAyaixyIv7MIZKFhseGEV6wmFHn6orGTDI+Kl77Cfwo0Fgs0B5J93VHAjKbRuaMvXbLLYGAH5Cx5FeRXr6NX3fHkl8zH8Wl0R3KcINAFdomDPkhloXfGwCT8WZXxwFbMngjJ8fVe/s5J1FUE31gerO8IIoWARXivyKNndOsoiYycc+GEmQKpkXxPBUSB3nZs0aWJeJfnaHIw0XpBjQzZu3OjUosAaVlgdK3bbfv36yY0ya+UcOSaSLsriCHTwiniDMIH7jBwB4eAt822B1EIoG7sSHCIJopJcEBlcz58/H3kHGj2DPFGYM8hxxOOdRkfJwwqPAEh7cN1GjhwZ/pRbviMXHdjkBMWlUwQxyGeH8WUWOey8lWCRWbjcciu4t5Ht27ebmbhEBgOZJE4h5bbsSdheTSJ81iS4YuWNBGYiKCtfEyTCU9ichg0b5mvD1/R4791/bjp/Ub1MxLhXlR9HkHerJcKLwYS+lMWEPSxcyI5bqlQpOb7vvvtOraHZbJdJu73y/GC705MnT0rSbrAcQWCjEtk4KW7cuPI7PBBg0FdcUwoUKCATC4r0y/K8L/3BpkfPnj0padKkJLIeeI9c2ZdAs2OsoaHv6POOKylRwjg0Z6p6j8ogYPnjjz9IKDQCaYzi3mXHEJ0qcvr0aUnajdQyUYmScwzRXuBZgJ+uV8SmGuYCXkMApMOCwtAkQm3lrzFWDOFf+KUWHgUmlPVFAReu+IGQ8xKMW744Bc2OOXDJYVPpqjNNbbr+T9UxChcuk/BmkddwxIgRqvZlb+PCTmxOw7Rjxw57q6lSjs0FqsDq3kbxqHTnzh0T8hYpSla4vchjOOfLIly25JxE+KwJj3csriNw6/ZT0/zFh00VPp3tESWLEYsU8zKvHHLLiY0m1yfhQgtHjhyRmRrwv6KWrdiR4bG5wCvPD851Cv9XkeZDVoapQDEdONea92uJdCWSN1Rsbkj+21q1anlsUHiU3rj1vAj8CKVG9fKKUM8YHutbzY4wr9pNFtHTZ28oQfzY9Oz5G8qVIwXNn9FAzW5l2yKDAQnbp/RHBdWm4n2gescWHcCU0KBBA+ntAApGsWmmuvnConurH5kgxiosfNATCMBmBgWL0FlPKljMbe2GMzRh6l45zRgxolOT+vk8MWXV+4gZMwbVr5OHkibxo8rlM1PfQZtV71PpoE+fPiSeuGQmC7gggvSoTZs2ymnV3/fv30+tW7eWboxgs0NmEbXtw/ZMipWsPShxGbcjgCgfbJIgCmf06NEOtz9g+FY6c+6/rLzlSmWkr3uVo2WrjovXh81CNJo4UVyaO+0z8c8W1iX83oMX5j4fPnKdfd/c2McPR47dopHfBwkO0w+EPzFjRKMfx9QUyi8u/d83m+hJyCtzlY6ti1Kdmu7JJiz8+ql7x5Lmtj39AStZ+GwjMwf8XHGdx44dS+LRXbWhYPMX4bnwrwUBOJjbEDXpjcADa5NkJWsNFT6mKgL4R0D2B0i7du2cCjx4/PgVvXv7nqAghVWa/Pw+3MpPQl7TnbvPZNspksUTJhXrZoDmjfKLFc8L8Y8YO9JV7MY/PpBSy8Yc+FNJrCBDnr6m0Dfv6NXrt/KRHeaI2LFjCAX0nm7dDpGP8/HixaJ4ccXL70NuNge60GxRhNsi6lD4a8sfT0TwiY0nGVyD1S0I5d0lUOaIEkPqb5DUQ5o2bSq/+/n5uasbl9thJesyhNyAowjgMQ55yEAUAkJuZ+SXSXVltcW/HaOpM/dTJv8k8nuJoulpwZIj1Fg8/vf5skykTeNxevDXlSI9D8bJUWIl6ozkz5OaKpbLLF+Pn7yitt1WU9w4MeUjfJw4MSh3zpRiFX6P5v/SkNKlcZ/ScWasatRRQsQRdotkiMHBwTJUHHZaRDV27NjRvLfgTP8wQyCKa+7cudKNEW3ATQtPRMg3pjXhjS+tXZEoxqOHjS9QOYroHZlW5ueff6bmzZtHMWP7Tg0csY32/fMv/TS2Jg0ds4NSpohPv06uR7FihjUR2Nfaf6WgwJ2RBsImilWqIqfP3qMuvddRtcpZKXPGJDRjzgEaN7w6YcUbXhTzQvjjUX2HUoOZwJq0aL9CsGXF9MjGl7X+xS48bdiwQa4u4fsNgZ00R44cMvwbIeB4iZTfZlYvy3ZApSgiGOnw4cOSIlF4DsgMuaDChIBVCz7WsP1qdSOYlazlFdX4Zz0o2fbt29O6deuodOnSMnuoO0hsXrwIpXZfrqZr/z6hhAliU6BYIabV2ApxjdhoG//TbnmHNROmit7dIq6y7ws78WfNl0jzhyO34qRxAVSqeAarVbytZJVBQdkGBQXJlEIicisCLwcUL/hlU6VKJfkKQkJC6O7du4Q0RErAjdIW7hkoZtxL8CRQKBeV81p7Z3OB1q6IjseDqCAoWDDjw27nDgULuLBqbNogP/04ZQ99UjGr5hQsxli3Zk6asyCYoEhbNimIQ1YlW9YP5O1WT0ZyML7FqjmSIl4/jGsNKkO8nj59Sn///Tft3r1bvk6dOkVICwMWuchycCHaEeYHvEDm7g1eWGdBZCXrLHJczyEEwJOr2F9Bwyg4GRyqH1VhEZ9PswODyT99Ylq3+SxVq5KNihdJF1UVu84NGb3DrnLhC/XqXpqw6WYpM+cFC67gN/I4bL2TxgdQ9HDP+CmSx6MFvza0rKbLz9j8QvZhJQMxVqpgnsMLK1fYXBMkSCBXtPBKQMoarXgKOHNBWMk6gxrXcRgBuPYg+CBz5syE1CPuknfv3hOUYQKYCYSCGjpmu7TLBv7SQNpmne0HG1/bdl10qnqntsVE7p//qsJevHD5EerfpwJlz5JM2mdnzQ+mLu2K/1fIwJ/Ay4GMt45mvfUVyFjJ+sqV8uFxYnd5zpw50jyA/F3u3KDACvH4qTtyo8svbkwa3K8Steq0igaP2k7TJ9QRfrjWN7+uXHsslPN26Uo1avAnVCBf2CzBWGQunt3YKdQzpE9krodV9sjxu6hMCX/6rNaH1Tv8YmfOP0j586SicqUzmsvyB30iwEpWn9dVM7PCo2Dv3r2lzQ1E4u5IjBgqfE2Hf7eDbgt/WOzcY9V54dJDqbTwSC6+0vGTd6hV51ViIywO9elRhvIItylLWS/MCqgD2bTtfAQli+NZMyfFm1Oye+9VClx6hKBk4cZ18/ZTGcLrJ3xiXwv/WYx5qJhDlkxJKVf2FDKQwqmOrFSCS9uR47flmVt3nomNo7fUseda+T2HsPliRc3iOQRYyXoOa0P2hJUrfGKxUSHIOtyCwVsRn//3wesil1moub2QjxFUt+48pUcfI7iwWkWkV2joe3M55QN24xUXraKFXLffKu0q7+cuPKCTp+8qX2VwAgIRIIoCxPhRBj8E7pSDh2/S2fP/RcOhbWUsegp8cCdmarbFLlxqouvmtn3NhQvZSJEQERFeCLP0ND+BLfihhLH5lNE/sa2ifJ4RcBoBXsk6DR1XjAoBmAngJA4F27BhQ80pWIwdgQEsjIDaCFjfFVC7V25f9wjADxb+j3AuB0EICyNgVARYyRr1yqs474MHDxJCZiEg70AkDwsjYFQEWMka9cqrNG/YjRFsgAge8BIEBASo1BM3ywj4BgKatcmC4V2PzPW+cVs4P8qhQ4eSyFpK/v7+NGbMGOcb4pqMgE4Q0KyS9QXmevg6IponZ47kEcIodXJ/ODSNLVu2yHQf4BSdOnUqJUr0n1O+Qw1xYUZARwioomThLN7rm43SAVvBqn7t3NS2ZRF5rO/AzZLMWDn39f+VixD54gvM9UdP3KavBm+myhWy0Nhh1ZTpmN+3B12in3/db/4eR5A2z/r5M5miecbsA7RlxwXzOcTd//yD53JcmTt20wcwJiHoAGxLPXr0oLJly7qpZW6GEfBtBFRRsghnefT4pYxwAUM8QkLaHYAAAA8ASURBVBsVfs1Xr97Sy1ehdPfec8n3mUSQJyvnLKHUKnM95gUB6TPy2UOQsA6CH5frN57IKB58R6QP2PsfC0d5OKJnF9E2CikIjj199lo61CNFCkJCfVUUxQpyj4IFC9KAAQN8dSo8bkbA7QioGoyA1CD1BD9mmxaFSZJmfBw+Il0CGi+kxp/lo55dSjk1KTyql60+y6m6y+c1NTugWzLXzxMZPcFc37v/JqvM9SAjqd1ksVCm72j8iOpUtHA6qlYvkHp0LkkB1XLIpHWI5gFrf6H8acxjmygS9iGMc/1vX4T5Qfll7gEZdbRxxRciLYftqB+tBiNMnz6dhg0bJpmSwBWaPXt289z5AyNgdARUXT4lS+pH5QUBxvotZ6lDm6LmVdzufVdFPPU7qlopq9P4g8CjR2fnFDQo5RRJkjiufNQHc/0Pk/+SDuoHDt2QzPXhU4PA1pg9WzIKFmGLfYTJo3f3MpJeD8c79/pdxsJjhRs+dLFuQC5aseYkbRWsTgpJCPqHOQHpUuxRsMp4tfYOpnplgwtMW6xgtXaFeDzeRkBVJYvJQcEE7blC+w9cpzIl/eV8t++6JImV8+YOS9rhKBgtm0ZOfuxIW3lypaS+PcqGYa63lhoEin3qD7Xp2vUntGv3ZVq0/CjdFgQcYLwHaTSIN/KKtqJHFwUtJEe25CKvUwr6feMZs5JFbPv1GyHU9vMiFiV96yPY6zt16iSZ6+vXr08tW7b0rQnwaBkBDyCgup8sFCsIjNdtOiun8/zFG0nu8UnFLB6Ynv1dgLleWeFGxVwPM8VTYWeGrfn163eyA2QihX0Vx98I1zNrgh+bU2fu0aUrj+Rp/NAgB1UlkXDPV6Vv37505coVmRQPRDAsjAAjEBEB1VeyWNXVqpGTlqw8JjeC4PIEH9iqIqmcq+Jp5nqMt+c3G6S5AApykOAuXSDo7MAPumzVCWmTxSbevGkNzDZfZY41qmSnKb/sp983nZH5nbYHXaQSxTJIsmmljC+9I1Po2rVrRZrr2DJvE7tr+dLV47F6EgHVlSwmUycgJy1YdoQ2bT1PwUduUvq0CSPwezo6aawovcFcf094RcCbYKQgei4u7Knf/RhEcDebKDKlfv3tFjohqOtCnr4S0wnL7ATm/srlM9OWbReoqshDdePWU+rQWjDo+6DADjtkyBA58uHDh8ukdj44DR4yI+ARBDyiZOEDWrhgWlqy4hg9EW5NLRrbtqVqlbleYcuHWxoIo+G2Ba7OZg3z04yf6kqXLGsuabiaMBls2X6Bho3dKZIJxqAKZTN55CK7sxPkX+rQoYO0w9atW1faZN3ZPrfFCOgNAY8oWYBWTygYpOGA2GMq0CpzvWU6k9giuAAChalIZAoW50EOjVU8VrEVymQy+9cqdbX+/v79e+revTtdu3aNsmbNSpMnT9b6kHl8jIDXEVB940uZYRWx0QWHe+Q/ypk9uXI40nfLPPJqMtcjKAKCjazImOuROsSaZBNJ8VYENqOBfStYOx3hGLwTAqrnlMft+aGJ0ICXD/z000+0detW8vPzo3nz5gnXs4ReHhF3zwhoHwGPrWRDhV8sHq3t9Y2F/+jSuU1UY67vIDar8LImMybWsXbY6jHLpHlWC4Q7+OJlqNgsEqYCsZL1JUGQwffffy+HDPrCvHnz+tLweayMgNcQ8JiS3SZclrBStFfJAhG9MdfjR2a7CEhA5tKozApeuxsi6RhuWl27diWYC2CPbdq0aSQl+TAjwAiER0A1cwE2ruYuPCRXr8+evaFZgcEEEwAc840kK0WkFxLbQZaKjb87wjzxRfNCPgMBQnlbt25N2PAqWbKk25Ih+gwAPFBGwEUEVFvJrlx7klatPSV33s+K6KbHT15S944lXRyub1UHL8IEwVuAYIxsghzmn+DrMvggf55UPjERhfjl9OnTlDZtWmmHhV8sCyPACNiPgGorWdgcwTi1VwQfPHz0grq2L2HXhpf9Q9d+SfAigCjm/sMXtF+ksM7kn0TyHWh/5B9GiI2udevWyYADbHQhXxcLI8AIOIaAqixcUC6nhA9pzuwpKE3qBI6NTCel3783EXhnIVjBWrp7OTpFT7Jwbdq0idq2bSvtsMjXhVQyLIwAI+A4AqoqWceHwzWiQsBTShZZZmvVqkXPnz+nLl260OjRo6MaFp9jBBiBKBBQzVwQRZ98SsMIgHj7iy++kAq2SpUqNGLECA2PlofGCGgfAVay2r9GHhvh69evpSfBv//+Szly5KBZs2ZRjBj/RbN5bCDcESOgIwRYyWr0YkLhIVdWcHBwlCM8cOCATPeC8q4IPAl69epFaC9ZsmS0ePFiSpw4LMmNK+1zXUbAqAiwktXolX/w4AH99ttv1L9//yhHiCishQsXCi5b66G/UVa2OPnDDz/QqlWrzJ4EWbJoi+/XYqj8kRHwKQRYyWr0cqVLl46qVq1KR48epb1791od5fnz5ykoKIgaN25MKVKksFrGnoNQ5giVhYB8mzPN2oMal2EE7EOAlax9OHmlVOfOnWW/gYGBVvufM2eOTMHdvn17q+ftOfjXX39Rnz59ZDvIdMCuWvagxmUYAfsRYBcu+7HyeEnYScuVK0dXr16l48ePU9y4cWWqFwzk5MmTMswVG1RgxnJGzpw5Q3Xq1BEcv0+oUaNGNGPGDIoGqjAWRoARcBsCvJJ1G5TubwgKTyHIXrp0aZgO8IgPP1YEDDgjt2/fphYtWkgFC/PAlClTWME6AyTXYQRsIMArWRsAefs0FGnBggWlzXXHjh2UOXNmOaRMmTLRo0eP6MSJE5Lf1ZFxYpMMWQ2wGs6VKxetX7+ekiRJ4kgTXJYRYATsRIBXsnYC5a1i8ePHp88//5wuXboUZgMMJgRQDoJA2xF58+aNXP1CwaZJk4awQmYF6wiCXJYRcAwBVrKO4eWV0vXr15f9LlmyJEz/jpoKwAf75Zdf0p9//knILrts2TLy9/cP0yZ/YQQYAfciwOYC9+KpSmvv3r2TEViIvgKvK6RAgQIE84EjMnDgQJm+G3SFy5cvp/LlyztSncsyAoyAEwjwStYJ0DxdBcq1dOnSZgWL/osWtZ46J7KxTZw4USrY6NGjSy8CVrCRIcXHGQH3IsBK1r14qtZahQphkzXmz5/f7r7mz59PY8eOleXHjRtH9erVs7suF2QEGAHXEGAl6xp+HqsdfuVpr5JdvXq1OTQXIbrt2rXz2Ji5I0aAESBiJesjd0G+fPnCeAHA9cqWbNu2TW50YcOrU6dO1K9fP1tV+DwjwAi4GQFWsm4GVK3mYEstVaqUuflYsWKZP1v7AL4DrFpDQ0OpWbNmNGbMGGvF+BgjwAiojAArWZUBdkfzDx8+pD179lBISIi5OdhZoUhxLrwcOnSIWrZsSa9evaLatWvTpEmTOJorPEj8nRHwEALswuUhoJ3pBuTZoDKEuxV4DKwJQm9B6vLNN99QhgwZZBRXgwYNZDRY5cqVJS8sZ5i1hhwfYwQ8gwArWc/g7HAvixYtokGDBtHLly/lKjRjxoyUNWtWSX0ICkQcB2nMtWvXpAJG5Ffv3r1lNgOkkIHLF/gNHI0Ic3igXIERYASiRICVbJTweOckuF3Hjx8vOwcL18iRIyV/gbXRgG926NChYUJu4UO7cuVKSpgwobUqfIwRYAQ8iADbZD0Itj1dbdmyRZoIYAYYPHgwrVmzJlIFi/YKFSpEa9eupa5du5qb7969OytYMxr8gRHwLgK8kvUu/mF6R8gsaAfv3bsnXa+GDx8e5rytLyDfhpkhVapUcmXLObpsIcbnGQH1EeCVrPoY293D1KlTpYLNkyePXMXaXfFjQWySoe7du3dp2rRpjlbn8owAI6ACAqxkVQDVmSZBQbhgwQJZdciQIWTLD9ZaH6iDzTIIUtagTRZGgBHwLgKsZL2Lv7l3pOIGCXfq1KllAkXzCQc/1KhRg1KmTCn9Z22lE3ewaS7OCDACTiDAStYJ0NSocvr0adls8eLFCdFdzgrqog2I0qazbXE9RoARcB0B5/+bXe+bW7BA4NmzZ/JbsmTJLI4691FpQ2nTuVa4FiPACLgDAVay7kDRDW2AMxYCrgFX5e3bt7IJpU1X2+P6jAAj4DwCrGSdx86tNWGLhVy5ckW+u/Ln8uXLsrrSpittcV1GgBFwDQFWsq7h57baJUqUkG2B3MUa6Yu9HSGk9vDhw7J4yZIl7a3G5RgBRkAlBFjJqgSso81myZJFppSB29XMmTMdrW4uj7owOUBpg++AhRFgBLyLACtZ7+IfpndEbEEQSHD+/Pkw5+z5cvbsWZo+fbosCrIYFkaAEfA+AqxkvX8NzCOoWbMmffrpp5IHtn379mH4Y82FIvnw5MkT6tChA71+/ZoCAgII/rIsjAAj4H0EWMl6/xqEGcHkyZMlL+yZM2cIShd0hrYETFwoi5Wsv7+/JOm2VYfPMwKMgGcQYIIYz+DsUC9Qlk2aNKFbt27J8NqmTZtSw4YNJUesQsAN2+2+ffto1apVtGLFCoLbVrp06eTnnDlzOtQfF2YEGAH1EGAlqx62LrUMLwHwxEKBKgJugjRp0sivUMCKPyxoEaGUwTubPHlypTi/MwKMgAYQYCWrgYsQ1RDg0rVw4UJC5tnbt2+HKQqFW716dWrVqhUVKVIkzDn+wggwAtpAgJWsNq6DXaOA/+z169dlOpr06dOTEj5rV2UuxAgwAl5BgJWsV2DnThkBRsAoCLB3gVGuNM+TEWAEvIIAK1mvwM6dMgKMgFEQYCVrlCvN82QEGAGvIMBK1iuwc6eMACNgFARYyRrlSvM8GQFGwCsIsJL1CuzcKSPACBgFAVayRrnSPE9GgBHwCgKsZL0CO3fKCDACRkGAlaxRrjTPkxFgBLyCACtZr8DOnTICjIBREGAla5QrzfNkBBgBryDAStYrsHOnjAAjYBQEWMka5UrzPBkBRsArCLCS9Qrs3CkjwAgYBQFWska50jxPRoAR8AoCrGS9Ajt3yggwAkZBgJWsUa40z5MRYAS8ggArWa/Azp0yAoyAURBgJWuUK83zZAQYAa8gwErWK7Bzp4wAI2AUBFjJGuVK8zwZAUbAKwiwkvUK7NwpI8AIGAUBVrJGudI8T0aAEfAKAv8PF4Q6KpVINu8AAAAASUVORK5CYII=)"
      ],
      "metadata": {
        "id": "EdxRXzz358px"
      }
    },
    {
      "cell_type": "code",
      "source": [
        "#TYPE YOUR SOLUTION HERE"
      ],
      "metadata": {
        "id": "qqIisS25pMm5"
      },
      "execution_count": null,
      "outputs": []
    },
    {
      "cell_type": "markdown",
      "source": [
        "### **EXERCISE 2.** \n",
        "\n",
        "Specify a program graph for the power function computing the power 2^n of a number 𝑛 ≥ 0: upon termination the variable y should hold the value of the n’th power of 2. "
      ],
      "metadata": {
        "id": "IiH2Xppf6rbg"
      }
    },
    {
      "cell_type": "code",
      "source": [
        "#TYPE YOUR SOLUTION HERE"
      ],
      "metadata": {
        "id": "Tc2TcLCK7BPw"
      },
      "execution_count": null,
      "outputs": []
    },
    {
      "cell_type": "markdown",
      "source": [
        "## **GENERATING PROGRAM GRAPHS WITH FLLOAT**\n",
        "\n",
        "FLLOAT (From LTLf and LDLf tO Automata) is a Python library for translating Linear-time Temporal Logic (LTL) and Linear Dynamic Logic (LDL) formulas with finite-trace semantics to automata, so as to perform satisfiability and validity reasoning tasks in the finite-trace setting. The tool also allows for exporting automata in the graphviz format as well as providing the traditional automata operations through the jautomata library (determinization, intersection, negation, trimming and so on).\n",
        "\n",
        "First of all, you have to install the library:"
      ],
      "metadata": {
        "id": "qpZ_thVW8YlD"
      }
    },
    {
      "cell_type": "code",
      "source": [
        "!pip install flloat"
      ],
      "metadata": {
        "id": "Qu_lkt5DKjqG"
      },
      "execution_count": null,
      "outputs": []
    },
    {
      "cell_type": "markdown",
      "source": [
        "Then, you have to specify your program and visualize the related program graph:"
      ],
      "metadata": {
        "id": "XJMZHieMLvMe"
      }
    },
    {
      "cell_type": "code",
      "source": [
        "from flloat.parser.ltlf import LTLfParser\n",
        "\n",
        "# parse the formula\n",
        "parser = LTLfParser()\n",
        "formula = \"F (a & b)\"\n",
        "parsed_formula = parser(formula)\n",
        "dfa = parsed_formula.to_automaton()\n",
        "graph = dfa.to_graphviz()\n",
        "graph"
      ],
      "metadata": {
        "id": "TfhTh1dvL3jC"
      },
      "execution_count": null,
      "outputs": []
    },
    {
      "cell_type": "markdown",
      "source": [
        "So you can check assignments using both parsed formulas and automata:"
      ],
      "metadata": {
        "id": "a4rddQT4OqVy"
      }
    },
    {
      "cell_type": "code",
      "source": [
        "from pickle import TRUE\n",
        "test = [{\"a\": True, \"b\": True}]\n",
        "assert parsed_formula.truth(test)"
      ],
      "metadata": {
        "id": "K86-bbKyPY6W"
      },
      "execution_count": null,
      "outputs": []
    },
    {
      "cell_type": "code",
      "source": [
        "assert dfa.accepts(test)"
      ],
      "metadata": {
        "id": "3n5qE-X4PiWi"
      },
      "execution_count": null,
      "outputs": []
    },
    {
      "cell_type": "code",
      "source": [
        "from pickle import TRUE\n",
        "test = [{\"a\": True, \"b\": False}]\n",
        "assert parsed_formula.truth(test)"
      ],
      "metadata": {
        "id": "EWB3r1kcsk78"
      },
      "execution_count": null,
      "outputs": []
    },
    {
      "cell_type": "code",
      "source": [
        "assert dfa.accepts(test)"
      ],
      "metadata": {
        "id": "wE_s4eY5sq44"
      },
      "execution_count": null,
      "outputs": []
    },
    {
      "cell_type": "markdown",
      "source": [
        "### **EXERCISE 3.** \n",
        "\n",
        "Consider the following statement: \"**every man is intelligent**\". Implement a fórmula for this and evaluate every possible test."
      ],
      "metadata": {
        "id": "eoEHzUAwPu5F"
      }
    },
    {
      "cell_type": "code",
      "source": [
        "#TYPE YOUR CODE HERE"
      ],
      "metadata": {
        "id": "HOQgAqsOP7ak"
      },
      "execution_count": null,
      "outputs": []
    },
    {
      "cell_type": "markdown",
      "source": [
        "### **EXERCISE 4.** \n",
        "\n",
        "Consider the following statement: \"**every prime number is divisible by 1 and itself**\". Implement a fórmula for this and evaluate every possible test."
      ],
      "metadata": {
        "id": "Fj8GHvG0u9jW"
      }
    },
    {
      "cell_type": "code",
      "source": [
        "#TYPE YOUR CODE HERE"
      ],
      "metadata": {
        "id": "jbhgFTwru8zp"
      },
      "execution_count": null,
      "outputs": []
    },
    {
      "cell_type": "markdown",
      "source": [
        "### **EXERCISE 5.** \n",
        "\n",
        "Consider the following statement: \"**a natural number p is prime if and only if p is divisible by 1 and itself**\". Implement a fórmula for this and evaluate every possible test."
      ],
      "metadata": {
        "id": "EzfMlchAvwUu"
      }
    },
    {
      "cell_type": "code",
      "source": [
        "#TYPE YOUR CODE HERE"
      ],
      "metadata": {
        "id": "iQsBuzPKv_CR"
      },
      "execution_count": null,
      "outputs": []
    },
    {
      "cell_type": "markdown",
      "source": [
        "### **HOMEWORK** \n",
        "\n",
        "1.   Consider the following statement: \"**if a man is intelligent and knows  a lot of things about Medicine then this man is a doctor**\". Implement a fórmula for this and evaluate every possible test. "
      ],
      "metadata": {
        "id": "keKsSkvVT5Xn"
      }
    },
    {
      "cell_type": "code",
      "source": [
        "#TYPE YOUR IMPLEMENTATION HERE, generating a program graph g.\n",
        "g="
      ],
      "metadata": {
        "id": "BsBI3bZ9Usfn"
      },
      "execution_count": null,
      "outputs": []
    },
    {
      "cell_type": "code",
      "source": [
        "#TEST YOUR IMPLEMENTATION HERE BEFORE SUBMITTING IT\n",
        "test = [{ }]\n",
        "assert g.accepts(test)"
      ],
      "metadata": {
        "id": "A8wj7F1LU7Iu"
      },
      "execution_count": null,
      "outputs": []
    },
    {
      "cell_type": "markdown",
      "source": [
        "2.   Consider the following statement: \"**if the weather today is cloudy or windy, then tomorrow will rain or be cloudy**\". Implement a fórmula for this and evaluate every possible test."
      ],
      "metadata": {
        "id": "1zsDbEpfxFJd"
      }
    },
    {
      "cell_type": "code",
      "source": [
        "#TYPE YOUR IMPLEMENTATION HERE, generating a program graph g.\n",
        "g="
      ],
      "metadata": {
        "id": "6XUcXNldxYJf"
      },
      "execution_count": null,
      "outputs": []
    },
    {
      "cell_type": "code",
      "source": [
        "#TEST YOUR IMPLEMENTATION HERE BEFORE SUBMITTING IT\n",
        "test = [{ }]\n",
        "assert g.accepts(test)"
      ],
      "metadata": {
        "id": "KAbgeM99xbNT"
      },
      "execution_count": null,
      "outputs": []
    }
  ]
}