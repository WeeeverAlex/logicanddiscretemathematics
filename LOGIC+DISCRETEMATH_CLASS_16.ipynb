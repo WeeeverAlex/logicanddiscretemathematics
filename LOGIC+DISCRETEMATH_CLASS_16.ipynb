{
  "nbformat": 4,
  "nbformat_minor": 0,
  "metadata": {
    "colab": {
      "provenance": [],
      "include_colab_link": true
    },
    "kernelspec": {
      "name": "python3",
      "display_name": "Python 3"
    },
    "language_info": {
      "name": "python"
    }
  },
  "cells": [
    {
      "cell_type": "markdown",
      "metadata": {
        "id": "view-in-github",
        "colab_type": "text"
      },
      "source": [
        "<a href=\"https://colab.research.google.com/github/lucianosilva-github/logicanddiscretemathematics/blob/main/LOGIC%2BDISCRETEMATH_CLASS_16.ipynb\" target=\"_parent\"><img src=\"https://colab.research.google.com/assets/colab-badge.svg\" alt=\"Open In Colab\"/></a>"
      ]
    },
    {
      "cell_type": "markdown",
      "source": [
        "<div class=\"alert alert-block alert-info\">\n",
        "\n",
        "#**CLASS 16 - TYPE THEORY - PART VI**\n",
        "**Learning Objectives:**\n",
        "* RECURRENCE RELATIONS\n",
        "* SOLVING RECURRENCE RELATIONS WITH PYTHON\n"
      ],
      "metadata": {
        "id": "33EEpDW7pOaO"
      }
    },
    {
      "cell_type": "markdown",
      "source": [
        "**RECURRENCE RELATIONS**\n",
        "\n",
        "In mathematics, a recurrence relation is an equation that recursively defines a sequence, once one or more initial terms are given: each further term of the sequence is defined as a function of the preceding terms.\n",
        "\n",
        "Recurrence relations are used to determine the running time of recursive programs – recurrence relations themselves are recursive:\n",
        "\n",
        "* T(0) = Time to solve problem of size 0\n",
        "* T(n) = Time to solve problem of size n\n",
        "\n",
        "Examples:\n",
        "\n",
        "* T(0) = 1, T(n ) = T(n-1) + 1\n",
        "* T(0) =1 , T(1) = 1, T(n) = T(n -1) + T(n-2) ,  Fibbanocci Sequence\n",
        "\n",
        "Given a recurrence relation, one wants to obtain a closed solution T(n).\n"
      ],
      "metadata": {
        "id": "bR0VEroxclwf"
      }
    },
    {
      "cell_type": "markdown",
      "source": [
        "**EXERCISE 1**\n",
        "\n",
        "Consider the following Python function:"
      ],
      "metadata": {
        "id": "gNUSOmRr4ehC"
      }
    },
    {
      "cell_type": "code",
      "source": [
        "def f(n):\n",
        "  if n==0:\n",
        "    return 0\n",
        "  else:\n",
        "    return 1+f(n-1)\n",
        "\n",
        "f(5)"
      ],
      "metadata": {
        "id": "gOpokEe4U4NT",
        "outputId": "19347b01-4240-44ad-9f6d-af940954f541",
        "colab": {
          "base_uri": "https://localhost:8080/"
        }
      },
      "execution_count": 1,
      "outputs": [
        {
          "output_type": "execute_result",
          "data": {
            "text/plain": [
              "5"
            ]
          },
          "metadata": {},
          "execution_count": 1
        }
      ]
    },
    {
      "cell_type": "markdown",
      "source": [
        "How many arithmetical operations are used to evaluate f(n) ?"
      ],
      "metadata": {
        "id": "q21RhpEDVNOP"
      }
    },
    {
      "cell_type": "markdown",
      "source": [
        "**ANSWER**: first of all, let's build a recurrence relation to calculate the number of arithmetical operations T(n) needed to evaluate f(n):\n",
        "\n",
        "* if n=0, T(0)=0 because it corresponds to the first if\n",
        "* if n>0, T(n)=2+T(n-1) because we are using two arithmetical operations (+ and -) plus the recursive counting T(n-1).\n",
        "\n",
        "So, we need to solve de following the following recurrence relation:\n",
        "\n",
        "* T(0)=0\n",
        "* T(n)=2+T(n-1), n>0\n",
        "\n",
        "This equation can be easily solved using sympy:"
      ],
      "metadata": {
        "id": "kRmNUdnvVYLt"
      }
    },
    {
      "cell_type": "markdown",
      "source": [
        "**PROJECT - DUE TO: 12/05/2023**\n",
        "\n"
      ],
      "metadata": {
        "id": "0b8ooq1JFz8l"
      }
    },
    {
      "cell_type": "markdown",
      "source": [
        "Prove that the heapsort algorithm works. "
      ],
      "metadata": {
        "id": "ObQ1IDi4GZRz"
      }
    },
    {
      "cell_type": "code",
      "source": [
        "\n",
        "def heapify(arr, size, i):    \n",
        "    larger = i \n",
        "    left = 2 * i + 1\n",
        "    right = 2 * i + 2\n",
        "    if left < size and arr[i] < arr[left]:\n",
        "        larger = left\n",
        "    if right < size and arr[larger] < arr[right]:\n",
        "        larger = right\n",
        "    if larger != i:\n",
        "        arr[i], arr[larger] = arr[larger], arr[i] #swap\n",
        "        heapify(arr, size, larger) #heapify again\n",
        "\n",
        "def heapSort(arr):\n",
        "    n = len(arr)      \n",
        "    for i in range(n//2, -1, -1):  # Build heap\n",
        "        heapify(arr, n, i) \n",
        "    for i in range(n-1, 0, -1):  # sort\n",
        "        arr[i], arr[0] = arr[0], arr[i] # Swap\n",
        "        heapify(arr, i, 0) # Heapify \n",
        "\n",
        "\n",
        "arr = [19, 33, 4, 61, 5, 38, -36, 21, 0]\n",
        "heapSort(arr)\n",
        "print(\"Heap sort (recursion): \" + str(arr))"
      ],
      "metadata": {
        "id": "LxCr3_xjGIXe",
        "outputId": "0ee54432-bb30-47eb-cbd1-e92b07a1e452",
        "colab": {
          "base_uri": "https://localhost:8080/"
        }
      },
      "execution_count": null,
      "outputs": [
        {
          "output_type": "stream",
          "name": "stdout",
          "text": [
            "Heap sort (recursion): [-36, 0, 4, 5, 19, 21, 33, 38, 61]\n"
          ]
        }
      ]
    }
  ]
}