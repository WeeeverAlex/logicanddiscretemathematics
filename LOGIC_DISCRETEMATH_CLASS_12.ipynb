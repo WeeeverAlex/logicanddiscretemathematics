{
  "nbformat": 4,
  "nbformat_minor": 0,
  "metadata": {
    "colab": {
      "provenance": [],
      "include_colab_link": true
    },
    "kernelspec": {
      "name": "python3",
      "display_name": "Python 3"
    },
    "language_info": {
      "name": "python"
    }
  },
  "cells": [
    {
      "cell_type": "markdown",
      "metadata": {
        "id": "view-in-github",
        "colab_type": "text"
      },
      "source": [
        "<a href=\"https://colab.research.google.com/github/lucianosilva-github/logicanddiscretemathematics/blob/main/LOGIC_DISCRETEMATH_CLASS_12.ipynb\" target=\"_parent\"><img src=\"https://colab.research.google.com/assets/colab-badge.svg\" alt=\"Open In Colab\"/></a>"
      ]
    },
    {
      "cell_type": "markdown",
      "source": [
        "<div class=\"alert alert-block alert-info\">\n",
        "\n",
        "#**CLASS 12 - TYPE THEORY - PART II**\n",
        "**Learning Objectives:**\n",
        "*   CUSTOM DATATYPES\n",
        "*   REPRESENTATION INVARIANTS\n",
        "*   PROGRAMMING WITH CUSTOM DATATYPES\n"
      ],
      "metadata": {
        "id": "33EEpDW7pOaO"
      }
    },
    {
      "cell_type": "markdown",
      "source": [
        "**CUSTOM DATA TYPES**\n",
        "\n",
        "Up to this point, all the data we’ve worked with in Python have been stored in objects that are instances of the built-in types that come with Python, like ints and lists. Python’s built-in data types are powerful, but are not always the most intuitive way to store data.\n",
        "\n",
        "For example, suppose we want to represent a “person” consisting of a given name, family name, age, and home address. We already know how to represent each individual piece of data: the given name, family name, and address could be strings, and the age could be a natural number. To bundle these values together, we could use a list or other built-in collection data type, but that approach would run into the issues we discussed above.\n",
        "\n",
        "So instead, we define our own data class to create a new data type consisting of these four values. Here is the way to create a data class in Python:"
      ],
      "metadata": {
        "id": "bR0VEroxclwf"
      }
    },
    {
      "cell_type": "code",
      "source": [
        "from dataclasses import dataclass\n",
        "\n",
        "\n",
        "@dataclass\n",
        "class Person:\n",
        "    \"\"\"A custom data type that represents data for a person.\n",
        "    \"\"\"\n",
        "    given_name: str\n",
        "    family_name: str\n",
        "    age: int\n",
        "    address: str"
      ],
      "metadata": {
        "id": "N93MFTDoc0qZ"
      },
      "execution_count": null,
      "outputs": []
    },
    {
      "cell_type": "markdown",
      "source": [
        "Now that we’ve seen how to define a data class, we now are ready to actually put it to use. For built-in Python data types, we know how to create values of those types: type in literals like 3 or ['hi', 'bye']. But with our Person data class, what is the corresponding literal we can write?\n",
        "\n",
        "The answer is there isn’t—the possible literals of the Python programming language are fixed, and can’t be changed even after defining a new data type. But all is not lost! By defining a Person data class, we have gained the ability to call the data class like a function to create values whose type is Person.We’ve actually seen this before: we create range values by calling range like a function, e.g. range(1, 10), and just in the last section we created datetime.date objects like datetime.date(2011, 1, 1). Here is an example of creating a Person value, passing in as arguments the values for each instance attribute:"
      ],
      "metadata": {
        "id": "3wvG96lQdIGw"
      }
    },
    {
      "cell_type": "code",
      "source": [
        "david = Person('David', 'Liu', 100, '40 St. George Street')"
      ],
      "metadata": {
        "id": "eKCamh58dKDV"
      },
      "execution_count": null,
      "outputs": []
    },
    {
      "cell_type": "markdown",
      "source": [
        "That line of code creates a new Person value whose given name is 'David', family name is 'Liu', age is 100, and address is '40 St. George Street', and stores the value in the variable david. The type of this new value is, as we’d expect, Person:"
      ],
      "metadata": {
        "id": "Qmi7hxJJdWCi"
      }
    },
    {
      "cell_type": "code",
      "source": [
        "type(david)"
      ],
      "metadata": {
        "colab": {
          "base_uri": "https://localhost:8080/"
        },
        "id": "nJdJR8TQdXW5",
        "outputId": "08923c92-757f-484b-ac2d-5b16c5c85d24"
      },
      "execution_count": null,
      "outputs": [
        {
          "output_type": "execute_result",
          "data": {
            "text/plain": [
              "__main__.Person"
            ]
          },
          "metadata": {},
          "execution_count": 4
        }
      ]
    },
    {
      "cell_type": "markdown",
      "source": [
        "**Constraining data class values: representation invariants**\n",
        "\n",
        "In our Person data class definition, we specify the type of each instance attribute. By doing so, we constrain the possible values can be stored for these attributes: for example, a Person’s given_name can’t be 3.5, and age can’t be 'millennial'.\n",
        "\n",
        "However, just as we saw with function type contracts, we don’t always want to allow every possible value of a given type for an attribute. For example, the age attribute for Person has a type annotation int, but we certainly would not allow negative integers to be stored here! Somehow, we’d like to record a second piece of information about this attribute: that age >= 0. This kind of constraint is called a representation invariant, which is a predicate describing how we represent values of a data class. These constraints must always be true, for every instace of the data class we create—they can never vary.The term invariant is used in a few different contexts in computer science; we’ll explore one other kind of invariant a bit later in this chapter.\n",
        "\n",
        "All attribute type annotations, like age: int, are representation invariants. However, we can express general representation invariants as well by adding them to the data class docstring. Whenever possible, we write representation invariants as Python expressions rather than English, for a reason we’ll see below. Here is how we add non-type-annotation representation invariants in a class docstring:"
      ],
      "metadata": {
        "id": "rJ6THyTodvBd"
      }
    },
    {
      "cell_type": "code",
      "source": [
        "@dataclass\n",
        "class Person:\n",
        "    \"\"\"A custom data type that represents data for a person.\n",
        "\n",
        "    Representation Invariants:\n",
        "      - self.age >= 0\n",
        "    \"\"\"\n",
        "    given_name: str\n",
        "    family_name: str\n",
        "    age: int\n",
        "    address: str"
      ],
      "metadata": {
        "id": "0ndSx8NQd5wY"
      },
      "execution_count": null,
      "outputs": []
    },
    {
      "cell_type": "markdown",
      "source": [
        "Representation invariants are also constraints on how we can create a data class instance. Because it can be easy to miss or ignore a representation invariant buried in a class docstring, PythonTA supports checking all representation invariants, just like it does with preconditions! Let’s add a python_ta.contracts.check_contracts decorator to our Person example:"
      ],
      "metadata": {
        "id": "AP467g6BeUQ3"
      }
    },
    {
      "cell_type": "code",
      "source": [
        "!pip install python_ta"
      ],
      "metadata": {
        "colab": {
          "base_uri": "https://localhost:8080/"
        },
        "id": "ZljUddxFefl1",
        "outputId": "7027136d-79a9-42b2-aa67-9be99fce658e"
      },
      "execution_count": null,
      "outputs": [
        {
          "output_type": "stream",
          "name": "stdout",
          "text": [
            "Looking in indexes: https://pypi.org/simple, https://us-python.pkg.dev/colab-wheels/public/simple/\n",
            "Collecting python_ta\n",
            "  Downloading python_ta-2.4.2-py3-none-any.whl (248 kB)\n",
            "\u001b[2K     \u001b[90m━━━━━━━━━━━━━━━━━━━━━━━━━━━━━━━━━━━━━━\u001b[0m \u001b[32m248.7/248.7 KB\u001b[0m \u001b[31m12.3 MB/s\u001b[0m eta \u001b[36m0:00:00\u001b[0m\n",
            "\u001b[?25hCollecting pycodestyle\n",
            "  Downloading pycodestyle-2.10.0-py2.py3-none-any.whl (41 kB)\n",
            "\u001b[2K     \u001b[90m━━━━━━━━━━━━━━━━━━━━━━━━━━━━━━━━━━━━━━━━\u001b[0m \u001b[32m41.3/41.3 KB\u001b[0m \u001b[31m4.4 MB/s\u001b[0m eta \u001b[36m0:00:00\u001b[0m\n",
            "\u001b[?25hRequirement already satisfied: six in /usr/local/lib/python3.9/dist-packages (from python_ta) (1.16.0)\n",
            "Collecting astroid~=2.12.13\n",
            "  Downloading astroid-2.12.14-py3-none-any.whl (265 kB)\n",
            "\u001b[2K     \u001b[90m━━━━━━━━━━━━━━━━━━━━━━━━━━━━━━━━━━━━━━\u001b[0m \u001b[32m265.5/265.5 KB\u001b[0m \u001b[31m31.4 MB/s\u001b[0m eta \u001b[36m0:00:00\u001b[0m\n",
            "\u001b[?25hRequirement already satisfied: requests in /usr/local/lib/python3.9/dist-packages (from python_ta) (2.27.1)\n",
            "Collecting colorama\n",
            "  Downloading colorama-0.4.6-py2.py3-none-any.whl (25 kB)\n",
            "Requirement already satisfied: wrapt>=1.14.1 in /usr/local/lib/python3.9/dist-packages (from python_ta) (1.14.1)\n",
            "Requirement already satisfied: pygments in /usr/local/lib/python3.9/dist-packages (from python_ta) (2.14.0)\n",
            "Collecting pylint~=2.15.8\n",
            "  Downloading pylint-2.15.10-py3-none-any.whl (509 kB)\n",
            "\u001b[2K     \u001b[90m━━━━━━━━━━━━━━━━━━━━━━━━━━━━━━━━━━━━━━\u001b[0m \u001b[32m509.9/509.9 KB\u001b[0m \u001b[31m44.4 MB/s\u001b[0m eta \u001b[36m0:00:00\u001b[0m\n",
            "\u001b[?25hRequirement already satisfied: tabulate~=0.8.9 in /usr/local/lib/python3.9/dist-packages (from python_ta) (0.8.10)\n",
            "Requirement already satisfied: jinja2 in /usr/local/lib/python3.9/dist-packages (from python_ta) (3.1.2)\n",
            "Requirement already satisfied: toml in /usr/local/lib/python3.9/dist-packages (from python_ta) (0.10.2)\n",
            "Collecting typeguard>=2.13.3\n",
            "  Downloading typeguard-3.0.2-py3-none-any.whl (30 kB)\n",
            "Requirement already satisfied: click>=8.0.1 in /usr/local/lib/python3.9/dist-packages (from python_ta) (8.1.3)\n",
            "Collecting lazy-object-proxy>=1.4.0\n",
            "  Downloading lazy_object_proxy-1.9.0-cp39-cp39-manylinux_2_5_x86_64.manylinux1_x86_64.manylinux_2_17_x86_64.manylinux2014_x86_64.whl (62 kB)\n",
            "\u001b[2K     \u001b[90m━━━━━━━━━━━━━━━━━━━━━━━━━━━━━━━━━━━━━━━━\u001b[0m \u001b[32m62.1/62.1 KB\u001b[0m \u001b[31m6.8 MB/s\u001b[0m eta \u001b[36m0:00:00\u001b[0m\n",
            "\u001b[?25hRequirement already satisfied: typing-extensions>=3.10 in /usr/local/lib/python3.9/dist-packages (from astroid~=2.12.13->python_ta) (4.5.0)\n",
            "Collecting dill>=0.2\n",
            "  Downloading dill-0.3.6-py3-none-any.whl (110 kB)\n",
            "\u001b[2K     \u001b[90m━━━━━━━━━━━━━━━━━━━━━━━━━━━━━━━━━━━━━━\u001b[0m \u001b[32m110.5/110.5 KB\u001b[0m \u001b[31m13.2 MB/s\u001b[0m eta \u001b[36m0:00:00\u001b[0m\n",
            "\u001b[?25hRequirement already satisfied: tomli>=1.1.0 in /usr/local/lib/python3.9/dist-packages (from pylint~=2.15.8->python_ta) (2.0.1)\n",
            "Collecting isort<6,>=4.2.5\n",
            "  Downloading isort-5.12.0-py3-none-any.whl (91 kB)\n",
            "\u001b[2K     \u001b[90m━━━━━━━━━━━━━━━━━━━━━━━━━━━━━━━━━━━━━━━━\u001b[0m \u001b[32m91.2/91.2 KB\u001b[0m \u001b[31m9.2 MB/s\u001b[0m eta \u001b[36m0:00:00\u001b[0m\n",
            "\u001b[?25hCollecting mccabe<0.8,>=0.6\n",
            "  Downloading mccabe-0.7.0-py2.py3-none-any.whl (7.3 kB)\n",
            "Requirement already satisfied: platformdirs>=2.2.0 in /usr/local/lib/python3.9/dist-packages (from pylint~=2.15.8->python_ta) (3.2.0)\n",
            "Collecting tomlkit>=0.10.1\n",
            "  Downloading tomlkit-0.11.7-py3-none-any.whl (35 kB)\n",
            "Requirement already satisfied: importlib-metadata>=3.6 in /usr/local/lib/python3.9/dist-packages (from typeguard>=2.13.3->python_ta) (6.1.0)\n",
            "Requirement already satisfied: MarkupSafe>=2.0 in /usr/local/lib/python3.9/dist-packages (from jinja2->python_ta) (2.1.2)\n",
            "Requirement already satisfied: certifi>=2017.4.17 in /usr/local/lib/python3.9/dist-packages (from requests->python_ta) (2022.12.7)\n",
            "Requirement already satisfied: urllib3<1.27,>=1.21.1 in /usr/local/lib/python3.9/dist-packages (from requests->python_ta) (1.26.15)\n",
            "Requirement already satisfied: idna<4,>=2.5 in /usr/local/lib/python3.9/dist-packages (from requests->python_ta) (3.4)\n",
            "Requirement already satisfied: charset-normalizer~=2.0.0 in /usr/local/lib/python3.9/dist-packages (from requests->python_ta) (2.0.12)\n",
            "Requirement already satisfied: zipp>=0.5 in /usr/local/lib/python3.9/dist-packages (from importlib-metadata>=3.6->typeguard>=2.13.3->python_ta) (3.15.0)\n",
            "Installing collected packages: tomlkit, pycodestyle, mccabe, lazy-object-proxy, isort, dill, colorama, typeguard, astroid, pylint, python_ta\n",
            "Successfully installed astroid-2.12.14 colorama-0.4.6 dill-0.3.6 isort-5.12.0 lazy-object-proxy-1.9.0 mccabe-0.7.0 pycodestyle-2.10.0 pylint-2.15.10 python_ta-2.4.2 tomlkit-0.11.7 typeguard-3.0.2\n"
          ]
        }
      ]
    },
    {
      "cell_type": "code",
      "source": [
        "from dataclasses import dataclass\n",
        "from python_ta.contracts import check_contracts\n",
        "\n",
        "\n",
        "@check_contracts\n",
        "@dataclass\n",
        "class Person:\n",
        "    \"\"\"A person with some basic demographic information.\n",
        "\n",
        "    Representation Invariants:\n",
        "      - self.age >= 0\n",
        "    \"\"\"\n",
        "    given_name: str\n",
        "    family_name: str\n",
        "    age: int\n",
        "    address: str\n",
        "\n",
        "    def __init__(self, given_name: str,family_name: str, age: int,address: str ) -> None:\n",
        "        \"\"\"Initialize a new person.\n",
        "        \"\"\"\n",
        "        self.given_name = given_name\n",
        "        self.family_name = family_name\n",
        "        self.age = age\n",
        "        self.address=address"
      ],
      "metadata": {
        "id": "hG48xAFgeVsN"
      },
      "execution_count": null,
      "outputs": []
    },
    {
      "cell_type": "markdown",
      "source": [
        "If we run the above file in the Python console, we’ll obtain an error whenever we attempt to create a Person value with invalid attributes."
      ],
      "metadata": {
        "id": "ZpGxlit3e0aX"
      }
    },
    {
      "cell_type": "code",
      "source": [
        "david = Person(given_name='David',family_name='Liu',age=-100,address='40 St. George Street')"
      ],
      "metadata": {
        "colab": {
          "base_uri": "https://localhost:8080/",
          "height": 311
        },
        "id": "iG6emAPde5ml",
        "outputId": "d959e87b-8209-49f0-b18f-327810ec337c"
      },
      "execution_count": null,
      "outputs": [
        {
          "output_type": "error",
          "ename": "AssertionError",
          "evalue": "ignored",
          "traceback": [
            "\u001b[0;31m---------------------------------------------------------------------------\u001b[0m",
            "\u001b[0;31mAssertionError\u001b[0m                            Traceback (most recent call last)",
            "\u001b[0;32m<ipython-input-36-1053299ef534>\u001b[0m in \u001b[0;36m<cell line: 1>\u001b[0;34m()\u001b[0m\n\u001b[0;32m----> 1\u001b[0;31m \u001b[0mdavid\u001b[0m \u001b[0;34m=\u001b[0m \u001b[0mPerson\u001b[0m\u001b[0;34m(\u001b[0m\u001b[0mgiven_name\u001b[0m\u001b[0;34m=\u001b[0m\u001b[0;34m'David'\u001b[0m\u001b[0;34m,\u001b[0m\u001b[0mfamily_name\u001b[0m\u001b[0;34m=\u001b[0m\u001b[0;34m'Liu'\u001b[0m\u001b[0;34m,\u001b[0m\u001b[0mage\u001b[0m\u001b[0;34m=\u001b[0m\u001b[0;34m-\u001b[0m\u001b[0;36m100\u001b[0m\u001b[0;34m,\u001b[0m\u001b[0maddress\u001b[0m\u001b[0;34m=\u001b[0m\u001b[0;34m'40 St. George Street'\u001b[0m\u001b[0;34m)\u001b[0m\u001b[0;34m\u001b[0m\u001b[0;34m\u001b[0m\u001b[0m\n\u001b[0m",
            "\u001b[0;32m/usr/local/lib/python3.9/dist-packages/python_ta/contracts/__init__.py\u001b[0m in \u001b[0;36mwrapper\u001b[0;34m(wrapped, instance, args, kwargs)\u001b[0m\n\u001b[1;32m    323\u001b[0m     \u001b[0;32mdef\u001b[0m \u001b[0mwrapper\u001b[0m\u001b[0;34m(\u001b[0m\u001b[0mwrapped\u001b[0m\u001b[0;34m,\u001b[0m \u001b[0minstance\u001b[0m\u001b[0;34m,\u001b[0m \u001b[0margs\u001b[0m\u001b[0;34m,\u001b[0m \u001b[0mkwargs\u001b[0m\u001b[0;34m)\u001b[0m\u001b[0;34m:\u001b[0m\u001b[0;34m\u001b[0m\u001b[0;34m\u001b[0m\u001b[0m\n\u001b[1;32m    324\u001b[0m         \u001b[0;32mtry\u001b[0m\u001b[0;34m:\u001b[0m\u001b[0;34m\u001b[0m\u001b[0;34m\u001b[0m\u001b[0m\n\u001b[0;32m--> 325\u001b[0;31m             \u001b[0mr\u001b[0m \u001b[0;34m=\u001b[0m \u001b[0m_check_function_contracts\u001b[0m\u001b[0;34m(\u001b[0m\u001b[0mwrapped\u001b[0m\u001b[0;34m,\u001b[0m \u001b[0minstance\u001b[0m\u001b[0;34m,\u001b[0m \u001b[0margs\u001b[0m\u001b[0;34m,\u001b[0m \u001b[0mkwargs\u001b[0m\u001b[0;34m)\u001b[0m\u001b[0;34m\u001b[0m\u001b[0;34m\u001b[0m\u001b[0m\n\u001b[0m\u001b[1;32m    326\u001b[0m             \u001b[0;32mif\u001b[0m \u001b[0m_instance_init_in_callstack\u001b[0m\u001b[0;34m(\u001b[0m\u001b[0minstance\u001b[0m\u001b[0;34m)\u001b[0m\u001b[0;34m:\u001b[0m\u001b[0;34m\u001b[0m\u001b[0;34m\u001b[0m\u001b[0m\n\u001b[1;32m    327\u001b[0m                 \u001b[0;32mreturn\u001b[0m \u001b[0mr\u001b[0m\u001b[0;34m\u001b[0m\u001b[0;34m\u001b[0m\u001b[0m\n",
            "\u001b[0;32m/usr/local/lib/python3.9/dist-packages/python_ta/contracts/__init__.py\u001b[0m in \u001b[0;36m_check_function_contracts\u001b[0;34m(wrapped, instance, args, kwargs)\u001b[0m\n\u001b[1;32m    252\u001b[0m \u001b[0;34m\u001b[0m\u001b[0m\n\u001b[1;32m    253\u001b[0m     \u001b[0;31m# Check return type\u001b[0m\u001b[0;34m\u001b[0m\u001b[0;34m\u001b[0m\u001b[0m\n\u001b[0;32m--> 254\u001b[0;31m     \u001b[0mr\u001b[0m \u001b[0;34m=\u001b[0m \u001b[0mwrapped\u001b[0m\u001b[0;34m(\u001b[0m\u001b[0;34m*\u001b[0m\u001b[0margs\u001b[0m\u001b[0;34m,\u001b[0m \u001b[0;34m**\u001b[0m\u001b[0mkwargs\u001b[0m\u001b[0;34m)\u001b[0m\u001b[0;34m\u001b[0m\u001b[0;34m\u001b[0m\u001b[0m\n\u001b[0m\u001b[1;32m    255\u001b[0m     \u001b[0;32mif\u001b[0m \u001b[0;34m\"return\"\u001b[0m \u001b[0;32min\u001b[0m \u001b[0mannotations\u001b[0m\u001b[0;34m:\u001b[0m\u001b[0;34m\u001b[0m\u001b[0;34m\u001b[0m\u001b[0m\n\u001b[1;32m    256\u001b[0m         \u001b[0mreturn_type\u001b[0m \u001b[0;34m=\u001b[0m \u001b[0mannotations\u001b[0m\u001b[0;34m[\u001b[0m\u001b[0;34m\"return\"\u001b[0m\u001b[0;34m]\u001b[0m\u001b[0;34m\u001b[0m\u001b[0;34m\u001b[0m\u001b[0m\n",
            "\u001b[0;32m<ipython-input-35-6b7de44b59f9>\u001b[0m in \u001b[0;36m__init__\u001b[0;34m(self, given_name, family_name, age, address)\u001b[0m\n\u001b[1;32m     19\u001b[0m         \"\"\"Initialize a new person.\n\u001b[1;32m     20\u001b[0m         \"\"\"\n\u001b[0;32m---> 21\u001b[0;31m         \u001b[0mself\u001b[0m\u001b[0;34m.\u001b[0m\u001b[0mgiven_name\u001b[0m \u001b[0;34m=\u001b[0m \u001b[0mgiven_name\u001b[0m\u001b[0;34m\u001b[0m\u001b[0;34m\u001b[0m\u001b[0m\n\u001b[0m\u001b[1;32m     22\u001b[0m         \u001b[0mself\u001b[0m\u001b[0;34m.\u001b[0m\u001b[0mfamily_name\u001b[0m \u001b[0;34m=\u001b[0m \u001b[0mfamily_name\u001b[0m\u001b[0;34m\u001b[0m\u001b[0;34m\u001b[0m\u001b[0m\n\u001b[1;32m     23\u001b[0m         \u001b[0mself\u001b[0m\u001b[0;34m.\u001b[0m\u001b[0mage\u001b[0m \u001b[0;34m=\u001b[0m \u001b[0mage\u001b[0m\u001b[0;34m\u001b[0m\u001b[0;34m\u001b[0m\u001b[0m\n",
            "\u001b[0;32m/usr/local/lib/python3.9/dist-packages/python_ta/contracts/__init__.py\u001b[0m in \u001b[0;36mnew_setattr\u001b[0;34m(self, name, value)\u001b[0m\n\u001b[1;32m    173\u001b[0m                 \u001b[0mcheck_type\u001b[0m\u001b[0;34m(\u001b[0m\u001b[0mname\u001b[0m\u001b[0;34m,\u001b[0m \u001b[0mvalue\u001b[0m\u001b[0;34m,\u001b[0m \u001b[0mcls_annotations\u001b[0m\u001b[0;34m[\u001b[0m\u001b[0mname\u001b[0m\u001b[0;34m]\u001b[0m\u001b[0;34m)\u001b[0m\u001b[0;34m\u001b[0m\u001b[0;34m\u001b[0m\u001b[0m\n\u001b[1;32m    174\u001b[0m             \u001b[0;32mexcept\u001b[0m \u001b[0mTypeError\u001b[0m\u001b[0;34m:\u001b[0m\u001b[0;34m\u001b[0m\u001b[0;34m\u001b[0m\u001b[0m\n\u001b[0;32m--> 175\u001b[0;31m                 raise AssertionError(\n\u001b[0m\u001b[1;32m    176\u001b[0m                     \u001b[0;34mf\"Value {_display_value(value)} did not match type annotation for attribute \"\u001b[0m\u001b[0;34m\u001b[0m\u001b[0;34m\u001b[0m\u001b[0m\n\u001b[1;32m    177\u001b[0m                     \u001b[0;34mf\"{name}: {_display_annotation(cls_annotations[name])}\"\u001b[0m\u001b[0;34m\u001b[0m\u001b[0;34m\u001b[0m\u001b[0m\n",
            "\u001b[0;31mAssertionError\u001b[0m: Value 'David' did not match type annotation for attribute given_name: str"
          ]
        }
      ]
    },
    {
      "cell_type": "markdown",
      "source": [
        "**EXERCISE 1**\n",
        "\n",
        "Implement the new type Natural using classes and constraints, if necessary. Provide only the operation to sum 2 integer numbers."
      ],
      "metadata": {
        "id": "REGXEDJ5k_g-"
      }
    },
    {
      "cell_type": "code",
      "source": [
        "#IMPLEMENT YOUR CODE HERE"
      ],
      "metadata": {
        "id": "ctMP4a79lnB4"
      },
      "execution_count": null,
      "outputs": []
    },
    {
      "cell_type": "markdown",
      "source": [
        "**EXERCISE 2**\n",
        "\n",
        "Implement the new type Natural using classes and constraints, if necessary. Provide only the operation to sum 2 natural numbers."
      ],
      "metadata": {
        "id": "J-HiAG7qlwfh"
      }
    },
    {
      "cell_type": "code",
      "source": [],
      "metadata": {
        "id": "rO2F47rRl2Na"
      },
      "execution_count": null,
      "outputs": []
    },
    {
      "cell_type": "markdown",
      "source": [
        "**EXERCISE 3**\n",
        "\n",
        "Implement the new type Rational using classes and constraints, if necessary. Provide only the operation to sum 2 rational numbers."
      ],
      "metadata": {
        "id": "E2fSAXmWl38g"
      }
    },
    {
      "cell_type": "code",
      "source": [],
      "metadata": {
        "id": "RJ4AgilzmCP8"
      },
      "execution_count": null,
      "outputs": []
    },
    {
      "cell_type": "markdown",
      "source": [
        "**EXERCISE 4**\n",
        "\n",
        "Implement the new type Real using classes and constraints, if necessary. Provide only the operation to sum 2 real numbers."
      ],
      "metadata": {
        "id": "yIWOTR6ymETE"
      }
    },
    {
      "cell_type": "code",
      "source": [],
      "metadata": {
        "id": "D1nEFHOUmKCn"
      },
      "execution_count": null,
      "outputs": []
    },
    {
      "cell_type": "markdown",
      "source": [
        "**EXERCISE 5**\n",
        "\n",
        "Implement the new type Complex using classes and constraints, if necessary. Provide only the operation to sum 2 complex numbers."
      ],
      "metadata": {
        "id": "m47SRxjOmK2R"
      }
    },
    {
      "cell_type": "code",
      "source": [],
      "metadata": {
        "id": "jownc7z6mQSS"
      },
      "execution_count": null,
      "outputs": []
    },
    {
      "cell_type": "markdown",
      "source": [
        "**EXERCISE 6**\n",
        "\n",
        "Implement the new type Quaternion using classes and constraints, if necessary. Provide only the operation to sum 2 quaternionic numbers."
      ],
      "metadata": {
        "id": "PrktxxWImT0c"
      }
    },
    {
      "cell_type": "code",
      "source": [],
      "metadata": {
        "id": "RV64bCsImYHO"
      },
      "execution_count": null,
      "outputs": []
    },
    {
      "cell_type": "markdown",
      "source": [
        "**HOMEWORK**"
      ],
      "metadata": {
        "id": "qBO-FfvomdeC"
      }
    },
    {
      "cell_type": "markdown",
      "source": [
        "**EXERCISE 1**\n",
        "\n",
        "Implement the new type Octonion using classes and constraints, if necessary. Provide only the operation to sum 2 ocotnioninc numbers."
      ],
      "metadata": {
        "id": "uzgJ4HJVmgeT"
      }
    },
    {
      "cell_type": "code",
      "source": [],
      "metadata": {
        "id": "1HuSpmi2moQD"
      },
      "execution_count": null,
      "outputs": []
    },
    {
      "cell_type": "markdown",
      "source": [
        "**EXERCISE 2**\n",
        "\n",
        "Implement the new type Sedenion using classes and constraints, if necessary. Provide only the operation to sum 2 sedenioninc numbers."
      ],
      "metadata": {
        "id": "ldHOw9Y1mpDX"
      }
    },
    {
      "cell_type": "code",
      "source": [],
      "metadata": {
        "id": "M4upgaM4m39g"
      },
      "execution_count": null,
      "outputs": []
    }
  ]
}